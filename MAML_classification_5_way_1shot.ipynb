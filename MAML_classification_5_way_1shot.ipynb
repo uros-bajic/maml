{
  "nbformat": 4,
  "nbformat_minor": 0,
  "metadata": {
    "colab": {
      "provenance": [],
      "gpuType": "T4",
      "machine_shape": "hm"
    },
    "kernelspec": {
      "name": "python3",
      "display_name": "Python 3"
    },
    "language_info": {
      "name": "python"
    },
    "accelerator": "GPU"
  },
  "cells": [
    {
      "cell_type": "code",
      "source": [
        "import torchvision.transforms.functional as F"
      ],
      "metadata": {
        "id": "2CvxmsJuzD9p"
      },
      "execution_count": null,
      "outputs": []
    },
    {
      "cell_type": "code",
      "source": [
        "!python --version"
      ],
      "metadata": {
        "colab": {
          "base_uri": "https://localhost:8080/"
        },
        "id": "Jc3SrZB-i61Z",
        "outputId": "7ee024c1-a179-44f6-f25f-d4160daf396d"
      },
      "execution_count": null,
      "outputs": [
        {
          "output_type": "stream",
          "name": "stdout",
          "text": [
            "Python 3.10.12\n"
          ]
        }
      ]
    },
    {
      "cell_type": "code",
      "source": [
        "import torch\n",
        "import math\n",
        "import os\n",
        "import time\n",
        "import json\n",
        "import logging"
      ],
      "metadata": {
        "id": "RKhIlpiDaKFv"
      },
      "execution_count": null,
      "outputs": []
    },
    {
      "cell_type": "code",
      "source": [
        "# # imports pytorch\n",
        "# import torch\n",
        "\n",
        "# # imports the torch_xla package\n",
        "# import torch_xla\n",
        "# import torch_xla.core.xla_model as xm"
      ],
      "metadata": {
        "id": "n6pCMlTuKuak"
      },
      "execution_count": null,
      "outputs": []
    },
    {
      "cell_type": "code",
      "source": [
        "import zipfile\n",
        "from google.colab import drive\n",
        "\n",
        "drive.mount('/content/drive/')\n",
        "zip_ref = zipfile.ZipFile(\"/content/drive/My Drive/MASTER/data_final.zip\", 'r')\n",
        "zip_ref.extractall(\"/content/tmp/data\")\n",
        "zip_ref.close()"
      ],
      "metadata": {
        "colab": {
          "base_uri": "https://localhost:8080/"
        },
        "id": "a6JBJALaBwzW",
        "outputId": "20f2a7a4-6fc3-466d-a7b0-c1317f279994"
      },
      "execution_count": null,
      "outputs": [
        {
          "output_type": "stream",
          "name": "stdout",
          "text": [
            "Mounted at /content/drive/\n"
          ]
        }
      ]
    },
    {
      "cell_type": "code",
      "source": [
        "from google.colab import files\n",
        "src = list(files.upload().values())[0]\n",
        "# uploaduj skripte"
      ],
      "metadata": {
        "colab": {
          "base_uri": "https://localhost:8080/",
          "height": 177
        },
        "id": "KKDTGyDAsUSH",
        "outputId": "481ad5d0-348f-48e3-81ea-0977077c6257"
      },
      "execution_count": null,
      "outputs": [
        {
          "output_type": "display_data",
          "data": {
            "text/plain": [
              "<IPython.core.display.HTML object>"
            ],
            "text/html": [
              "\n",
              "     <input type=\"file\" id=\"files-d1321eba-9712-4fc4-b1db-f75d48541dcd\" name=\"files[]\" multiple disabled\n",
              "        style=\"border:none\" />\n",
              "     <output id=\"result-d1321eba-9712-4fc4-b1db-f75d48541dcd\">\n",
              "      Upload widget is only available when the cell has been executed in the\n",
              "      current browser session. Please rerun this cell to enable.\n",
              "      </output>\n",
              "      <script>// Copyright 2017 Google LLC\n",
              "//\n",
              "// Licensed under the Apache License, Version 2.0 (the \"License\");\n",
              "// you may not use this file except in compliance with the License.\n",
              "// You may obtain a copy of the License at\n",
              "//\n",
              "//      http://www.apache.org/licenses/LICENSE-2.0\n",
              "//\n",
              "// Unless required by applicable law or agreed to in writing, software\n",
              "// distributed under the License is distributed on an \"AS IS\" BASIS,\n",
              "// WITHOUT WARRANTIES OR CONDITIONS OF ANY KIND, either express or implied.\n",
              "// See the License for the specific language governing permissions and\n",
              "// limitations under the License.\n",
              "\n",
              "/**\n",
              " * @fileoverview Helpers for google.colab Python module.\n",
              " */\n",
              "(function(scope) {\n",
              "function span(text, styleAttributes = {}) {\n",
              "  const element = document.createElement('span');\n",
              "  element.textContent = text;\n",
              "  for (const key of Object.keys(styleAttributes)) {\n",
              "    element.style[key] = styleAttributes[key];\n",
              "  }\n",
              "  return element;\n",
              "}\n",
              "\n",
              "// Max number of bytes which will be uploaded at a time.\n",
              "const MAX_PAYLOAD_SIZE = 100 * 1024;\n",
              "\n",
              "function _uploadFiles(inputId, outputId) {\n",
              "  const steps = uploadFilesStep(inputId, outputId);\n",
              "  const outputElement = document.getElementById(outputId);\n",
              "  // Cache steps on the outputElement to make it available for the next call\n",
              "  // to uploadFilesContinue from Python.\n",
              "  outputElement.steps = steps;\n",
              "\n",
              "  return _uploadFilesContinue(outputId);\n",
              "}\n",
              "\n",
              "// This is roughly an async generator (not supported in the browser yet),\n",
              "// where there are multiple asynchronous steps and the Python side is going\n",
              "// to poll for completion of each step.\n",
              "// This uses a Promise to block the python side on completion of each step,\n",
              "// then passes the result of the previous step as the input to the next step.\n",
              "function _uploadFilesContinue(outputId) {\n",
              "  const outputElement = document.getElementById(outputId);\n",
              "  const steps = outputElement.steps;\n",
              "\n",
              "  const next = steps.next(outputElement.lastPromiseValue);\n",
              "  return Promise.resolve(next.value.promise).then((value) => {\n",
              "    // Cache the last promise value to make it available to the next\n",
              "    // step of the generator.\n",
              "    outputElement.lastPromiseValue = value;\n",
              "    return next.value.response;\n",
              "  });\n",
              "}\n",
              "\n",
              "/**\n",
              " * Generator function which is called between each async step of the upload\n",
              " * process.\n",
              " * @param {string} inputId Element ID of the input file picker element.\n",
              " * @param {string} outputId Element ID of the output display.\n",
              " * @return {!Iterable<!Object>} Iterable of next steps.\n",
              " */\n",
              "function* uploadFilesStep(inputId, outputId) {\n",
              "  const inputElement = document.getElementById(inputId);\n",
              "  inputElement.disabled = false;\n",
              "\n",
              "  const outputElement = document.getElementById(outputId);\n",
              "  outputElement.innerHTML = '';\n",
              "\n",
              "  const pickedPromise = new Promise((resolve) => {\n",
              "    inputElement.addEventListener('change', (e) => {\n",
              "      resolve(e.target.files);\n",
              "    });\n",
              "  });\n",
              "\n",
              "  const cancel = document.createElement('button');\n",
              "  inputElement.parentElement.appendChild(cancel);\n",
              "  cancel.textContent = 'Cancel upload';\n",
              "  const cancelPromise = new Promise((resolve) => {\n",
              "    cancel.onclick = () => {\n",
              "      resolve(null);\n",
              "    };\n",
              "  });\n",
              "\n",
              "  // Wait for the user to pick the files.\n",
              "  const files = yield {\n",
              "    promise: Promise.race([pickedPromise, cancelPromise]),\n",
              "    response: {\n",
              "      action: 'starting',\n",
              "    }\n",
              "  };\n",
              "\n",
              "  cancel.remove();\n",
              "\n",
              "  // Disable the input element since further picks are not allowed.\n",
              "  inputElement.disabled = true;\n",
              "\n",
              "  if (!files) {\n",
              "    return {\n",
              "      response: {\n",
              "        action: 'complete',\n",
              "      }\n",
              "    };\n",
              "  }\n",
              "\n",
              "  for (const file of files) {\n",
              "    const li = document.createElement('li');\n",
              "    li.append(span(file.name, {fontWeight: 'bold'}));\n",
              "    li.append(span(\n",
              "        `(${file.type || 'n/a'}) - ${file.size} bytes, ` +\n",
              "        `last modified: ${\n",
              "            file.lastModifiedDate ? file.lastModifiedDate.toLocaleDateString() :\n",
              "                                    'n/a'} - `));\n",
              "    const percent = span('0% done');\n",
              "    li.appendChild(percent);\n",
              "\n",
              "    outputElement.appendChild(li);\n",
              "\n",
              "    const fileDataPromise = new Promise((resolve) => {\n",
              "      const reader = new FileReader();\n",
              "      reader.onload = (e) => {\n",
              "        resolve(e.target.result);\n",
              "      };\n",
              "      reader.readAsArrayBuffer(file);\n",
              "    });\n",
              "    // Wait for the data to be ready.\n",
              "    let fileData = yield {\n",
              "      promise: fileDataPromise,\n",
              "      response: {\n",
              "        action: 'continue',\n",
              "      }\n",
              "    };\n",
              "\n",
              "    // Use a chunked sending to avoid message size limits. See b/62115660.\n",
              "    let position = 0;\n",
              "    do {\n",
              "      const length = Math.min(fileData.byteLength - position, MAX_PAYLOAD_SIZE);\n",
              "      const chunk = new Uint8Array(fileData, position, length);\n",
              "      position += length;\n",
              "\n",
              "      const base64 = btoa(String.fromCharCode.apply(null, chunk));\n",
              "      yield {\n",
              "        response: {\n",
              "          action: 'append',\n",
              "          file: file.name,\n",
              "          data: base64,\n",
              "        },\n",
              "      };\n",
              "\n",
              "      let percentDone = fileData.byteLength === 0 ?\n",
              "          100 :\n",
              "          Math.round((position / fileData.byteLength) * 100);\n",
              "      percent.textContent = `${percentDone}% done`;\n",
              "\n",
              "    } while (position < fileData.byteLength);\n",
              "  }\n",
              "\n",
              "  // All done.\n",
              "  yield {\n",
              "    response: {\n",
              "      action: 'complete',\n",
              "    }\n",
              "  };\n",
              "}\n",
              "\n",
              "scope.google = scope.google || {};\n",
              "scope.google.colab = scope.google.colab || {};\n",
              "scope.google.colab._files = {\n",
              "  _uploadFiles,\n",
              "  _uploadFilesContinue,\n",
              "};\n",
              "})(self);\n",
              "</script> "
            ]
          },
          "metadata": {}
        },
        {
          "output_type": "stream",
          "name": "stdout",
          "text": [
            "Saving learner.py to learner.py\n",
            "Saving meta.py to meta.py\n",
            "Saving omniglot.py to omniglot.py\n",
            "Saving omniglotNShot.py to omniglotNShot.py\n"
          ]
        }
      ]
    },
    {
      "cell_type": "code",
      "execution_count": null,
      "metadata": {
        "id": "Q6BsKNqYsDSf"
      },
      "outputs": [],
      "source": [
        "import  torch, os\n",
        "import  numpy as np\n",
        "from  omniglotNShot import OmniglotNShot\n",
        "from meta import Meta\n",
        "from tqdm import tqdm"
      ]
    },
    {
      "cell_type": "code",
      "source": [
        "torch.manual_seed(222)\n",
        "np.random.seed(222)"
      ],
      "metadata": {
        "id": "88zUGp9KsUzC"
      },
      "execution_count": null,
      "outputs": []
    },
    {
      "cell_type": "code",
      "source": [
        "epoch=60000\n",
        "n_way=20\n",
        "k_spt=5\n",
        "k_qry=15\n",
        "imgsz=28\n",
        "imgc=1\n",
        "task_num=16\n",
        "meta_lr=0.1\n",
        "update_lr=0.1\n",
        "update_step=5\n",
        "update_step_test=10"
      ],
      "metadata": {
        "id": "n7Eysvx8stJu"
      },
      "execution_count": null,
      "outputs": []
    },
    {
      "cell_type": "code",
      "source": [
        "config = [\n",
        "        ('conv2d', [64, 1, 3, 3, 2, 0]),\n",
        "        ('relu', [True]),\n",
        "        ('bn', [64]),\n",
        "        ('conv2d', [64, 64, 3, 3, 2, 0]),\n",
        "        ('relu', [True]),\n",
        "        ('bn', [64]),\n",
        "        ('conv2d', [64, 64, 3, 3, 2, 0]),\n",
        "        ('relu', [True]),\n",
        "        ('bn', [64]),\n",
        "        ('conv2d', [64, 64, 2, 2, 1, 0]),\n",
        "        ('relu', [True]),\n",
        "        ('bn', [64]),\n",
        "        ('flatten', []),\n",
        "        ('linear', [n_way, 64])\n",
        "        ]"
      ],
      "metadata": {
        "id": "_6yK7b2tstjO"
      },
      "execution_count": null,
      "outputs": []
    },
    {
      "cell_type": "code",
      "source": [
        "db_train = OmniglotNShot(\"/content/tmp/data/data_final/omniglot_resized\",\n",
        "                   batchsz=task_num,\n",
        "                   n_way=n_way,\n",
        "                   k_shot=k_spt,\n",
        "                   k_query=k_qry,\n",
        "                   imgsz=imgsz)"
      ],
      "metadata": {
        "colab": {
          "base_uri": "https://localhost:8080/"
        },
        "id": "3hOIhw4pswAI",
        "outputId": "7b5faaea-af09-4b4e-c2ef-f8331d226215"
      },
      "execution_count": null,
      "outputs": [
        {
          "output_type": "stream",
          "name": "stdout",
          "text": [
            "== Found 129840 items \n",
            "== Found 6492 classes\n",
            "data shape: (6492, 20, 28, 28, 1)\n",
            "DB: train (4800, 20, 28, 28, 1) test (1692, 20, 28, 28, 1)\n"
          ]
        }
      ]
    },
    {
      "cell_type": "code",
      "source": [
        "device = torch.device('cuda')\n",
        "\n",
        "maml = Meta(config, update_lr, meta_lr, n_way, k_spt, k_qry, task_num, update_step, update_step_test).to(device)\n",
        "\n",
        "tmp = filter(lambda x: x.requires_grad, maml.parameters())\n",
        "num = sum(map(lambda x: np.prod(x.shape), tmp))\n",
        "print(maml)\n",
        "print('Total trainable tensors:', num)"
      ],
      "metadata": {
        "colab": {
          "base_uri": "https://localhost:8080/"
        },
        "id": "fcU-BBdLsx7f",
        "outputId": "bd3bda58-2e0c-4fcd-c3cd-7fa25010a70b"
      },
      "execution_count": null,
      "outputs": [
        {
          "output_type": "stream",
          "name": "stdout",
          "text": [
            "Meta(\n",
            "  (net): Learner(\n",
            "    conv2d:(ch_in:1, ch_out:64, k:3x3, stride:2, padding:0)\n",
            "    relu:(True,)\n",
            "    bn:(64,)\n",
            "    conv2d:(ch_in:64, ch_out:64, k:3x3, stride:2, padding:0)\n",
            "    relu:(True,)\n",
            "    bn:(64,)\n",
            "    conv2d:(ch_in:64, ch_out:64, k:3x3, stride:2, padding:0)\n",
            "    relu:(True,)\n",
            "    bn:(64,)\n",
            "    conv2d:(ch_in:64, ch_out:64, k:2x2, stride:1, padding:0)\n",
            "    relu:(True,)\n",
            "    bn:(64,)\n",
            "    flatten:()\n",
            "    linear:(in:64, out:20)\n",
            "    \n",
            "    (vars): ParameterList(\n",
            "        (0): Parameter containing: [torch.float32 of size 64x1x3x3 (GPU 0)]\n",
            "        (1): Parameter containing: [torch.float32 of size 64 (GPU 0)]\n",
            "        (2): Parameter containing: [torch.float32 of size 64 (GPU 0)]\n",
            "        (3): Parameter containing: [torch.float32 of size 64 (GPU 0)]\n",
            "        (4): Parameter containing: [torch.float32 of size 64x64x3x3 (GPU 0)]\n",
            "        (5): Parameter containing: [torch.float32 of size 64 (GPU 0)]\n",
            "        (6): Parameter containing: [torch.float32 of size 64 (GPU 0)]\n",
            "        (7): Parameter containing: [torch.float32 of size 64 (GPU 0)]\n",
            "        (8): Parameter containing: [torch.float32 of size 64x64x3x3 (GPU 0)]\n",
            "        (9): Parameter containing: [torch.float32 of size 64 (GPU 0)]\n",
            "        (10): Parameter containing: [torch.float32 of size 64 (GPU 0)]\n",
            "        (11): Parameter containing: [torch.float32 of size 64 (GPU 0)]\n",
            "        (12): Parameter containing: [torch.float32 of size 64x64x2x2 (GPU 0)]\n",
            "        (13): Parameter containing: [torch.float32 of size 64 (GPU 0)]\n",
            "        (14): Parameter containing: [torch.float32 of size 64 (GPU 0)]\n",
            "        (15): Parameter containing: [torch.float32 of size 64 (GPU 0)]\n",
            "        (16): Parameter containing: [torch.float32 of size 20x64 (GPU 0)]\n",
            "        (17): Parameter containing: [torch.float32 of size 20 (GPU 0)]\n",
            "    )\n",
            "    (vars_bn): ParameterList(\n",
            "        (0): Parameter containing: [torch.float32 of size 64 (GPU 0)]\n",
            "        (1): Parameter containing: [torch.float32 of size 64 (GPU 0)]\n",
            "        (2): Parameter containing: [torch.float32 of size 64 (GPU 0)]\n",
            "        (3): Parameter containing: [torch.float32 of size 64 (GPU 0)]\n",
            "        (4): Parameter containing: [torch.float32 of size 64 (GPU 0)]\n",
            "        (5): Parameter containing: [torch.float32 of size 64 (GPU 0)]\n",
            "        (6): Parameter containing: [torch.float32 of size 64 (GPU 0)]\n",
            "        (7): Parameter containing: [torch.float32 of size 64 (GPU 0)]\n",
            "    )\n",
            "  )\n",
            ")\n",
            "Total trainable tensors: 92756\n"
          ]
        }
      ]
    },
    {
      "cell_type": "code",
      "source": [
        "accs_total = []\n",
        "for step in tqdm(range(60000)):\n",
        "\n",
        "    x_spt, y_spt, x_qry, y_qry = db_train.next()\n",
        "    # x_spt, y_spt, x_qry, y_qry = torch.from_numpy(x_spt).to(device), torch.from_numpy(y_spt).to(device), \\\n",
        "    #                              torch.from_numpy(x_qry).to(device), torch.from_numpy(y_qry).to(device)\n",
        "\n",
        "    # set traning=True to update running_mean, running_variance, bn_weights, bn_bias\n",
        "    accs = maml(x_spt.to(device), y_spt.to(device), x_qry.to(device), y_qry.to(device))\n",
        "\n",
        "    if step % 100 == 0:\n",
        "        print('step:', step, '\\ttraining acc:', accs)\n",
        "\n",
        "    if step % 500 == 0:\n",
        "        accs = []\n",
        "        for _ in range(1000//32):\n",
        "            # test\n",
        "            x_spt, y_spt, x_qry, y_qry = db_train.next('test')\n",
        "            # x_spt, y_spt, x_qry, y_qry = torch.from_numpy(x_spt).to(device), torch.from_numpy(y_spt).to(device), \\\n",
        "            #                              torch.from_numpy(x_qry).to(device), torch.from_numpy(y_qry).to(device)\n",
        "\n",
        "            # split to single task each time\n",
        "            for x_spt_one, y_spt_one, x_qry_one, y_qry_one in zip(x_spt, y_spt, x_qry, y_qry):\n",
        "                test_acc = maml.finetunning(x_spt_one.to(device), y_spt_one.to(device), x_qry_one.to(device), y_qry_one.to(device))\n",
        "                accs.append( test_acc )\n",
        "                accs_total.append( test_acc )\n",
        "\n",
        "        # [b, update_step+1]\n",
        "        accs = np.array(accs).mean(axis=0).astype(np.float16)\n",
        "        print('Test acc:', accs)"
      ],
      "metadata": {
        "colab": {
          "base_uri": "https://localhost:8080/"
        },
        "id": "3j4QFWCAtSOm",
        "outputId": "7ab1889a-23fe-4eed-a8b7-f84f1a938a51"
      },
      "execution_count": null,
      "outputs": [
        {
          "output_type": "stream",
          "name": "stderr",
          "text": [
            "\r  0%|          | 0/60000 [00:00<?, ?it/s]"
          ]
        },
        {
          "output_type": "stream",
          "name": "stdout",
          "text": [
            "step: 0 \ttraining acc: [0.04916667 0.09270833 0.11395833 0.12458333 0.13354167 0.13625   ]\n"
          ]
        },
        {
          "output_type": "stream",
          "name": "stderr",
          "text": [
            "\r  0%|          | 1/60000 [00:18<301:10:50, 18.07s/it]"
          ]
        },
        {
          "output_type": "stream",
          "name": "stdout",
          "text": [
            "Test acc: [0.04813 0.0651  0.0869  0.11127 0.1385  0.1661  0.193   0.2184  0.2422\n",
            " 0.2642  0.2834 ]\n"
          ]
        },
        {
          "output_type": "stream",
          "name": "stderr",
          "text": [
            "  0%|          | 101/60000 [00:50<5:23:25,  3.09it/s]"
          ]
        },
        {
          "output_type": "stream",
          "name": "stdout",
          "text": [
            "step: 100 \ttraining acc: [0.05791667 0.1675     0.25291667 0.31208333 0.34520833 0.36958333]\n"
          ]
        },
        {
          "output_type": "stream",
          "name": "stderr",
          "text": [
            "  0%|          | 201/60000 [01:23<5:21:46,  3.10it/s]"
          ]
        },
        {
          "output_type": "stream",
          "name": "stdout",
          "text": [
            "step: 200 \ttraining acc: [0.06895833 0.236875   0.41125    0.49666667 0.54458333 0.57979167]\n"
          ]
        },
        {
          "output_type": "stream",
          "name": "stderr",
          "text": [
            "  1%|          | 301/60000 [01:55<5:20:08,  3.11it/s]"
          ]
        },
        {
          "output_type": "stream",
          "name": "stdout",
          "text": [
            "step: 300 \ttraining acc: [0.05520833 0.29270833 0.43520833 0.51729167 0.565625   0.59166667]\n"
          ]
        },
        {
          "output_type": "stream",
          "name": "stderr",
          "text": [
            "  1%|          | 401/60000 [02:27<5:19:10,  3.11it/s]"
          ]
        },
        {
          "output_type": "stream",
          "name": "stdout",
          "text": [
            "step: 400 \ttraining acc: [0.05520833 0.228125   0.42416667 0.541875   0.60145833 0.64208333]\n"
          ]
        },
        {
          "output_type": "stream",
          "name": "stderr",
          "text": [
            "  1%|          | 500/60000 [02:59<5:20:24,  3.10it/s]"
          ]
        },
        {
          "output_type": "stream",
          "name": "stdout",
          "text": [
            "step: 500 \ttraining acc: [0.03625    0.31645833 0.49708333 0.563125   0.62166667 0.65354167]\n"
          ]
        },
        {
          "output_type": "stream",
          "name": "stderr",
          "text": [
            "\r  1%|          | 501/60000 [03:17<92:44:01,  5.61s/it]"
          ]
        },
        {
          "output_type": "stream",
          "name": "stdout",
          "text": [
            "Test acc: [0.05026 0.3035  0.4893  0.565   0.6196  0.648   0.673   0.691   0.7065\n",
            " 0.7183  0.729  ]\n"
          ]
        },
        {
          "output_type": "stream",
          "name": "stderr",
          "text": [
            "  1%|          | 601/60000 [03:50<5:17:50,  3.11it/s]"
          ]
        },
        {
          "output_type": "stream",
          "name": "stdout",
          "text": [
            "step: 600 \ttraining acc: [0.04583333 0.26916667 0.46833333 0.57791667 0.639375   0.691875  ]\n"
          ]
        },
        {
          "output_type": "stream",
          "name": "stderr",
          "text": [
            "  1%|          | 701/60000 [04:22<5:20:58,  3.08it/s]"
          ]
        },
        {
          "output_type": "stream",
          "name": "stdout",
          "text": [
            "step: 700 \ttraining acc: [0.04291667 0.219375   0.439375   0.55583333 0.62875    0.67354167]\n"
          ]
        },
        {
          "output_type": "stream",
          "name": "stderr",
          "text": [
            "  1%|▏         | 801/60000 [04:54<5:17:43,  3.11it/s]"
          ]
        },
        {
          "output_type": "stream",
          "name": "stdout",
          "text": [
            "step: 800 \ttraining acc: [0.03666667 0.29583333 0.48166667 0.584375   0.64979167 0.69      ]\n"
          ]
        },
        {
          "output_type": "stream",
          "name": "stderr",
          "text": [
            "  2%|▏         | 901/60000 [05:27<5:16:26,  3.11it/s]"
          ]
        },
        {
          "output_type": "stream",
          "name": "stdout",
          "text": [
            "step: 900 \ttraining acc: [0.06104167 0.294375   0.49104167 0.58979167 0.681875   0.73041667]\n"
          ]
        },
        {
          "output_type": "stream",
          "name": "stderr",
          "text": [
            "  2%|▏         | 1000/60000 [05:59<5:18:52,  3.08it/s]"
          ]
        },
        {
          "output_type": "stream",
          "name": "stdout",
          "text": [
            "step: 1000 \ttraining acc: [0.04       0.23625    0.466875   0.61145833 0.680625   0.70916667]\n"
          ]
        },
        {
          "output_type": "stream",
          "name": "stderr",
          "text": [
            "\r  2%|▏         | 1001/60000 [06:17<93:26:10,  5.70s/it]"
          ]
        },
        {
          "output_type": "stream",
          "name": "stdout",
          "text": [
            "Test acc: [0.05087 0.2197  0.4487  0.571   0.6455  0.6953  0.7236  0.7466  0.762\n",
            " 0.777   0.7876 ]\n"
          ]
        },
        {
          "output_type": "stream",
          "name": "stderr",
          "text": [
            "  2%|▏         | 1101/60000 [06:50<5:26:05,  3.01it/s]"
          ]
        },
        {
          "output_type": "stream",
          "name": "stdout",
          "text": [
            "step: 1100 \ttraining acc: [0.05145833 0.20583333 0.40333333 0.56333333 0.650625   0.70083333]\n"
          ]
        },
        {
          "output_type": "stream",
          "name": "stderr",
          "text": [
            "  2%|▏         | 1201/60000 [07:22<5:21:37,  3.05it/s]"
          ]
        },
        {
          "output_type": "stream",
          "name": "stdout",
          "text": [
            "step: 1200 \ttraining acc: [0.03541667 0.27666667 0.508125   0.62854167 0.68958333 0.73291667]\n"
          ]
        },
        {
          "output_type": "stream",
          "name": "stderr",
          "text": [
            "  2%|▏         | 1301/60000 [07:55<5:16:36,  3.09it/s]"
          ]
        },
        {
          "output_type": "stream",
          "name": "stdout",
          "text": [
            "step: 1300 \ttraining acc: [0.05416667 0.21875    0.44       0.5625     0.62979167 0.69      ]\n"
          ]
        },
        {
          "output_type": "stream",
          "name": "stderr",
          "text": [
            "  2%|▏         | 1401/60000 [08:28<5:14:59,  3.10it/s]"
          ]
        },
        {
          "output_type": "stream",
          "name": "stdout",
          "text": [
            "step: 1400 \ttraining acc: [0.04979167 0.27       0.48416667 0.59625    0.66333333 0.731875  ]\n"
          ]
        },
        {
          "output_type": "stream",
          "name": "stderr",
          "text": [
            "  2%|▎         | 1500/60000 [09:00<5:15:47,  3.09it/s]"
          ]
        },
        {
          "output_type": "stream",
          "name": "stdout",
          "text": [
            "step: 1500 \ttraining acc: [0.03333333 0.17625    0.44708333 0.57104167 0.66479167 0.718125  ]\n"
          ]
        },
        {
          "output_type": "stream",
          "name": "stderr",
          "text": [
            "\r  3%|▎         | 1501/60000 [09:18<92:15:34,  5.68s/it]"
          ]
        },
        {
          "output_type": "stream",
          "name": "stdout",
          "text": [
            "Test acc: [0.0487 0.1849 0.4185 0.5513 0.638  0.694  0.727  0.7534 0.7695 0.7827\n",
            " 0.7944]\n"
          ]
        },
        {
          "output_type": "stream",
          "name": "stderr",
          "text": [
            "  3%|▎         | 1601/60000 [09:50<5:17:00,  3.07it/s]"
          ]
        },
        {
          "output_type": "stream",
          "name": "stdout",
          "text": [
            "step: 1600 \ttraining acc: [0.055      0.26770833 0.48916667 0.61833333 0.70104167 0.73791667]\n"
          ]
        },
        {
          "output_type": "stream",
          "name": "stderr",
          "text": [
            "  3%|▎         | 1701/60000 [10:23<5:20:12,  3.03it/s]"
          ]
        },
        {
          "output_type": "stream",
          "name": "stdout",
          "text": [
            "step: 1700 \ttraining acc: [0.05375    0.1425     0.37104167 0.54895833 0.649375   0.70333333]\n"
          ]
        },
        {
          "output_type": "stream",
          "name": "stderr",
          "text": [
            "  3%|▎         | 1801/60000 [10:56<5:15:25,  3.08it/s]"
          ]
        },
        {
          "output_type": "stream",
          "name": "stdout",
          "text": [
            "step: 1800 \ttraining acc: [0.04229167 0.21708333 0.42395833 0.57145833 0.64729167 0.70854167]\n"
          ]
        },
        {
          "output_type": "stream",
          "name": "stderr",
          "text": [
            "  3%|▎         | 1901/60000 [11:29<5:19:04,  3.03it/s]"
          ]
        },
        {
          "output_type": "stream",
          "name": "stdout",
          "text": [
            "step: 1900 \ttraining acc: [0.04666667 0.25270833 0.47041667 0.605      0.66854167 0.73645833]\n"
          ]
        },
        {
          "output_type": "stream",
          "name": "stderr",
          "text": [
            "  3%|▎         | 2000/60000 [12:02<5:18:43,  3.03it/s]"
          ]
        },
        {
          "output_type": "stream",
          "name": "stdout",
          "text": [
            "step: 2000 \ttraining acc: [0.05       0.22375    0.49020833 0.61375    0.68708333 0.74645833]\n"
          ]
        },
        {
          "output_type": "stream",
          "name": "stderr",
          "text": [
            "\r  3%|▎         | 2001/60000 [12:20<92:19:21,  5.73s/it]"
          ]
        },
        {
          "output_type": "stream",
          "name": "stdout",
          "text": [
            "Test acc: [0.05   0.2144 0.4692 0.586  0.661  0.714  0.744  0.7686 0.7847 0.798\n",
            " 0.8086]\n"
          ]
        },
        {
          "output_type": "stream",
          "name": "stderr",
          "text": [
            "  4%|▎         | 2101/60000 [12:53<5:16:08,  3.05it/s]"
          ]
        },
        {
          "output_type": "stream",
          "name": "stdout",
          "text": [
            "step: 2100 \ttraining acc: [0.05729167 0.25583333 0.45395833 0.58416667 0.68333333 0.73333333]\n"
          ]
        },
        {
          "output_type": "stream",
          "name": "stderr",
          "text": [
            "  4%|▎         | 2201/60000 [13:26<5:15:27,  3.05it/s]"
          ]
        },
        {
          "output_type": "stream",
          "name": "stdout",
          "text": [
            "step: 2200 \ttraining acc: [0.05083333 0.24083333 0.51145833 0.64125    0.71604167 0.75833333]\n"
          ]
        },
        {
          "output_type": "stream",
          "name": "stderr",
          "text": [
            "  4%|▍         | 2301/60000 [13:59<5:13:16,  3.07it/s]"
          ]
        },
        {
          "output_type": "stream",
          "name": "stdout",
          "text": [
            "step: 2300 \ttraining acc: [0.05       0.09708333 0.355625   0.58916667 0.70354167 0.75625   ]\n"
          ]
        },
        {
          "output_type": "stream",
          "name": "stderr",
          "text": [
            "  4%|▍         | 2401/60000 [14:32<5:16:31,  3.03it/s]"
          ]
        },
        {
          "output_type": "stream",
          "name": "stdout",
          "text": [
            "step: 2400 \ttraining acc: [0.05       0.05       0.07458333 0.6325     0.78479167 0.81541667]\n"
          ]
        },
        {
          "output_type": "stream",
          "name": "stderr",
          "text": [
            "  4%|▍         | 2500/60000 [15:04<5:10:15,  3.09it/s]"
          ]
        },
        {
          "output_type": "stream",
          "name": "stdout",
          "text": [
            "step: 2500 \ttraining acc: [0.05       0.05       0.07229167 0.62833333 0.78291667 0.82604167]\n"
          ]
        },
        {
          "output_type": "stream",
          "name": "stderr",
          "text": [
            "\r  4%|▍         | 2501/60000 [15:23<91:39:08,  5.74s/it]"
          ]
        },
        {
          "output_type": "stream",
          "name": "stdout",
          "text": [
            "Test acc: [0.05   0.05   0.0803 0.599  0.7324 0.7754 0.803  0.8164 0.8276 0.8335\n",
            " 0.841 ]\n"
          ]
        },
        {
          "output_type": "stream",
          "name": "stderr",
          "text": [
            "  4%|▍         | 2601/60000 [15:56<5:11:53,  3.07it/s]"
          ]
        },
        {
          "output_type": "stream",
          "name": "stdout",
          "text": [
            "step: 2600 \ttraining acc: [0.05       0.05       0.05979167 0.6125     0.769375   0.81645833]\n"
          ]
        },
        {
          "output_type": "stream",
          "name": "stderr",
          "text": [
            "  5%|▍         | 2701/60000 [16:28<5:13:02,  3.05it/s]"
          ]
        },
        {
          "output_type": "stream",
          "name": "stdout",
          "text": [
            "step: 2700 \ttraining acc: [0.05       0.05       0.085625   0.61354167 0.76895833 0.82229167]\n"
          ]
        },
        {
          "output_type": "stream",
          "name": "stderr",
          "text": [
            "  5%|▍         | 2801/60000 [17:01<5:12:17,  3.05it/s]"
          ]
        },
        {
          "output_type": "stream",
          "name": "stdout",
          "text": [
            "step: 2800 \ttraining acc: [0.05       0.05       0.08375    0.64166667 0.80104167 0.84729167]\n"
          ]
        },
        {
          "output_type": "stream",
          "name": "stderr",
          "text": [
            "  5%|▍         | 2901/60000 [17:34<5:19:23,  2.98it/s]"
          ]
        },
        {
          "output_type": "stream",
          "name": "stdout",
          "text": [
            "step: 2900 \ttraining acc: [0.05       0.05541667 0.188125   0.66416667 0.774375   0.81166667]\n"
          ]
        },
        {
          "output_type": "stream",
          "name": "stderr",
          "text": [
            "  5%|▌         | 3000/60000 [18:07<5:10:19,  3.06it/s]"
          ]
        },
        {
          "output_type": "stream",
          "name": "stdout",
          "text": [
            "step: 3000 \ttraining acc: [0.05       0.05       0.05958333 0.60104167 0.75166667 0.80979167]\n"
          ]
        },
        {
          "output_type": "stream",
          "name": "stderr",
          "text": [
            "\r  5%|▌         | 3001/60000 [18:26<91:19:25,  5.77s/it]"
          ]
        },
        {
          "output_type": "stream",
          "name": "stdout",
          "text": [
            "Test acc: [0.05   0.05   0.0665 0.593  0.7295 0.771  0.8003 0.8135 0.8223 0.83\n",
            " 0.8354]\n"
          ]
        },
        {
          "output_type": "stream",
          "name": "stderr",
          "text": [
            "  5%|▌         | 3101/60000 [18:58<5:06:25,  3.09it/s]"
          ]
        },
        {
          "output_type": "stream",
          "name": "stdout",
          "text": [
            "step: 3100 \ttraining acc: [0.05       0.05       0.06479167 0.60520833 0.78541667 0.83125   ]\n"
          ]
        },
        {
          "output_type": "stream",
          "name": "stderr",
          "text": [
            "  5%|▌         | 3201/60000 [19:31<5:10:45,  3.05it/s]"
          ]
        },
        {
          "output_type": "stream",
          "name": "stdout",
          "text": [
            "step: 3200 \ttraining acc: [0.05       0.05       0.088125   0.61145833 0.76604167 0.81020833]\n"
          ]
        },
        {
          "output_type": "stream",
          "name": "stderr",
          "text": [
            "  6%|▌         | 3301/60000 [20:03<5:08:49,  3.06it/s]"
          ]
        },
        {
          "output_type": "stream",
          "name": "stdout",
          "text": [
            "step: 3300 \ttraining acc: [0.05       0.05       0.071875   0.59645833 0.77458333 0.82229167]\n"
          ]
        },
        {
          "output_type": "stream",
          "name": "stderr",
          "text": [
            "  6%|▌         | 3401/60000 [20:36<5:11:08,  3.03it/s]"
          ]
        },
        {
          "output_type": "stream",
          "name": "stdout",
          "text": [
            "step: 3400 \ttraining acc: [0.05       0.05       0.098125   0.65458333 0.781875   0.830625  ]\n"
          ]
        },
        {
          "output_type": "stream",
          "name": "stderr",
          "text": [
            "  6%|▌         | 3500/60000 [21:08<5:04:11,  3.10it/s]"
          ]
        },
        {
          "output_type": "stream",
          "name": "stdout",
          "text": [
            "step: 3500 \ttraining acc: [0.05       0.05       0.06145833 0.62583333 0.78333333 0.82791667]\n"
          ]
        },
        {
          "output_type": "stream",
          "name": "stderr",
          "text": [
            "\r  6%|▌         | 3501/60000 [21:26<88:46:48,  5.66s/it]"
          ]
        },
        {
          "output_type": "stream",
          "name": "stdout",
          "text": [
            "Test acc: [0.05    0.05    0.06085 0.6064  0.75    0.7915  0.8203  0.83    0.84\n",
            " 0.845   0.8516 ]\n"
          ]
        },
        {
          "output_type": "stream",
          "name": "stderr",
          "text": [
            "  6%|▌         | 3601/60000 [21:59<5:02:46,  3.10it/s]"
          ]
        },
        {
          "output_type": "stream",
          "name": "stdout",
          "text": [
            "step: 3600 \ttraining acc: [0.05       0.05       0.065      0.60020833 0.75125    0.80291667]\n"
          ]
        },
        {
          "output_type": "stream",
          "name": "stderr",
          "text": [
            "  6%|▌         | 3701/60000 [22:31<5:00:04,  3.13it/s]"
          ]
        },
        {
          "output_type": "stream",
          "name": "stdout",
          "text": [
            "step: 3700 \ttraining acc: [0.05       0.05       0.06041667 0.60895833 0.78666667 0.83625   ]\n"
          ]
        },
        {
          "output_type": "stream",
          "name": "stderr",
          "text": [
            "  6%|▋         | 3801/60000 [23:03<5:00:42,  3.11it/s]"
          ]
        },
        {
          "output_type": "stream",
          "name": "stdout",
          "text": [
            "step: 3800 \ttraining acc: [0.05       0.05       0.06166667 0.62541667 0.78       0.82041667]\n"
          ]
        },
        {
          "output_type": "stream",
          "name": "stderr",
          "text": [
            "  7%|▋         | 3901/60000 [23:36<5:00:08,  3.12it/s]"
          ]
        },
        {
          "output_type": "stream",
          "name": "stdout",
          "text": [
            "step: 3900 \ttraining acc: [0.05       0.05       0.06458333 0.6575     0.80875    0.84291667]\n"
          ]
        },
        {
          "output_type": "stream",
          "name": "stderr",
          "text": [
            "  7%|▋         | 4000/60000 [24:08<5:00:18,  3.11it/s]"
          ]
        },
        {
          "output_type": "stream",
          "name": "stdout",
          "text": [
            "step: 4000 \ttraining acc: [0.05       0.05       0.07125    0.64020833 0.78416667 0.82520833]\n"
          ]
        },
        {
          "output_type": "stream",
          "name": "stderr",
          "text": [
            "\r  7%|▋         | 4001/60000 [24:26<87:40:34,  5.64s/it]"
          ]
        },
        {
          "output_type": "stream",
          "name": "stdout",
          "text": [
            "Test acc: [0.05   0.05   0.0732 0.586  0.725  0.773  0.8037 0.817  0.829  0.836\n",
            " 0.8423]\n"
          ]
        },
        {
          "output_type": "stream",
          "name": "stderr",
          "text": [
            "  7%|▋         | 4101/60000 [24:59<5:09:01,  3.01it/s]"
          ]
        },
        {
          "output_type": "stream",
          "name": "stdout",
          "text": [
            "step: 4100 \ttraining acc: [0.05       0.05       0.06729167 0.60145833 0.75895833 0.81854167]\n"
          ]
        },
        {
          "output_type": "stream",
          "name": "stderr",
          "text": [
            "  7%|▋         | 4201/60000 [25:31<5:01:15,  3.09it/s]"
          ]
        },
        {
          "output_type": "stream",
          "name": "stdout",
          "text": [
            "step: 4200 \ttraining acc: [0.05       0.05       0.059375   0.64708333 0.811875   0.856875  ]\n"
          ]
        },
        {
          "output_type": "stream",
          "name": "stderr",
          "text": [
            "  7%|▋         | 4301/60000 [26:04<4:59:01,  3.10it/s]"
          ]
        },
        {
          "output_type": "stream",
          "name": "stdout",
          "text": [
            "step: 4300 \ttraining acc: [0.05       0.05       0.065      0.66458333 0.804375   0.86020833]\n"
          ]
        },
        {
          "output_type": "stream",
          "name": "stderr",
          "text": [
            "  7%|▋         | 4401/60000 [26:37<5:06:51,  3.02it/s]"
          ]
        },
        {
          "output_type": "stream",
          "name": "stdout",
          "text": [
            "step: 4400 \ttraining acc: [0.05       0.05       0.091875   0.64604167 0.785625   0.830625  ]\n"
          ]
        },
        {
          "output_type": "stream",
          "name": "stderr",
          "text": [
            "  8%|▊         | 4500/60000 [27:09<5:04:18,  3.04it/s]"
          ]
        },
        {
          "output_type": "stream",
          "name": "stdout",
          "text": [
            "step: 4500 \ttraining acc: [0.05       0.05       0.08229167 0.57333333 0.75229167 0.80833333]\n"
          ]
        },
        {
          "output_type": "stream",
          "name": "stderr",
          "text": [
            "\r  8%|▊         | 4501/60000 [27:27<87:20:10,  5.67s/it]"
          ]
        },
        {
          "output_type": "stream",
          "name": "stdout",
          "text": [
            "Test acc: [0.05    0.05    0.07904 0.574   0.721   0.7725  0.803   0.8174  0.826\n",
            " 0.8354  0.841  ]\n"
          ]
        },
        {
          "output_type": "stream",
          "name": "stderr",
          "text": [
            "  8%|▊         | 4601/60000 [28:00<5:01:09,  3.07it/s]"
          ]
        },
        {
          "output_type": "stream",
          "name": "stdout",
          "text": [
            "step: 4600 \ttraining acc: [0.05       0.05       0.05791667 0.58604167 0.77229167 0.83479167]\n"
          ]
        },
        {
          "output_type": "stream",
          "name": "stderr",
          "text": [
            "  8%|▊         | 4701/60000 [28:32<4:56:50,  3.10it/s]"
          ]
        },
        {
          "output_type": "stream",
          "name": "stdout",
          "text": [
            "step: 4700 \ttraining acc: [0.05       0.05       0.063125   0.61604167 0.78645833 0.82270833]\n"
          ]
        },
        {
          "output_type": "stream",
          "name": "stderr",
          "text": [
            "  8%|▊         | 4801/60000 [29:05<4:56:54,  3.10it/s]"
          ]
        },
        {
          "output_type": "stream",
          "name": "stdout",
          "text": [
            "step: 4800 \ttraining acc: [0.05       0.05       0.07354167 0.65583333 0.796875   0.83104167]\n"
          ]
        },
        {
          "output_type": "stream",
          "name": "stderr",
          "text": [
            "  8%|▊         | 4901/60000 [29:38<4:59:54,  3.06it/s]"
          ]
        },
        {
          "output_type": "stream",
          "name": "stdout",
          "text": [
            "step: 4900 \ttraining acc: [0.05       0.05       0.0625     0.58958333 0.76958333 0.81270833]\n"
          ]
        },
        {
          "output_type": "stream",
          "name": "stderr",
          "text": [
            "  8%|▊         | 5000/60000 [30:10<4:56:25,  3.09it/s]"
          ]
        },
        {
          "output_type": "stream",
          "name": "stdout",
          "text": [
            "step: 5000 \ttraining acc: [0.05       0.05       0.09166667 0.62354167 0.78583333 0.84083333]\n"
          ]
        },
        {
          "output_type": "stream",
          "name": "stderr",
          "text": [
            "\r  8%|▊         | 5001/60000 [30:28<86:42:42,  5.68s/it]"
          ]
        },
        {
          "output_type": "stream",
          "name": "stdout",
          "text": [
            "Test acc: [0.05    0.05002 0.0881  0.5957  0.7363  0.7803  0.809   0.8193  0.8315\n",
            " 0.837   0.8447 ]\n"
          ]
        },
        {
          "output_type": "stream",
          "name": "stderr",
          "text": [
            "  9%|▊         | 5101/60000 [31:01<5:06:37,  2.98it/s]"
          ]
        },
        {
          "output_type": "stream",
          "name": "stdout",
          "text": [
            "step: 5100 \ttraining acc: [0.05       0.05       0.059375   0.61895833 0.78166667 0.84145833]\n"
          ]
        },
        {
          "output_type": "stream",
          "name": "stderr",
          "text": [
            "  9%|▊         | 5201/60000 [31:33<5:01:53,  3.03it/s]"
          ]
        },
        {
          "output_type": "stream",
          "name": "stdout",
          "text": [
            "step: 5200 \ttraining acc: [0.05       0.05       0.054375   0.59791667 0.76       0.80979167]\n"
          ]
        },
        {
          "output_type": "stream",
          "name": "stderr",
          "text": [
            "  9%|▉         | 5301/60000 [32:06<5:02:08,  3.02it/s]"
          ]
        },
        {
          "output_type": "stream",
          "name": "stdout",
          "text": [
            "step: 5300 \ttraining acc: [0.05       0.05       0.055625   0.654375   0.78729167 0.82083333]\n"
          ]
        },
        {
          "output_type": "stream",
          "name": "stderr",
          "text": [
            "  9%|▉         | 5401/60000 [32:39<4:58:21,  3.05it/s]"
          ]
        },
        {
          "output_type": "stream",
          "name": "stdout",
          "text": [
            "step: 5400 \ttraining acc: [0.05       0.05       0.05604167 0.629375   0.79291667 0.84083333]\n"
          ]
        },
        {
          "output_type": "stream",
          "name": "stderr",
          "text": [
            "  9%|▉         | 5500/60000 [33:11<4:53:57,  3.09it/s]"
          ]
        },
        {
          "output_type": "stream",
          "name": "stdout",
          "text": [
            "step: 5500 \ttraining acc: [0.05       0.05       0.0575     0.63104167 0.76875    0.82354167]\n"
          ]
        },
        {
          "output_type": "stream",
          "name": "stderr",
          "text": [
            "\r  9%|▉         | 5501/60000 [33:29<84:51:17,  5.61s/it]"
          ]
        },
        {
          "output_type": "stream",
          "name": "stdout",
          "text": [
            "Test acc: [0.05    0.05    0.05838 0.5835  0.7275  0.7754  0.8037  0.8174  0.828\n",
            " 0.8364  0.843  ]\n"
          ]
        },
        {
          "output_type": "stream",
          "name": "stderr",
          "text": [
            "  9%|▉         | 5601/60000 [34:01<4:57:13,  3.05it/s]"
          ]
        },
        {
          "output_type": "stream",
          "name": "stdout",
          "text": [
            "step: 5600 \ttraining acc: [0.05       0.05       0.0675     0.60625    0.75583333 0.810625  ]\n"
          ]
        },
        {
          "output_type": "stream",
          "name": "stderr",
          "text": [
            " 10%|▉         | 5701/60000 [34:34<5:02:14,  2.99it/s]"
          ]
        },
        {
          "output_type": "stream",
          "name": "stdout",
          "text": [
            "step: 5700 \ttraining acc: [0.05       0.05       0.05979167 0.611875   0.810625   0.8575    ]\n"
          ]
        },
        {
          "output_type": "stream",
          "name": "stderr",
          "text": [
            " 10%|▉         | 5801/60000 [35:07<4:55:07,  3.06it/s]"
          ]
        },
        {
          "output_type": "stream",
          "name": "stdout",
          "text": [
            "step: 5800 \ttraining acc: [0.05       0.05       0.06479167 0.63125    0.79041667 0.84291667]\n"
          ]
        },
        {
          "output_type": "stream",
          "name": "stderr",
          "text": [
            " 10%|▉         | 5901/60000 [35:39<4:53:55,  3.07it/s]"
          ]
        },
        {
          "output_type": "stream",
          "name": "stdout",
          "text": [
            "step: 5900 \ttraining acc: [0.05       0.05       0.06125    0.63979167 0.77958333 0.818125  ]\n"
          ]
        },
        {
          "output_type": "stream",
          "name": "stderr",
          "text": [
            " 10%|█         | 6000/60000 [36:12<4:52:25,  3.08it/s]"
          ]
        },
        {
          "output_type": "stream",
          "name": "stdout",
          "text": [
            "step: 6000 \ttraining acc: [0.05       0.05       0.05520833 0.61291667 0.793125   0.83729167]\n"
          ]
        },
        {
          "output_type": "stream",
          "name": "stderr",
          "text": [
            "\r 10%|█         | 6001/60000 [36:30<85:11:42,  5.68s/it]"
          ]
        },
        {
          "output_type": "stream",
          "name": "stdout",
          "text": [
            "Test acc: [0.05    0.05    0.05872 0.562   0.722   0.7764  0.806   0.8193  0.829\n",
            " 0.837   0.843  ]\n"
          ]
        },
        {
          "output_type": "stream",
          "name": "stderr",
          "text": [
            " 10%|█         | 6101/60000 [37:03<4:51:39,  3.08it/s]"
          ]
        },
        {
          "output_type": "stream",
          "name": "stdout",
          "text": [
            "step: 6100 \ttraining acc: [0.05       0.05       0.05520833 0.63229167 0.79854167 0.84729167]\n"
          ]
        },
        {
          "output_type": "stream",
          "name": "stderr",
          "text": [
            " 10%|█         | 6201/60000 [37:35<4:49:37,  3.10it/s]"
          ]
        },
        {
          "output_type": "stream",
          "name": "stdout",
          "text": [
            "step: 6200 \ttraining acc: [0.05       0.05       0.05229167 0.66520833 0.798125   0.84729167]\n"
          ]
        },
        {
          "output_type": "stream",
          "name": "stderr",
          "text": [
            " 11%|█         | 6301/60000 [38:08<4:51:14,  3.07it/s]"
          ]
        },
        {
          "output_type": "stream",
          "name": "stdout",
          "text": [
            "step: 6300 \ttraining acc: [0.05       0.05       0.08791667 0.64145833 0.78458333 0.83895833]\n"
          ]
        },
        {
          "output_type": "stream",
          "name": "stderr",
          "text": [
            " 11%|█         | 6401/60000 [38:40<4:55:47,  3.02it/s]"
          ]
        },
        {
          "output_type": "stream",
          "name": "stdout",
          "text": [
            "step: 6400 \ttraining acc: [0.05       0.05       0.05520833 0.614375   0.78083333 0.83041667]\n"
          ]
        },
        {
          "output_type": "stream",
          "name": "stderr",
          "text": [
            " 11%|█         | 6500/60000 [39:12<4:49:19,  3.08it/s]"
          ]
        },
        {
          "output_type": "stream",
          "name": "stdout",
          "text": [
            "step: 6500 \ttraining acc: [0.05       0.05       0.05333333 0.65270833 0.79333333 0.83479167]\n"
          ]
        },
        {
          "output_type": "stream",
          "name": "stderr",
          "text": [
            "\r 11%|█         | 6501/60000 [39:30<83:26:00,  5.61s/it]"
          ]
        },
        {
          "output_type": "stream",
          "name": "stdout",
          "text": [
            "Test acc: [0.05    0.05    0.05783 0.5903  0.7324  0.777   0.8066  0.8184  0.8306\n",
            " 0.836   0.8438 ]\n"
          ]
        },
        {
          "output_type": "stream",
          "name": "stderr",
          "text": [
            " 11%|█         | 6601/60000 [40:03<4:47:00,  3.10it/s]"
          ]
        },
        {
          "output_type": "stream",
          "name": "stdout",
          "text": [
            "step: 6600 \ttraining acc: [0.05       0.05       0.05708333 0.635625   0.79333333 0.83333333]\n"
          ]
        },
        {
          "output_type": "stream",
          "name": "stderr",
          "text": [
            " 11%|█         | 6701/60000 [40:35<4:49:01,  3.07it/s]"
          ]
        },
        {
          "output_type": "stream",
          "name": "stdout",
          "text": [
            "step: 6700 \ttraining acc: [0.05       0.05       0.06833333 0.665625   0.798125   0.82541667]\n"
          ]
        },
        {
          "output_type": "stream",
          "name": "stderr",
          "text": [
            " 11%|█▏        | 6801/60000 [41:08<4:46:41,  3.09it/s]"
          ]
        },
        {
          "output_type": "stream",
          "name": "stdout",
          "text": [
            "step: 6800 \ttraining acc: [0.05       0.05       0.05770833 0.614375   0.7625     0.820625  ]\n"
          ]
        },
        {
          "output_type": "stream",
          "name": "stderr",
          "text": [
            " 12%|█▏        | 6901/60000 [41:40<4:47:08,  3.08it/s]"
          ]
        },
        {
          "output_type": "stream",
          "name": "stdout",
          "text": [
            "step: 6900 \ttraining acc: [0.05       0.05       0.0675     0.65666667 0.80604167 0.853125  ]\n"
          ]
        },
        {
          "output_type": "stream",
          "name": "stderr",
          "text": [
            " 12%|█▏        | 7000/60000 [42:12<4:53:51,  3.01it/s]"
          ]
        },
        {
          "output_type": "stream",
          "name": "stdout",
          "text": [
            "step: 7000 \ttraining acc: [0.05       0.05       0.055625   0.64729167 0.83333333 0.87604167]\n"
          ]
        },
        {
          "output_type": "stream",
          "name": "stderr",
          "text": [
            "\r 12%|█▏        | 7001/60000 [42:30<83:10:07,  5.65s/it]"
          ]
        },
        {
          "output_type": "stream",
          "name": "stdout",
          "text": [
            "Test acc: [0.05    0.05    0.05585 0.594   0.742   0.789   0.817   0.829   0.839\n",
            " 0.845   0.8516 ]\n"
          ]
        },
        {
          "output_type": "stream",
          "name": "stderr",
          "text": [
            " 12%|█▏        | 7101/60000 [43:03<4:47:37,  3.07it/s]"
          ]
        },
        {
          "output_type": "stream",
          "name": "stdout",
          "text": [
            "step: 7100 \ttraining acc: [0.05       0.05       0.06625    0.60645833 0.786875   0.83      ]\n"
          ]
        },
        {
          "output_type": "stream",
          "name": "stderr",
          "text": [
            " 12%|█▏        | 7201/60000 [43:35<4:40:21,  3.14it/s]"
          ]
        },
        {
          "output_type": "stream",
          "name": "stdout",
          "text": [
            "step: 7200 \ttraining acc: [0.05       0.05       0.05458333 0.64       0.80229167 0.850625  ]\n"
          ]
        },
        {
          "output_type": "stream",
          "name": "stderr",
          "text": [
            " 12%|█▏        | 7301/60000 [44:08<4:46:32,  3.07it/s]"
          ]
        },
        {
          "output_type": "stream",
          "name": "stdout",
          "text": [
            "step: 7300 \ttraining acc: [0.05       0.05       0.05166667 0.59625    0.79041667 0.84333333]\n"
          ]
        },
        {
          "output_type": "stream",
          "name": "stderr",
          "text": [
            " 12%|█▏        | 7401/60000 [44:41<4:47:00,  3.05it/s]"
          ]
        },
        {
          "output_type": "stream",
          "name": "stdout",
          "text": [
            "step: 7400 \ttraining acc: [0.05       0.05       0.05770833 0.691875   0.830625   0.86729167]\n"
          ]
        },
        {
          "output_type": "stream",
          "name": "stderr",
          "text": [
            " 12%|█▎        | 7500/60000 [45:13<4:42:50,  3.09it/s]"
          ]
        },
        {
          "output_type": "stream",
          "name": "stdout",
          "text": [
            "step: 7500 \ttraining acc: [0.05       0.05       0.07020833 0.64458333 0.826875   0.86791667]\n"
          ]
        },
        {
          "output_type": "stream",
          "name": "stderr",
          "text": [
            "\r 13%|█▎        | 7501/60000 [45:31<83:27:12,  5.72s/it]"
          ]
        },
        {
          "output_type": "stream",
          "name": "stdout",
          "text": [
            "Test acc: [0.05    0.05    0.06122 0.589   0.74    0.789   0.8174  0.829   0.8384\n",
            " 0.8457  0.851  ]\n"
          ]
        },
        {
          "output_type": "stream",
          "name": "stderr",
          "text": [
            " 13%|█▎        | 7601/60000 [46:04<4:42:16,  3.09it/s]"
          ]
        },
        {
          "output_type": "stream",
          "name": "stdout",
          "text": [
            "step: 7600 \ttraining acc: [0.05       0.05       0.05416667 0.64083333 0.83604167 0.861875  ]\n"
          ]
        },
        {
          "output_type": "stream",
          "name": "stderr",
          "text": [
            " 13%|█▎        | 7701/60000 [46:37<4:41:50,  3.09it/s]"
          ]
        },
        {
          "output_type": "stream",
          "name": "stdout",
          "text": [
            "step: 7700 \ttraining acc: [0.05       0.05       0.05479167 0.65791667 0.81708333 0.85625   ]\n"
          ]
        },
        {
          "output_type": "stream",
          "name": "stderr",
          "text": [
            " 13%|█▎        | 7801/60000 [47:10<4:41:07,  3.09it/s]"
          ]
        },
        {
          "output_type": "stream",
          "name": "stdout",
          "text": [
            "step: 7800 \ttraining acc: [0.05       0.05       0.06       0.62416667 0.78333333 0.845     ]\n"
          ]
        },
        {
          "output_type": "stream",
          "name": "stderr",
          "text": [
            " 13%|█▎        | 7901/60000 [47:43<4:40:52,  3.09it/s]"
          ]
        },
        {
          "output_type": "stream",
          "name": "stdout",
          "text": [
            "step: 7900 \ttraining acc: [0.05       0.05       0.070625   0.61354167 0.780625   0.85770833]\n"
          ]
        },
        {
          "output_type": "stream",
          "name": "stderr",
          "text": [
            " 13%|█▎        | 8000/60000 [48:15<4:41:49,  3.08it/s]"
          ]
        },
        {
          "output_type": "stream",
          "name": "stdout",
          "text": [
            "step: 8000 \ttraining acc: [0.05       0.05       0.06520833 0.620625   0.77645833 0.84229167]\n"
          ]
        },
        {
          "output_type": "stream",
          "name": "stderr",
          "text": [
            "\r 13%|█▎        | 8001/60000 [48:33<82:10:10,  5.69s/it]"
          ]
        },
        {
          "output_type": "stream",
          "name": "stdout",
          "text": [
            "Test acc: [0.05   0.05   0.0645 0.584  0.727  0.7764 0.808  0.822  0.8315 0.8384\n",
            " 0.844 ]\n"
          ]
        },
        {
          "output_type": "stream",
          "name": "stderr",
          "text": [
            " 14%|█▎        | 8101/60000 [49:06<4:45:55,  3.03it/s]"
          ]
        },
        {
          "output_type": "stream",
          "name": "stdout",
          "text": [
            "step: 8100 \ttraining acc: [0.05       0.05       0.10020833 0.61104167 0.78416667 0.84541667]\n"
          ]
        },
        {
          "output_type": "stream",
          "name": "stderr",
          "text": [
            " 14%|█▎        | 8201/60000 [49:39<4:37:49,  3.11it/s]"
          ]
        },
        {
          "output_type": "stream",
          "name": "stdout",
          "text": [
            "step: 8200 \ttraining acc: [0.05       0.05       0.05125    0.61979167 0.79895833 0.851875  ]\n"
          ]
        },
        {
          "output_type": "stream",
          "name": "stderr",
          "text": [
            " 14%|█▍        | 8301/60000 [50:11<4:39:03,  3.09it/s]"
          ]
        },
        {
          "output_type": "stream",
          "name": "stdout",
          "text": [
            "step: 8300 \ttraining acc: [0.05       0.05       0.05520833 0.599375   0.79625    0.84583333]\n"
          ]
        },
        {
          "output_type": "stream",
          "name": "stderr",
          "text": [
            " 14%|█▍        | 8401/60000 [50:44<4:39:43,  3.07it/s]"
          ]
        },
        {
          "output_type": "stream",
          "name": "stdout",
          "text": [
            "step: 8400 \ttraining acc: [0.05       0.05       0.05645833 0.59645833 0.8025     0.84875   ]\n"
          ]
        },
        {
          "output_type": "stream",
          "name": "stderr",
          "text": [
            " 14%|█▍        | 8500/60000 [51:17<4:44:30,  3.02it/s]"
          ]
        },
        {
          "output_type": "stream",
          "name": "stdout",
          "text": [
            "step: 8500 \ttraining acc: [0.05       0.05       0.05395833 0.65979167 0.80854167 0.85416667]\n"
          ]
        },
        {
          "output_type": "stream",
          "name": "stderr",
          "text": [
            "\r 14%|█▍        | 8501/60000 [51:35<82:57:16,  5.80s/it]"
          ]
        },
        {
          "output_type": "stream",
          "name": "stdout",
          "text": [
            "Test acc: [0.05    0.05    0.05872 0.5947  0.7407  0.7876  0.816   0.8286  0.8384\n",
            " 0.8457  0.8496 ]\n"
          ]
        },
        {
          "output_type": "stream",
          "name": "stderr",
          "text": [
            " 14%|█▍        | 8601/60000 [52:08<4:43:00,  3.03it/s]"
          ]
        },
        {
          "output_type": "stream",
          "name": "stdout",
          "text": [
            "step: 8600 \ttraining acc: [0.05       0.05       0.05229167 0.630625   0.79       0.85083333]\n"
          ]
        },
        {
          "output_type": "stream",
          "name": "stderr",
          "text": [
            " 15%|█▍        | 8701/60000 [52:41<4:39:18,  3.06it/s]"
          ]
        },
        {
          "output_type": "stream",
          "name": "stdout",
          "text": [
            "step: 8700 \ttraining acc: [0.05       0.05       0.06625    0.60291667 0.78354167 0.82604167]\n"
          ]
        },
        {
          "output_type": "stream",
          "name": "stderr",
          "text": [
            " 15%|█▍        | 8801/60000 [53:14<4:41:39,  3.03it/s]"
          ]
        },
        {
          "output_type": "stream",
          "name": "stdout",
          "text": [
            "step: 8800 \ttraining acc: [0.05       0.05       0.053125   0.63708333 0.80208333 0.84979167]\n"
          ]
        },
        {
          "output_type": "stream",
          "name": "stderr",
          "text": [
            " 15%|█▍        | 8901/60000 [53:46<4:39:28,  3.05it/s]"
          ]
        },
        {
          "output_type": "stream",
          "name": "stdout",
          "text": [
            "step: 8900 \ttraining acc: [0.05       0.05       0.054375   0.65270833 0.80958333 0.85145833]\n"
          ]
        },
        {
          "output_type": "stream",
          "name": "stderr",
          "text": [
            " 15%|█▌        | 9000/60000 [54:19<4:33:36,  3.11it/s]"
          ]
        },
        {
          "output_type": "stream",
          "name": "stdout",
          "text": [
            "step: 9000 \ttraining acc: [0.05       0.05       0.05458333 0.64770833 0.79958333 0.833125  ]\n"
          ]
        },
        {
          "output_type": "stream",
          "name": "stderr",
          "text": [
            "\r 15%|█▌        | 9001/60000 [54:37<80:12:58,  5.66s/it]"
          ]
        },
        {
          "output_type": "stream",
          "name": "stdout",
          "text": [
            "Test acc: [0.05    0.05    0.05768 0.6006  0.745   0.7905  0.8164  0.8286  0.838\n",
            " 0.8447  0.851  ]\n"
          ]
        },
        {
          "output_type": "stream",
          "name": "stderr",
          "text": [
            " 15%|█▌        | 9101/60000 [55:09<4:38:42,  3.04it/s]"
          ]
        },
        {
          "output_type": "stream",
          "name": "stdout",
          "text": [
            "step: 9100 \ttraining acc: [0.05       0.05       0.05208333 0.70041667 0.814375   0.858125  ]\n"
          ]
        },
        {
          "output_type": "stream",
          "name": "stderr",
          "text": [
            " 15%|█▌        | 9201/60000 [55:42<4:37:53,  3.05it/s]"
          ]
        },
        {
          "output_type": "stream",
          "name": "stdout",
          "text": [
            "step: 9200 \ttraining acc: [0.05       0.05       0.05604167 0.629375   0.78854167 0.83916667]\n"
          ]
        },
        {
          "output_type": "stream",
          "name": "stderr",
          "text": [
            " 16%|█▌        | 9301/60000 [56:15<4:40:44,  3.01it/s]"
          ]
        },
        {
          "output_type": "stream",
          "name": "stdout",
          "text": [
            "step: 9300 \ttraining acc: [0.05       0.05       0.0525     0.66145833 0.809375   0.85479167]\n"
          ]
        },
        {
          "output_type": "stream",
          "name": "stderr",
          "text": [
            " 16%|█▌        | 9401/60000 [56:48<4:39:12,  3.02it/s]"
          ]
        },
        {
          "output_type": "stream",
          "name": "stdout",
          "text": [
            "step: 9400 \ttraining acc: [0.05       0.05       0.05916667 0.64       0.82166667 0.859375  ]\n"
          ]
        },
        {
          "output_type": "stream",
          "name": "stderr",
          "text": [
            " 16%|█▌        | 9500/60000 [57:21<4:47:07,  2.93it/s]"
          ]
        },
        {
          "output_type": "stream",
          "name": "stdout",
          "text": [
            "step: 9500 \ttraining acc: [0.05       0.05       0.059375   0.68416667 0.82625    0.865     ]\n"
          ]
        },
        {
          "output_type": "stream",
          "name": "stderr",
          "text": [
            "\r 16%|█▌        | 9501/60000 [57:39<80:46:38,  5.76s/it]"
          ]
        },
        {
          "output_type": "stream",
          "name": "stdout",
          "text": [
            "Test acc: [0.05    0.05    0.06067 0.613   0.753   0.7935  0.819   0.8296  0.84\n",
            " 0.8457  0.852  ]\n"
          ]
        },
        {
          "output_type": "stream",
          "name": "stderr",
          "text": [
            " 16%|█▌        | 9601/60000 [58:12<4:37:05,  3.03it/s]"
          ]
        },
        {
          "output_type": "stream",
          "name": "stdout",
          "text": [
            "step: 9600 \ttraining acc: [0.05       0.05       0.06416667 0.61541667 0.761875   0.815625  ]\n"
          ]
        },
        {
          "output_type": "stream",
          "name": "stderr",
          "text": [
            " 16%|█▌        | 9701/60000 [58:45<4:38:04,  3.01it/s]"
          ]
        },
        {
          "output_type": "stream",
          "name": "stdout",
          "text": [
            "step: 9700 \ttraining acc: [0.05       0.05       0.05770833 0.640625   0.800625   0.840625  ]\n"
          ]
        },
        {
          "output_type": "stream",
          "name": "stderr",
          "text": [
            " 16%|█▋        | 9801/60000 [59:18<4:36:32,  3.03it/s]"
          ]
        },
        {
          "output_type": "stream",
          "name": "stdout",
          "text": [
            "step: 9800 \ttraining acc: [0.05       0.05       0.06041667 0.63770833 0.8125     0.85958333]\n"
          ]
        },
        {
          "output_type": "stream",
          "name": "stderr",
          "text": [
            " 17%|█▋        | 9901/60000 [59:51<4:34:12,  3.05it/s]"
          ]
        },
        {
          "output_type": "stream",
          "name": "stdout",
          "text": [
            "step: 9900 \ttraining acc: [0.05       0.05       0.05       0.66791667 0.83229167 0.86375   ]\n"
          ]
        },
        {
          "output_type": "stream",
          "name": "stderr",
          "text": [
            " 17%|█▋        | 10000/60000 [1:00:23<4:30:52,  3.08it/s]"
          ]
        },
        {
          "output_type": "stream",
          "name": "stdout",
          "text": [
            "step: 10000 \ttraining acc: [0.05       0.05       0.065      0.62916667 0.79895833 0.845     ]\n"
          ]
        },
        {
          "output_type": "stream",
          "name": "stderr",
          "text": [
            "\r 17%|█▋        | 10001/60000 [1:00:41<78:23:53,  5.64s/it]"
          ]
        },
        {
          "output_type": "stream",
          "name": "stdout",
          "text": [
            "Test acc: [0.05   0.05   0.0668 0.587  0.7373 0.7856 0.8135 0.8257 0.837  0.8438\n",
            " 0.8506]\n"
          ]
        },
        {
          "output_type": "stream",
          "name": "stderr",
          "text": [
            " 17%|█▋        | 10101/60000 [1:01:13<4:28:40,  3.10it/s]"
          ]
        },
        {
          "output_type": "stream",
          "name": "stdout",
          "text": [
            "step: 10100 \ttraining acc: [0.05       0.05       0.06125    0.65958333 0.80833333 0.86458333]\n"
          ]
        },
        {
          "output_type": "stream",
          "name": "stderr",
          "text": [
            " 17%|█▋        | 10201/60000 [1:01:46<4:27:36,  3.10it/s]"
          ]
        },
        {
          "output_type": "stream",
          "name": "stdout",
          "text": [
            "step: 10200 \ttraining acc: [0.05       0.05       0.05895833 0.65083333 0.816875   0.85166667]\n"
          ]
        },
        {
          "output_type": "stream",
          "name": "stderr",
          "text": [
            " 17%|█▋        | 10301/60000 [1:02:19<4:35:40,  3.00it/s]"
          ]
        },
        {
          "output_type": "stream",
          "name": "stdout",
          "text": [
            "step: 10300 \ttraining acc: [0.05       0.05       0.05625    0.62354167 0.784375   0.83729167]\n"
          ]
        },
        {
          "output_type": "stream",
          "name": "stderr",
          "text": [
            " 17%|█▋        | 10401/60000 [1:02:51<4:27:10,  3.09it/s]"
          ]
        },
        {
          "output_type": "stream",
          "name": "stdout",
          "text": [
            "step: 10400 \ttraining acc: [0.05       0.05       0.05166667 0.66229167 0.8225     0.83895833]\n"
          ]
        },
        {
          "output_type": "stream",
          "name": "stderr",
          "text": [
            " 18%|█▊        | 10500/60000 [1:03:23<4:27:34,  3.08it/s]"
          ]
        },
        {
          "output_type": "stream",
          "name": "stdout",
          "text": [
            "step: 10500 \ttraining acc: [0.05104167 0.06229167 0.06916667 0.08166667 0.190625   0.57375   ]\n"
          ]
        },
        {
          "output_type": "stream",
          "name": "stderr",
          "text": [
            "\r 18%|█▊        | 10501/60000 [1:03:42<78:11:11,  5.69s/it]"
          ]
        },
        {
          "output_type": "stream",
          "name": "stdout",
          "text": [
            "Test acc: [0.0502  0.05267 0.05624 0.06335 0.1293  0.4731  0.618   0.6763  0.712\n",
            " 0.731   0.7446 ]\n"
          ]
        },
        {
          "output_type": "stream",
          "name": "stderr",
          "text": [
            " 18%|█▊        | 10601/60000 [1:04:14<4:22:50,  3.13it/s]"
          ]
        },
        {
          "output_type": "stream",
          "name": "stdout",
          "text": [
            "step: 10600 \ttraining acc: [0.05       0.05       0.08770833 0.63270833 0.78229167 0.84229167]\n"
          ]
        },
        {
          "output_type": "stream",
          "name": "stderr",
          "text": [
            " 18%|█▊        | 10701/60000 [1:04:47<4:31:51,  3.02it/s]"
          ]
        },
        {
          "output_type": "stream",
          "name": "stdout",
          "text": [
            "step: 10700 \ttraining acc: [0.05       0.05       0.06979167 0.67208333 0.83270833 0.87833333]\n"
          ]
        },
        {
          "output_type": "stream",
          "name": "stderr",
          "text": [
            " 18%|█▊        | 10801/60000 [1:05:19<4:28:37,  3.05it/s]"
          ]
        },
        {
          "output_type": "stream",
          "name": "stdout",
          "text": [
            "step: 10800 \ttraining acc: [0.05       0.05       0.06166667 0.665625   0.84479167 0.86791667]\n"
          ]
        },
        {
          "output_type": "stream",
          "name": "stderr",
          "text": [
            " 18%|█▊        | 10901/60000 [1:05:52<4:25:22,  3.08it/s]"
          ]
        },
        {
          "output_type": "stream",
          "name": "stdout",
          "text": [
            "step: 10900 \ttraining acc: [0.05       0.05       0.05375    0.62       0.79895833 0.84416667]\n"
          ]
        },
        {
          "output_type": "stream",
          "name": "stderr",
          "text": [
            " 18%|█▊        | 11000/60000 [1:06:24<4:24:15,  3.09it/s]"
          ]
        },
        {
          "output_type": "stream",
          "name": "stdout",
          "text": [
            "step: 11000 \ttraining acc: [0.05       0.05       0.05395833 0.64333333 0.80916667 0.85020833]\n"
          ]
        },
        {
          "output_type": "stream",
          "name": "stderr",
          "text": [
            "\r 18%|█▊        | 11001/60000 [1:06:42<77:29:26,  5.69s/it]"
          ]
        },
        {
          "output_type": "stream",
          "name": "stdout",
          "text": [
            "Test acc: [0.05    0.05    0.05478 0.594   0.741   0.7876  0.816   0.828   0.839\n",
            " 0.846   0.853  ]\n"
          ]
        },
        {
          "output_type": "stream",
          "name": "stderr",
          "text": [
            " 19%|█▊        | 11101/60000 [1:07:15<4:24:01,  3.09it/s]"
          ]
        },
        {
          "output_type": "stream",
          "name": "stdout",
          "text": [
            "step: 11100 \ttraining acc: [0.05       0.05       0.055      0.69708333 0.855625   0.89416667]\n"
          ]
        },
        {
          "output_type": "stream",
          "name": "stderr",
          "text": [
            " 19%|█▊        | 11201/60000 [1:07:47<4:23:43,  3.08it/s]"
          ]
        },
        {
          "output_type": "stream",
          "name": "stdout",
          "text": [
            "step: 11200 \ttraining acc: [0.05       0.05       0.05104167 0.6775     0.80708333 0.84958333]\n"
          ]
        },
        {
          "output_type": "stream",
          "name": "stderr",
          "text": [
            " 19%|█▉        | 11301/60000 [1:08:20<4:22:02,  3.10it/s]"
          ]
        },
        {
          "output_type": "stream",
          "name": "stdout",
          "text": [
            "step: 11300 \ttraining acc: [0.05       0.05       0.05       0.05       0.11229167 0.66791667]\n"
          ]
        },
        {
          "output_type": "stream",
          "name": "stderr",
          "text": [
            " 19%|█▉        | 11401/60000 [1:08:53<4:29:04,  3.01it/s]"
          ]
        },
        {
          "output_type": "stream",
          "name": "stdout",
          "text": [
            "step: 11400 \ttraining acc: [0.05       0.06       0.32645833 0.6875     0.826875   0.87916667]\n"
          ]
        },
        {
          "output_type": "stream",
          "name": "stderr",
          "text": [
            " 19%|█▉        | 11500/60000 [1:09:26<4:21:29,  3.09it/s]"
          ]
        },
        {
          "output_type": "stream",
          "name": "stdout",
          "text": [
            "step: 11500 \ttraining acc: [0.05       0.05       0.06541667 0.685625   0.82625    0.86625   ]\n"
          ]
        },
        {
          "output_type": "stream",
          "name": "stderr",
          "text": [
            "\r 19%|█▉        | 11501/60000 [1:09:45<77:17:23,  5.74s/it]"
          ]
        },
        {
          "output_type": "stream",
          "name": "stdout",
          "text": [
            "Test acc: [0.05   0.05   0.063  0.605  0.7563 0.8013 0.826  0.839  0.846  0.8545\n",
            " 0.858 ]\n"
          ]
        },
        {
          "output_type": "stream",
          "name": "stderr",
          "text": [
            " 19%|█▉        | 11601/60000 [1:10:18<4:25:08,  3.04it/s]"
          ]
        },
        {
          "output_type": "stream",
          "name": "stdout",
          "text": [
            "step: 11600 \ttraining acc: [0.05       0.05       0.05791667 0.67916667 0.8225     0.85520833]\n"
          ]
        },
        {
          "output_type": "stream",
          "name": "stderr",
          "text": [
            " 20%|█▉        | 11701/60000 [1:10:51<4:24:53,  3.04it/s]"
          ]
        },
        {
          "output_type": "stream",
          "name": "stdout",
          "text": [
            "step: 11700 \ttraining acc: [0.05       0.05       0.05791667 0.65395833 0.82541667 0.86770833]\n"
          ]
        },
        {
          "output_type": "stream",
          "name": "stderr",
          "text": [
            " 20%|█▉        | 11801/60000 [1:11:24<4:25:40,  3.02it/s]"
          ]
        },
        {
          "output_type": "stream",
          "name": "stdout",
          "text": [
            "step: 11800 \ttraining acc: [0.05       0.05       0.0525     0.63666667 0.81666667 0.85333333]\n"
          ]
        },
        {
          "output_type": "stream",
          "name": "stderr",
          "text": [
            " 20%|█▉        | 11901/60000 [1:11:57<4:22:01,  3.06it/s]"
          ]
        },
        {
          "output_type": "stream",
          "name": "stdout",
          "text": [
            "step: 11900 \ttraining acc: [0.05       0.05       0.05583333 0.66604167 0.81916667 0.86145833]\n"
          ]
        },
        {
          "output_type": "stream",
          "name": "stderr",
          "text": [
            " 20%|██        | 12000/60000 [1:12:30<4:21:09,  3.06it/s]"
          ]
        },
        {
          "output_type": "stream",
          "name": "stdout",
          "text": [
            "step: 12000 \ttraining acc: [0.05       0.05       0.05333333 0.62375    0.79979167 0.85520833]\n"
          ]
        },
        {
          "output_type": "stream",
          "name": "stderr",
          "text": [
            "\r 20%|██        | 12001/60000 [1:12:48<76:45:36,  5.76s/it]"
          ]
        },
        {
          "output_type": "stream",
          "name": "stdout",
          "text": [
            "Test acc: [0.05    0.05    0.05475 0.5825  0.733   0.782   0.8105  0.8228  0.834\n",
            " 0.8394  0.8457 ]\n"
          ]
        },
        {
          "output_type": "stream",
          "name": "stderr",
          "text": [
            " 20%|██        | 12101/60000 [1:13:22<4:26:42,  2.99it/s]"
          ]
        },
        {
          "output_type": "stream",
          "name": "stdout",
          "text": [
            "step: 12100 \ttraining acc: [0.05       0.05       0.06       0.62458333 0.79708333 0.85479167]\n"
          ]
        },
        {
          "output_type": "stream",
          "name": "stderr",
          "text": [
            " 20%|██        | 12201/60000 [1:13:55<4:31:06,  2.94it/s]"
          ]
        },
        {
          "output_type": "stream",
          "name": "stdout",
          "text": [
            "step: 12200 \ttraining acc: [0.05       0.05       0.05416667 0.68708333 0.8325     0.86895833]\n"
          ]
        },
        {
          "output_type": "stream",
          "name": "stderr",
          "text": [
            " 21%|██        | 12301/60000 [1:14:28<4:25:50,  2.99it/s]"
          ]
        },
        {
          "output_type": "stream",
          "name": "stdout",
          "text": [
            "step: 12300 \ttraining acc: [0.05       0.05       0.05125    0.65375    0.82375    0.86604167]\n"
          ]
        },
        {
          "output_type": "stream",
          "name": "stderr",
          "text": [
            " 21%|██        | 12401/60000 [1:15:01<4:22:53,  3.02it/s]"
          ]
        },
        {
          "output_type": "stream",
          "name": "stdout",
          "text": [
            "step: 12400 \ttraining acc: [0.05       0.05       0.054375   0.674375   0.81395833 0.84916667]\n"
          ]
        },
        {
          "output_type": "stream",
          "name": "stderr",
          "text": [
            " 21%|██        | 12500/60000 [1:15:34<4:20:35,  3.04it/s]"
          ]
        },
        {
          "output_type": "stream",
          "name": "stdout",
          "text": [
            "step: 12500 \ttraining acc: [0.05       0.05       0.05395833 0.62125    0.808125   0.86125   ]\n"
          ]
        },
        {
          "output_type": "stream",
          "name": "stderr",
          "text": [
            "\r 21%|██        | 12501/60000 [1:15:53<76:28:40,  5.80s/it]"
          ]
        },
        {
          "output_type": "stream",
          "name": "stdout",
          "text": [
            "Test acc: [0.05    0.05    0.05295 0.5796  0.734   0.786   0.8125  0.8267  0.8354\n",
            " 0.8423  0.849  ]\n"
          ]
        },
        {
          "output_type": "stream",
          "name": "stderr",
          "text": [
            " 21%|██        | 12601/60000 [1:16:26<4:26:33,  2.96it/s]"
          ]
        },
        {
          "output_type": "stream",
          "name": "stdout",
          "text": [
            "step: 12600 \ttraining acc: [0.05       0.05       0.05854167 0.64354167 0.79916667 0.840625  ]\n"
          ]
        },
        {
          "output_type": "stream",
          "name": "stderr",
          "text": [
            " 21%|██        | 12701/60000 [1:17:00<4:25:07,  2.97it/s]"
          ]
        },
        {
          "output_type": "stream",
          "name": "stdout",
          "text": [
            "step: 12700 \ttraining acc: [0.05       0.05       0.05020833 0.64020833 0.800625   0.86041667]\n"
          ]
        },
        {
          "output_type": "stream",
          "name": "stderr",
          "text": [
            " 21%|██▏       | 12801/60000 [1:17:33<4:22:14,  3.00it/s]"
          ]
        },
        {
          "output_type": "stream",
          "name": "stdout",
          "text": [
            "step: 12800 \ttraining acc: [0.05       0.05       0.055625   0.66125    0.813125   0.85270833]\n"
          ]
        },
        {
          "output_type": "stream",
          "name": "stderr",
          "text": [
            " 22%|██▏       | 12901/60000 [1:18:06<4:28:48,  2.92it/s]"
          ]
        },
        {
          "output_type": "stream",
          "name": "stdout",
          "text": [
            "step: 12900 \ttraining acc: [0.05       0.05       0.05145833 0.6575     0.80708333 0.86916667]\n"
          ]
        },
        {
          "output_type": "stream",
          "name": "stderr",
          "text": [
            " 22%|██▏       | 13000/60000 [1:18:40<4:37:14,  2.83it/s]"
          ]
        },
        {
          "output_type": "stream",
          "name": "stdout",
          "text": [
            "step: 13000 \ttraining acc: [0.05       0.05       0.05229167 0.655      0.8175     0.8675    ]\n"
          ]
        },
        {
          "output_type": "stream",
          "name": "stderr",
          "text": [
            "\r 22%|██▏       | 13001/60000 [1:18:59<77:22:44,  5.93s/it]"
          ]
        },
        {
          "output_type": "stream",
          "name": "stdout",
          "text": [
            "Test acc: [0.05   0.05   0.0536 0.598  0.748  0.7944 0.82   0.8325 0.841  0.848\n",
            " 0.8535]\n"
          ]
        },
        {
          "output_type": "stream",
          "name": "stderr",
          "text": [
            " 22%|██▏       | 13101/60000 [1:19:32<4:19:42,  3.01it/s]"
          ]
        },
        {
          "output_type": "stream",
          "name": "stdout",
          "text": [
            "step: 13100 \ttraining acc: [0.05       0.05       0.05479167 0.64229167 0.82291667 0.86645833]\n"
          ]
        },
        {
          "output_type": "stream",
          "name": "stderr",
          "text": [
            " 22%|██▏       | 13201/60000 [1:20:05<4:15:07,  3.06it/s]"
          ]
        },
        {
          "output_type": "stream",
          "name": "stdout",
          "text": [
            "step: 13200 \ttraining acc: [0.05       0.05       0.06083333 0.65229167 0.810625   0.84291667]\n"
          ]
        },
        {
          "output_type": "stream",
          "name": "stderr",
          "text": [
            " 22%|██▏       | 13301/60000 [1:20:38<4:17:50,  3.02it/s]"
          ]
        },
        {
          "output_type": "stream",
          "name": "stdout",
          "text": [
            "step: 13300 \ttraining acc: [0.05       0.05       0.06083333 0.64541667 0.81145833 0.86458333]\n"
          ]
        },
        {
          "output_type": "stream",
          "name": "stderr",
          "text": [
            " 22%|██▏       | 13401/60000 [1:21:12<4:15:39,  3.04it/s]"
          ]
        },
        {
          "output_type": "stream",
          "name": "stdout",
          "text": [
            "step: 13400 \ttraining acc: [0.05       0.05       0.05645833 0.67666667 0.82729167 0.8625    ]\n"
          ]
        },
        {
          "output_type": "stream",
          "name": "stderr",
          "text": [
            " 22%|██▎       | 13500/60000 [1:21:44<4:15:38,  3.03it/s]"
          ]
        },
        {
          "output_type": "stream",
          "name": "stdout",
          "text": [
            "step: 13500 \ttraining acc: [0.05       0.05       0.05145833 0.64083333 0.79875    0.865625  ]\n"
          ]
        },
        {
          "output_type": "stream",
          "name": "stderr",
          "text": [
            "\r 23%|██▎       | 13501/60000 [1:22:03<73:51:25,  5.72s/it]"
          ]
        },
        {
          "output_type": "stream",
          "name": "stdout",
          "text": [
            "Test acc: [0.05    0.05    0.05322 0.5874  0.7334  0.7847  0.8105  0.8247  0.835\n",
            " 0.842   0.849  ]\n"
          ]
        },
        {
          "output_type": "stream",
          "name": "stderr",
          "text": [
            " 23%|██▎       | 13601/60000 [1:22:36<4:15:39,  3.02it/s]"
          ]
        },
        {
          "output_type": "stream",
          "name": "stdout",
          "text": [
            "step: 13600 \ttraining acc: [0.05       0.05       0.05729167 0.63333333 0.80604167 0.86791667]\n"
          ]
        },
        {
          "output_type": "stream",
          "name": "stderr",
          "text": [
            " 23%|██▎       | 13701/60000 [1:23:09<4:12:09,  3.06it/s]"
          ]
        },
        {
          "output_type": "stream",
          "name": "stdout",
          "text": [
            "step: 13700 \ttraining acc: [0.05       0.05       0.05416667 0.67520833 0.83875    0.88270833]\n"
          ]
        },
        {
          "output_type": "stream",
          "name": "stderr",
          "text": [
            " 23%|██▎       | 13801/60000 [1:23:42<4:11:21,  3.06it/s]"
          ]
        },
        {
          "output_type": "stream",
          "name": "stdout",
          "text": [
            "step: 13800 \ttraining acc: [0.05       0.05       0.06604167 0.64375    0.81916667 0.88208333]\n"
          ]
        },
        {
          "output_type": "stream",
          "name": "stderr",
          "text": [
            " 23%|██▎       | 13901/60000 [1:24:15<4:20:36,  2.95it/s]"
          ]
        },
        {
          "output_type": "stream",
          "name": "stdout",
          "text": [
            "step: 13900 \ttraining acc: [0.05       0.05       0.05395833 0.62479167 0.79270833 0.84229167]\n"
          ]
        },
        {
          "output_type": "stream",
          "name": "stderr",
          "text": [
            " 23%|██▎       | 14000/60000 [1:24:49<4:18:56,  2.96it/s]"
          ]
        },
        {
          "output_type": "stream",
          "name": "stdout",
          "text": [
            "step: 14000 \ttraining acc: [0.05       0.05       0.05208333 0.66979167 0.830625   0.86979167]\n"
          ]
        },
        {
          "output_type": "stream",
          "name": "stderr",
          "text": [
            "\r 23%|██▎       | 14001/60000 [1:25:07<73:53:23,  5.78s/it]"
          ]
        },
        {
          "output_type": "stream",
          "name": "stdout",
          "text": [
            "Test acc: [0.05    0.05    0.05203 0.5977  0.7437  0.792   0.8184  0.832   0.8413\n",
            " 0.848   0.854  ]\n"
          ]
        },
        {
          "output_type": "stream",
          "name": "stderr",
          "text": [
            " 24%|██▎       | 14101/60000 [1:25:40<4:12:14,  3.03it/s]"
          ]
        },
        {
          "output_type": "stream",
          "name": "stdout",
          "text": [
            "step: 14100 \ttraining acc: [0.05       0.05       0.06645833 0.62479167 0.804375   0.85666667]\n"
          ]
        },
        {
          "output_type": "stream",
          "name": "stderr",
          "text": [
            " 24%|██▎       | 14201/60000 [1:26:14<4:10:13,  3.05it/s]"
          ]
        },
        {
          "output_type": "stream",
          "name": "stdout",
          "text": [
            "step: 14200 \ttraining acc: [0.05       0.05       0.05458333 0.67270833 0.819375   0.86708333]\n"
          ]
        },
        {
          "output_type": "stream",
          "name": "stderr",
          "text": [
            " 24%|██▍       | 14301/60000 [1:26:47<4:12:52,  3.01it/s]"
          ]
        },
        {
          "output_type": "stream",
          "name": "stdout",
          "text": [
            "step: 14300 \ttraining acc: [0.05083333 0.056875   0.19083333 0.43104167 0.6525     0.75416667]\n"
          ]
        },
        {
          "output_type": "stream",
          "name": "stderr",
          "text": [
            " 24%|██▍       | 14401/60000 [1:27:20<4:06:28,  3.08it/s]"
          ]
        },
        {
          "output_type": "stream",
          "name": "stdout",
          "text": [
            "step: 14400 \ttraining acc: [0.05       0.05       0.05       0.05083333 0.20104167 0.716875  ]\n"
          ]
        },
        {
          "output_type": "stream",
          "name": "stderr",
          "text": [
            " 24%|██▍       | 14500/60000 [1:27:53<4:14:58,  2.97it/s]"
          ]
        },
        {
          "output_type": "stream",
          "name": "stdout",
          "text": [
            "step: 14500 \ttraining acc: [0.05       0.05       0.05       0.05       0.19604167 0.75125   ]\n"
          ]
        },
        {
          "output_type": "stream",
          "name": "stderr",
          "text": [
            "\r 24%|██▍       | 14501/60000 [1:28:11<73:58:52,  5.85s/it]"
          ]
        },
        {
          "output_type": "stream",
          "name": "stdout",
          "text": [
            "Test acc: [0.05   0.05   0.05   0.0502 0.1923 0.6855 0.801  0.8364 0.8535 0.862\n",
            " 0.868 ]\n"
          ]
        },
        {
          "output_type": "stream",
          "name": "stderr",
          "text": [
            " 24%|██▍       | 14601/60000 [1:28:45<4:09:45,  3.03it/s]"
          ]
        },
        {
          "output_type": "stream",
          "name": "stdout",
          "text": [
            "step: 14600 \ttraining acc: [0.05       0.05       0.05       0.0525     0.17666667 0.73166667]\n"
          ]
        },
        {
          "output_type": "stream",
          "name": "stderr",
          "text": [
            " 25%|██▍       | 14701/60000 [1:29:18<4:14:04,  2.97it/s]"
          ]
        },
        {
          "output_type": "stream",
          "name": "stdout",
          "text": [
            "step: 14700 \ttraining acc: [0.05       0.05       0.05       0.05020833 0.19958333 0.7575    ]\n"
          ]
        },
        {
          "output_type": "stream",
          "name": "stderr",
          "text": [
            " 25%|██▍       | 14801/60000 [1:29:51<4:10:33,  3.01it/s]"
          ]
        },
        {
          "output_type": "stream",
          "name": "stdout",
          "text": [
            "step: 14800 \ttraining acc: [0.05       0.05       0.05       0.05375    0.23770833 0.77479167]\n"
          ]
        },
        {
          "output_type": "stream",
          "name": "stderr",
          "text": [
            " 25%|██▍       | 14901/60000 [1:30:25<4:15:07,  2.95it/s]"
          ]
        },
        {
          "output_type": "stream",
          "name": "stdout",
          "text": [
            "step: 14900 \ttraining acc: [0.05       0.05       0.05       0.05291667 0.28375    0.79979167]\n"
          ]
        },
        {
          "output_type": "stream",
          "name": "stderr",
          "text": [
            " 25%|██▌       | 15000/60000 [1:30:58<4:12:58,  2.96it/s]"
          ]
        },
        {
          "output_type": "stream",
          "name": "stdout",
          "text": [
            "step: 15000 \ttraining acc: [0.05       0.05       0.05       0.05       0.17729167 0.75854167]\n"
          ]
        },
        {
          "output_type": "stream",
          "name": "stderr",
          "text": [
            "\r 25%|██▌       | 15001/60000 [1:31:17<74:25:33,  5.95s/it]"
          ]
        },
        {
          "output_type": "stream",
          "name": "stdout",
          "text": [
            "Test acc: [0.05    0.05    0.05    0.05093 0.1743  0.6914  0.805   0.8394  0.8555\n",
            " 0.864   0.8687 ]\n"
          ]
        },
        {
          "output_type": "stream",
          "name": "stderr",
          "text": [
            " 25%|██▌       | 15101/60000 [1:31:51<4:14:14,  2.94it/s]"
          ]
        },
        {
          "output_type": "stream",
          "name": "stdout",
          "text": [
            "step: 15100 \ttraining acc: [0.05       0.05       0.05       0.05083333 0.28416667 0.79020833]\n"
          ]
        },
        {
          "output_type": "stream",
          "name": "stderr",
          "text": [
            " 25%|██▌       | 15201/60000 [1:32:25<4:20:01,  2.87it/s]"
          ]
        },
        {
          "output_type": "stream",
          "name": "stdout",
          "text": [
            "step: 15200 \ttraining acc: [0.05       0.05       0.05       0.05416667 0.25729167 0.78416667]\n"
          ]
        },
        {
          "output_type": "stream",
          "name": "stderr",
          "text": [
            " 26%|██▌       | 15301/60000 [1:32:59<4:16:13,  2.91it/s]"
          ]
        },
        {
          "output_type": "stream",
          "name": "stdout",
          "text": [
            "step: 15300 \ttraining acc: [0.05       0.05       0.05       0.05375    0.25666667 0.758125  ]\n"
          ]
        },
        {
          "output_type": "stream",
          "name": "stderr",
          "text": [
            " 26%|██▌       | 15401/60000 [1:33:33<4:12:19,  2.95it/s]"
          ]
        },
        {
          "output_type": "stream",
          "name": "stdout",
          "text": [
            "step: 15400 \ttraining acc: [0.05       0.05       0.05       0.05375    0.30520833 0.80791667]\n"
          ]
        },
        {
          "output_type": "stream",
          "name": "stderr",
          "text": [
            " 26%|██▌       | 15500/60000 [1:34:07<4:14:07,  2.92it/s]"
          ]
        },
        {
          "output_type": "stream",
          "name": "stdout",
          "text": [
            "step: 15500 \ttraining acc: [0.05       0.05       0.05       0.05041667 0.14375    0.74979167]\n"
          ]
        },
        {
          "output_type": "stream",
          "name": "stderr",
          "text": [
            "\r 26%|██▌       | 15501/60000 [1:34:25<72:15:21,  5.85s/it]"
          ]
        },
        {
          "output_type": "stream",
          "name": "stdout",
          "text": [
            "Test acc: [0.05    0.05    0.05    0.05008 0.1299  0.673   0.7935  0.8315  0.8496\n",
            " 0.858   0.8643 ]\n"
          ]
        },
        {
          "output_type": "stream",
          "name": "stderr",
          "text": [
            " 26%|██▌       | 15601/60000 [1:34:59<4:07:25,  2.99it/s]"
          ]
        },
        {
          "output_type": "stream",
          "name": "stdout",
          "text": [
            "step: 15600 \ttraining acc: [0.05       0.05       0.05       0.05020833 0.28520833 0.80625   ]\n"
          ]
        },
        {
          "output_type": "stream",
          "name": "stderr",
          "text": [
            " 26%|██▌       | 15701/60000 [1:35:33<4:06:33,  2.99it/s]"
          ]
        },
        {
          "output_type": "stream",
          "name": "stdout",
          "text": [
            "step: 15700 \ttraining acc: [0.05       0.05       0.05       0.05083333 0.27208333 0.76666667]\n"
          ]
        },
        {
          "output_type": "stream",
          "name": "stderr",
          "text": [
            " 26%|██▋       | 15801/60000 [1:36:06<4:05:02,  3.01it/s]"
          ]
        },
        {
          "output_type": "stream",
          "name": "stdout",
          "text": [
            "step: 15800 \ttraining acc: [0.05       0.05       0.05       0.05125    0.21583333 0.751875  ]\n"
          ]
        },
        {
          "output_type": "stream",
          "name": "stderr",
          "text": [
            " 27%|██▋       | 15901/60000 [1:36:40<4:03:48,  3.01it/s]"
          ]
        },
        {
          "output_type": "stream",
          "name": "stdout",
          "text": [
            "step: 15900 \ttraining acc: [0.05       0.05       0.05       0.05020833 0.20375    0.77666667]\n"
          ]
        },
        {
          "output_type": "stream",
          "name": "stderr",
          "text": [
            " 27%|██▋       | 16000/60000 [1:37:14<4:10:11,  2.93it/s]"
          ]
        },
        {
          "output_type": "stream",
          "name": "stdout",
          "text": [
            "step: 16000 \ttraining acc: [0.05       0.05       0.05       0.05229167 0.256875   0.77083333]\n"
          ]
        },
        {
          "output_type": "stream",
          "name": "stderr",
          "text": [
            "\r 27%|██▋       | 16001/60000 [1:37:33<72:16:02,  5.91s/it]"
          ]
        },
        {
          "output_type": "stream",
          "name": "stdout",
          "text": [
            "Test acc: [0.05    0.05    0.05    0.05508 0.2578  0.6914  0.798   0.833   0.848\n",
            " 0.857   0.8623 ]\n"
          ]
        },
        {
          "output_type": "stream",
          "name": "stderr",
          "text": [
            " 27%|██▋       | 16101/60000 [1:38:07<4:02:34,  3.02it/s]"
          ]
        },
        {
          "output_type": "stream",
          "name": "stdout",
          "text": [
            "step: 16100 \ttraining acc: [0.05       0.05       0.05       0.05       0.20854167 0.77875   ]\n"
          ]
        },
        {
          "output_type": "stream",
          "name": "stderr",
          "text": [
            " 27%|██▋       | 16201/60000 [1:38:40<4:04:08,  2.99it/s]"
          ]
        },
        {
          "output_type": "stream",
          "name": "stdout",
          "text": [
            "step: 16200 \ttraining acc: [0.05     0.05     0.05     0.05125  0.18375  0.741875]\n"
          ]
        },
        {
          "output_type": "stream",
          "name": "stderr",
          "text": [
            " 27%|██▋       | 16301/60000 [1:39:14<4:02:30,  3.00it/s]"
          ]
        },
        {
          "output_type": "stream",
          "name": "stdout",
          "text": [
            "step: 16300 \ttraining acc: [0.05       0.05       0.05       0.05       0.20895833 0.74645833]\n"
          ]
        },
        {
          "output_type": "stream",
          "name": "stderr",
          "text": [
            " 27%|██▋       | 16401/60000 [1:39:47<4:01:00,  3.02it/s]"
          ]
        },
        {
          "output_type": "stream",
          "name": "stdout",
          "text": [
            "step: 16400 \ttraining acc: [0.05       0.05       0.05       0.05020833 0.17854167 0.75083333]\n"
          ]
        },
        {
          "output_type": "stream",
          "name": "stderr",
          "text": [
            " 28%|██▊       | 16500/60000 [1:40:20<4:00:55,  3.01it/s]"
          ]
        },
        {
          "output_type": "stream",
          "name": "stdout",
          "text": [
            "step: 16500 \ttraining acc: [0.05       0.05       0.05       0.05125    0.22541667 0.75625   ]\n"
          ]
        },
        {
          "output_type": "stream",
          "name": "stderr",
          "text": [
            "\r 28%|██▊       | 16501/60000 [1:40:39<70:34:45,  5.84s/it]"
          ]
        },
        {
          "output_type": "stream",
          "name": "stdout",
          "text": [
            "Test acc: [0.05    0.05    0.05    0.05054 0.1951  0.7075  0.8154  0.8467  0.861\n",
            " 0.868   0.8726 ]\n"
          ]
        },
        {
          "output_type": "stream",
          "name": "stderr",
          "text": [
            " 28%|██▊       | 16601/60000 [1:41:12<3:58:42,  3.03it/s]"
          ]
        },
        {
          "output_type": "stream",
          "name": "stdout",
          "text": [
            "step: 16600 \ttraining acc: [0.05       0.05       0.05       0.05145833 0.26958333 0.793125  ]\n"
          ]
        },
        {
          "output_type": "stream",
          "name": "stderr",
          "text": [
            " 28%|██▊       | 16701/60000 [1:41:45<3:55:37,  3.06it/s]"
          ]
        },
        {
          "output_type": "stream",
          "name": "stdout",
          "text": [
            "step: 16700 \ttraining acc: [0.05       0.05       0.05       0.05041667 0.220625   0.76833333]\n"
          ]
        },
        {
          "output_type": "stream",
          "name": "stderr",
          "text": [
            " 28%|██▊       | 16801/60000 [1:42:19<3:57:09,  3.04it/s]"
          ]
        },
        {
          "output_type": "stream",
          "name": "stdout",
          "text": [
            "step: 16800 \ttraining acc: [0.05       0.05       0.05       0.05145833 0.211875   0.75625   ]\n"
          ]
        },
        {
          "output_type": "stream",
          "name": "stderr",
          "text": [
            " 28%|██▊       | 16901/60000 [1:42:52<3:55:17,  3.05it/s]"
          ]
        },
        {
          "output_type": "stream",
          "name": "stdout",
          "text": [
            "step: 16900 \ttraining acc: [0.05       0.05       0.05       0.05       0.24708333 0.759375  ]\n"
          ]
        },
        {
          "output_type": "stream",
          "name": "stderr",
          "text": [
            " 28%|██▊       | 17000/60000 [1:43:25<3:58:38,  3.00it/s]"
          ]
        },
        {
          "output_type": "stream",
          "name": "stdout",
          "text": [
            "step: 17000 \ttraining acc: [0.05     0.05     0.05     0.05     0.194375 0.736875]\n"
          ]
        },
        {
          "output_type": "stream",
          "name": "stderr",
          "text": [
            "\r 28%|██▊       | 17001/60000 [1:43:43<69:13:38,  5.80s/it]"
          ]
        },
        {
          "output_type": "stream",
          "name": "stdout",
          "text": [
            "Test acc: [0.05    0.05    0.05    0.05008 0.1768  0.6763  0.794   0.831   0.846\n",
            " 0.8555  0.861  ]\n"
          ]
        },
        {
          "output_type": "stream",
          "name": "stderr",
          "text": [
            " 29%|██▊       | 17101/60000 [1:44:16<3:58:22,  3.00it/s]"
          ]
        },
        {
          "output_type": "stream",
          "name": "stdout",
          "text": [
            "step: 17100 \ttraining acc: [0.05       0.05       0.05       0.05       0.17520833 0.76479167]\n"
          ]
        },
        {
          "output_type": "stream",
          "name": "stderr",
          "text": [
            " 29%|██▊       | 17201/60000 [1:44:49<3:54:27,  3.04it/s]"
          ]
        },
        {
          "output_type": "stream",
          "name": "stdout",
          "text": [
            "step: 17200 \ttraining acc: [0.05       0.05       0.05       0.05770833 0.31166667 0.78375   ]\n"
          ]
        },
        {
          "output_type": "stream",
          "name": "stderr",
          "text": [
            " 29%|██▉       | 17301/60000 [1:45:22<3:56:18,  3.01it/s]"
          ]
        },
        {
          "output_type": "stream",
          "name": "stdout",
          "text": [
            "step: 17300 \ttraining acc: [0.05       0.05       0.05       0.05125    0.18041667 0.761875  ]\n"
          ]
        },
        {
          "output_type": "stream",
          "name": "stderr",
          "text": [
            " 29%|██▉       | 17401/60000 [1:45:55<3:57:39,  2.99it/s]"
          ]
        },
        {
          "output_type": "stream",
          "name": "stdout",
          "text": [
            "step: 17400 \ttraining acc: [0.05       0.05       0.05       0.05       0.23958333 0.75791667]\n"
          ]
        },
        {
          "output_type": "stream",
          "name": "stderr",
          "text": [
            " 29%|██▉       | 17500/60000 [1:46:28<3:54:19,  3.02it/s]"
          ]
        },
        {
          "output_type": "stream",
          "name": "stdout",
          "text": [
            "step: 17500 \ttraining acc: [0.05       0.05       0.05       0.05020833 0.22520833 0.77833333]\n"
          ]
        },
        {
          "output_type": "stream",
          "name": "stderr",
          "text": [
            "\r 29%|██▉       | 17501/60000 [1:46:46<67:31:38,  5.72s/it]"
          ]
        },
        {
          "output_type": "stream",
          "name": "stdout",
          "text": [
            "Test acc: [0.05    0.05    0.05    0.05075 0.2098  0.6855  0.8003  0.837   0.852\n",
            " 0.861   0.8657 ]\n"
          ]
        },
        {
          "output_type": "stream",
          "name": "stderr",
          "text": [
            " 29%|██▉       | 17601/60000 [1:47:19<3:59:02,  2.96it/s]"
          ]
        },
        {
          "output_type": "stream",
          "name": "stdout",
          "text": [
            "step: 17600 \ttraining acc: [0.05       0.05       0.05       0.05479167 0.226875   0.74729167]\n"
          ]
        },
        {
          "output_type": "stream",
          "name": "stderr",
          "text": [
            " 30%|██▉       | 17701/60000 [1:47:53<3:53:49,  3.01it/s]"
          ]
        },
        {
          "output_type": "stream",
          "name": "stdout",
          "text": [
            "step: 17700 \ttraining acc: [0.05       0.05       0.05       0.05104167 0.21583333 0.76208333]\n"
          ]
        },
        {
          "output_type": "stream",
          "name": "stderr",
          "text": [
            " 30%|██▉       | 17801/60000 [1:48:26<4:02:43,  2.90it/s]"
          ]
        },
        {
          "output_type": "stream",
          "name": "stdout",
          "text": [
            "step: 17800 \ttraining acc: [0.05       0.05       0.05       0.053125   0.25020833 0.77520833]\n"
          ]
        },
        {
          "output_type": "stream",
          "name": "stderr",
          "text": [
            " 30%|██▉       | 17901/60000 [1:48:59<3:52:16,  3.02it/s]"
          ]
        },
        {
          "output_type": "stream",
          "name": "stdout",
          "text": [
            "step: 17900 \ttraining acc: [0.05       0.05       0.05       0.05       0.156875   0.75333333]\n"
          ]
        },
        {
          "output_type": "stream",
          "name": "stderr",
          "text": [
            " 30%|███       | 18000/60000 [1:49:32<3:53:16,  3.00it/s]"
          ]
        },
        {
          "output_type": "stream",
          "name": "stdout",
          "text": [
            "step: 18000 \ttraining acc: [0.05       0.05       0.05       0.05479167 0.31       0.78854167]\n"
          ]
        },
        {
          "output_type": "stream",
          "name": "stderr",
          "text": [
            "\r 30%|███       | 18001/60000 [1:49:50<67:14:43,  5.76s/it]"
          ]
        },
        {
          "output_type": "stream",
          "name": "stdout",
          "text": [
            "Test acc: [0.05    0.05    0.05002 0.05896 0.2812  0.7007  0.8037  0.836   0.8506\n",
            " 0.8584  0.864  ]\n"
          ]
        },
        {
          "output_type": "stream",
          "name": "stderr",
          "text": [
            " 30%|███       | 18101/60000 [1:50:24<3:51:51,  3.01it/s]"
          ]
        },
        {
          "output_type": "stream",
          "name": "stdout",
          "text": [
            "step: 18100 \ttraining acc: [0.05       0.05       0.05       0.05083333 0.22854167 0.77895833]\n"
          ]
        },
        {
          "output_type": "stream",
          "name": "stderr",
          "text": [
            " 30%|███       | 18201/60000 [1:50:57<3:47:39,  3.06it/s]"
          ]
        },
        {
          "output_type": "stream",
          "name": "stdout",
          "text": [
            "step: 18200 \ttraining acc: [0.05       0.05       0.05       0.05041667 0.21104167 0.78479167]\n"
          ]
        },
        {
          "output_type": "stream",
          "name": "stderr",
          "text": [
            " 31%|███       | 18301/60000 [1:51:30<3:51:03,  3.01it/s]"
          ]
        },
        {
          "output_type": "stream",
          "name": "stdout",
          "text": [
            "step: 18300 \ttraining acc: [0.05       0.05       0.05       0.05       0.19416667 0.77395833]\n"
          ]
        },
        {
          "output_type": "stream",
          "name": "stderr",
          "text": [
            " 31%|███       | 18401/60000 [1:52:03<3:47:24,  3.05it/s]"
          ]
        },
        {
          "output_type": "stream",
          "name": "stdout",
          "text": [
            "step: 18400 \ttraining acc: [0.05       0.05       0.05       0.05375    0.291875   0.78166667]\n"
          ]
        },
        {
          "output_type": "stream",
          "name": "stderr",
          "text": [
            " 31%|███       | 18500/60000 [1:52:36<3:51:56,  2.98it/s]"
          ]
        },
        {
          "output_type": "stream",
          "name": "stdout",
          "text": [
            "step: 18500 \ttraining acc: [0.05       0.05       0.05       0.05       0.21520833 0.78708333]\n"
          ]
        },
        {
          "output_type": "stream",
          "name": "stderr",
          "text": [
            "\r 31%|███       | 18501/60000 [1:52:55<66:52:53,  5.80s/it]"
          ]
        },
        {
          "output_type": "stream",
          "name": "stdout",
          "text": [
            "Test acc: [0.05    0.05    0.05    0.05087 0.192   0.7056  0.814   0.8457  0.86\n",
            " 0.866   0.871  ]\n"
          ]
        },
        {
          "output_type": "stream",
          "name": "stderr",
          "text": [
            " 31%|███       | 18601/60000 [1:53:28<3:47:33,  3.03it/s]"
          ]
        },
        {
          "output_type": "stream",
          "name": "stdout",
          "text": [
            "step: 18600 \ttraining acc: [0.05       0.05       0.05       0.05333333 0.23020833 0.748125  ]\n"
          ]
        },
        {
          "output_type": "stream",
          "name": "stderr",
          "text": [
            " 31%|███       | 18701/60000 [1:54:01<3:50:54,  2.98it/s]"
          ]
        },
        {
          "output_type": "stream",
          "name": "stdout",
          "text": [
            "step: 18700 \ttraining acc: [0.05       0.05       0.05       0.05145833 0.31958333 0.779375  ]\n"
          ]
        },
        {
          "output_type": "stream",
          "name": "stderr",
          "text": [
            " 31%|███▏      | 18801/60000 [1:54:34<3:47:56,  3.01it/s]"
          ]
        },
        {
          "output_type": "stream",
          "name": "stdout",
          "text": [
            "step: 18800 \ttraining acc: [0.05       0.05       0.05       0.05       0.13833333 0.73166667]\n"
          ]
        },
        {
          "output_type": "stream",
          "name": "stderr",
          "text": [
            " 32%|███▏      | 18901/60000 [1:55:08<3:43:37,  3.06it/s]"
          ]
        },
        {
          "output_type": "stream",
          "name": "stdout",
          "text": [
            "step: 18900 \ttraining acc: [0.05       0.05       0.05       0.05       0.17708333 0.77395833]\n"
          ]
        },
        {
          "output_type": "stream",
          "name": "stderr",
          "text": [
            " 32%|███▏      | 19000/60000 [1:55:40<3:46:00,  3.02it/s]"
          ]
        },
        {
          "output_type": "stream",
          "name": "stdout",
          "text": [
            "step: 19000 \ttraining acc: [0.05       0.05       0.05       0.05       0.18166667 0.779375  ]\n"
          ]
        },
        {
          "output_type": "stream",
          "name": "stderr",
          "text": [
            "\r 32%|███▏      | 19001/60000 [1:55:58<64:52:14,  5.70s/it]"
          ]
        },
        {
          "output_type": "stream",
          "name": "stdout",
          "text": [
            "Test acc: [0.05    0.05    0.05    0.05005 0.1576  0.7036  0.815   0.847   0.861\n",
            " 0.8677  0.872  ]\n"
          ]
        },
        {
          "output_type": "stream",
          "name": "stderr",
          "text": [
            " 32%|███▏      | 19101/60000 [1:56:31<3:45:10,  3.03it/s]"
          ]
        },
        {
          "output_type": "stream",
          "name": "stdout",
          "text": [
            "step: 19100 \ttraining acc: [0.05       0.05       0.05       0.05       0.21041667 0.78229167]\n"
          ]
        },
        {
          "output_type": "stream",
          "name": "stderr",
          "text": [
            " 32%|███▏      | 19201/60000 [1:57:04<3:41:39,  3.07it/s]"
          ]
        },
        {
          "output_type": "stream",
          "name": "stdout",
          "text": [
            "step: 19200 \ttraining acc: [0.05       0.05       0.05       0.05       0.19791667 0.8       ]\n"
          ]
        },
        {
          "output_type": "stream",
          "name": "stderr",
          "text": [
            " 32%|███▏      | 19301/60000 [1:57:37<3:38:55,  3.10it/s]"
          ]
        },
        {
          "output_type": "stream",
          "name": "stdout",
          "text": [
            "step: 19300 \ttraining acc: [0.05       0.05       0.05       0.05       0.18833333 0.80645833]\n"
          ]
        },
        {
          "output_type": "stream",
          "name": "stderr",
          "text": [
            " 32%|███▏      | 19401/60000 [1:58:10<3:43:22,  3.03it/s]"
          ]
        },
        {
          "output_type": "stream",
          "name": "stdout",
          "text": [
            "step: 19400 \ttraining acc: [0.05       0.05       0.05       0.05       0.16229167 0.786875  ]\n"
          ]
        },
        {
          "output_type": "stream",
          "name": "stderr",
          "text": [
            " 32%|███▎      | 19500/60000 [1:58:43<3:43:10,  3.02it/s]"
          ]
        },
        {
          "output_type": "stream",
          "name": "stdout",
          "text": [
            "step: 19500 \ttraining acc: [0.05       0.05       0.05       0.05       0.200625   0.76666667]\n"
          ]
        },
        {
          "output_type": "stream",
          "name": "stderr",
          "text": [
            "\r 33%|███▎      | 19501/60000 [1:59:02<65:42:22,  5.84s/it]"
          ]
        },
        {
          "output_type": "stream",
          "name": "stdout",
          "text": [
            "Test acc: [0.05    0.05    0.05    0.05023 0.1704  0.698   0.8096  0.8433  0.858\n",
            " 0.8647  0.8696 ]\n"
          ]
        },
        {
          "output_type": "stream",
          "name": "stderr",
          "text": [
            " 33%|███▎      | 19601/60000 [1:59:35<3:44:25,  3.00it/s]"
          ]
        },
        {
          "output_type": "stream",
          "name": "stdout",
          "text": [
            "step: 19600 \ttraining acc: [0.05       0.05       0.05       0.05       0.24229167 0.779375  ]\n"
          ]
        },
        {
          "output_type": "stream",
          "name": "stderr",
          "text": [
            " 33%|███▎      | 19701/60000 [2:00:08<3:39:27,  3.06it/s]"
          ]
        },
        {
          "output_type": "stream",
          "name": "stdout",
          "text": [
            "step: 19700 \ttraining acc: [0.05       0.05       0.05       0.050625   0.19583333 0.78729167]\n"
          ]
        },
        {
          "output_type": "stream",
          "name": "stderr",
          "text": [
            " 33%|███▎      | 19801/60000 [2:00:42<3:41:57,  3.02it/s]"
          ]
        },
        {
          "output_type": "stream",
          "name": "stdout",
          "text": [
            "step: 19800 \ttraining acc: [0.05       0.05       0.05       0.050625   0.22020833 0.77      ]\n"
          ]
        },
        {
          "output_type": "stream",
          "name": "stderr",
          "text": [
            " 33%|███▎      | 19901/60000 [2:01:14<3:37:43,  3.07it/s]"
          ]
        },
        {
          "output_type": "stream",
          "name": "stdout",
          "text": [
            "step: 19900 \ttraining acc: [0.05       0.05       0.05       0.05020833 0.154375   0.77083333]\n"
          ]
        },
        {
          "output_type": "stream",
          "name": "stderr",
          "text": [
            " 33%|███▎      | 20000/60000 [2:01:47<3:41:09,  3.01it/s]"
          ]
        },
        {
          "output_type": "stream",
          "name": "stdout",
          "text": [
            "step: 20000 \ttraining acc: [0.05       0.05       0.05       0.05       0.20770833 0.80104167]\n"
          ]
        },
        {
          "output_type": "stream",
          "name": "stderr",
          "text": [
            "\r 33%|███▎      | 20001/60000 [2:02:06<64:16:06,  5.78s/it]"
          ]
        },
        {
          "output_type": "stream",
          "name": "stdout",
          "text": [
            "Test acc: [0.05    0.05    0.05    0.05048 0.1909  0.6987  0.8115  0.844   0.857\n",
            " 0.8647  0.8696 ]\n"
          ]
        },
        {
          "output_type": "stream",
          "name": "stderr",
          "text": [
            " 34%|███▎      | 20101/60000 [2:02:39<3:38:23,  3.04it/s]"
          ]
        },
        {
          "output_type": "stream",
          "name": "stdout",
          "text": [
            "step: 20100 \ttraining acc: [0.05       0.05       0.05       0.05       0.17958333 0.755     ]\n"
          ]
        },
        {
          "output_type": "stream",
          "name": "stderr",
          "text": [
            " 34%|███▎      | 20201/60000 [2:03:12<3:38:58,  3.03it/s]"
          ]
        },
        {
          "output_type": "stream",
          "name": "stdout",
          "text": [
            "step: 20200 \ttraining acc: [0.05       0.05       0.05       0.05041667 0.233125   0.78791667]\n"
          ]
        },
        {
          "output_type": "stream",
          "name": "stderr",
          "text": [
            " 34%|███▍      | 20301/60000 [2:03:45<3:37:46,  3.04it/s]"
          ]
        },
        {
          "output_type": "stream",
          "name": "stdout",
          "text": [
            "step: 20300 \ttraining acc: [0.05       0.05       0.05       0.05       0.20604167 0.78375   ]\n"
          ]
        },
        {
          "output_type": "stream",
          "name": "stderr",
          "text": [
            " 34%|███▍      | 20401/60000 [2:04:18<3:40:06,  3.00it/s]"
          ]
        },
        {
          "output_type": "stream",
          "name": "stdout",
          "text": [
            "step: 20400 \ttraining acc: [0.05       0.05       0.05       0.05104167 0.19666667 0.77291667]\n"
          ]
        },
        {
          "output_type": "stream",
          "name": "stderr",
          "text": [
            " 34%|███▍      | 20500/60000 [2:04:50<3:37:07,  3.03it/s]"
          ]
        },
        {
          "output_type": "stream",
          "name": "stdout",
          "text": [
            "step: 20500 \ttraining acc: [0.05       0.05       0.05       0.05       0.17583333 0.78875   ]\n"
          ]
        },
        {
          "output_type": "stream",
          "name": "stderr",
          "text": [
            "\r 34%|███▍      | 20501/60000 [2:05:09<62:59:42,  5.74s/it]"
          ]
        },
        {
          "output_type": "stream",
          "name": "stdout",
          "text": [
            "Test acc: [0.05    0.05    0.05    0.05045 0.1755  0.697   0.81    0.844   0.8594\n",
            " 0.8677  0.8716 ]\n"
          ]
        },
        {
          "output_type": "stream",
          "name": "stderr",
          "text": [
            " 34%|███▍      | 20601/60000 [2:05:42<3:35:50,  3.04it/s]"
          ]
        },
        {
          "output_type": "stream",
          "name": "stdout",
          "text": [
            "step: 20600 \ttraining acc: [0.05       0.05       0.05       0.05       0.21770833 0.75770833]\n"
          ]
        },
        {
          "output_type": "stream",
          "name": "stderr",
          "text": [
            " 35%|███▍      | 20701/60000 [2:06:15<3:35:00,  3.05it/s]"
          ]
        },
        {
          "output_type": "stream",
          "name": "stdout",
          "text": [
            "step: 20700 \ttraining acc: [0.05       0.05       0.05       0.051875   0.21520833 0.788125  ]\n"
          ]
        },
        {
          "output_type": "stream",
          "name": "stderr",
          "text": [
            " 35%|███▍      | 20801/60000 [2:06:48<3:35:22,  3.03it/s]"
          ]
        },
        {
          "output_type": "stream",
          "name": "stdout",
          "text": [
            "step: 20800 \ttraining acc: [0.05       0.05       0.05       0.05166667 0.230625   0.77875   ]\n"
          ]
        },
        {
          "output_type": "stream",
          "name": "stderr",
          "text": [
            " 35%|███▍      | 20901/60000 [2:07:21<3:32:03,  3.07it/s]"
          ]
        },
        {
          "output_type": "stream",
          "name": "stdout",
          "text": [
            "step: 20900 \ttraining acc: [0.05       0.05       0.05       0.05166667 0.215625   0.754375  ]\n"
          ]
        },
        {
          "output_type": "stream",
          "name": "stderr",
          "text": [
            " 35%|███▌      | 21000/60000 [2:07:54<3:33:06,  3.05it/s]"
          ]
        },
        {
          "output_type": "stream",
          "name": "stdout",
          "text": [
            "step: 21000 \ttraining acc: [0.05       0.05       0.05       0.05104167 0.29479167 0.79979167]\n"
          ]
        },
        {
          "output_type": "stream",
          "name": "stderr",
          "text": [
            "\r 35%|███▌      | 21001/60000 [2:08:12<62:29:04,  5.77s/it]"
          ]
        },
        {
          "output_type": "stream",
          "name": "stdout",
          "text": [
            "Test acc: [0.05    0.05    0.05    0.05252 0.2546  0.718   0.815   0.8438  0.858\n",
            " 0.865   0.869  ]\n"
          ]
        },
        {
          "output_type": "stream",
          "name": "stderr",
          "text": [
            " 35%|███▌      | 21101/60000 [2:08:45<3:36:09,  3.00it/s]"
          ]
        },
        {
          "output_type": "stream",
          "name": "stdout",
          "text": [
            "step: 21100 \ttraining acc: [0.05       0.05       0.05       0.05020833 0.20395833 0.75166667]\n"
          ]
        },
        {
          "output_type": "stream",
          "name": "stderr",
          "text": [
            " 35%|███▌      | 21201/60000 [2:09:18<3:37:40,  2.97it/s]"
          ]
        },
        {
          "output_type": "stream",
          "name": "stdout",
          "text": [
            "step: 21200 \ttraining acc: [0.05       0.05       0.05       0.06145833 0.40583333 0.79729167]\n"
          ]
        },
        {
          "output_type": "stream",
          "name": "stderr",
          "text": [
            " 36%|███▌      | 21301/60000 [2:09:52<3:31:28,  3.05it/s]"
          ]
        },
        {
          "output_type": "stream",
          "name": "stdout",
          "text": [
            "step: 21300 \ttraining acc: [0.05       0.05       0.05       0.05270833 0.26791667 0.79416667]\n"
          ]
        },
        {
          "output_type": "stream",
          "name": "stderr",
          "text": [
            " 36%|███▌      | 21401/60000 [2:10:25<3:33:59,  3.01it/s]"
          ]
        },
        {
          "output_type": "stream",
          "name": "stdout",
          "text": [
            "step: 21400 \ttraining acc: [0.05       0.05       0.05       0.05       0.14291667 0.77208333]\n"
          ]
        },
        {
          "output_type": "stream",
          "name": "stderr",
          "text": [
            " 36%|███▌      | 21500/60000 [2:10:59<3:37:26,  2.95it/s]"
          ]
        },
        {
          "output_type": "stream",
          "name": "stdout",
          "text": [
            "step: 21500 \ttraining acc: [0.05       0.05       0.05       0.05       0.15916667 0.72729167]\n"
          ]
        },
        {
          "output_type": "stream",
          "name": "stderr",
          "text": [
            "\r 36%|███▌      | 21501/60000 [2:11:18<63:41:19,  5.96s/it]"
          ]
        },
        {
          "output_type": "stream",
          "name": "stdout",
          "text": [
            "Test acc: [0.05   0.05   0.05   0.0502 0.1559 0.6973 0.811  0.8447 0.86   0.866\n",
            " 0.872 ]\n"
          ]
        },
        {
          "output_type": "stream",
          "name": "stderr",
          "text": [
            " 36%|███▌      | 21601/60000 [2:11:52<3:36:57,  2.95it/s]"
          ]
        },
        {
          "output_type": "stream",
          "name": "stdout",
          "text": [
            "step: 21600 \ttraining acc: [0.05       0.05       0.05       0.05333333 0.27125    0.80083333]\n"
          ]
        },
        {
          "output_type": "stream",
          "name": "stderr",
          "text": [
            " 36%|███▌      | 21701/60000 [2:12:25<3:34:08,  2.98it/s]"
          ]
        },
        {
          "output_type": "stream",
          "name": "stdout",
          "text": [
            "step: 21700 \ttraining acc: [0.05       0.05       0.05       0.055      0.32125    0.76791667]\n"
          ]
        },
        {
          "output_type": "stream",
          "name": "stderr",
          "text": [
            " 36%|███▋      | 21801/60000 [2:12:59<3:34:40,  2.97it/s]"
          ]
        },
        {
          "output_type": "stream",
          "name": "stdout",
          "text": [
            "step: 21800 \ttraining acc: [0.05     0.05     0.05     0.050625 0.148125 0.745625]\n"
          ]
        },
        {
          "output_type": "stream",
          "name": "stderr",
          "text": [
            " 37%|███▋      | 21901/60000 [2:13:32<3:32:24,  2.99it/s]"
          ]
        },
        {
          "output_type": "stream",
          "name": "stdout",
          "text": [
            "step: 21900 \ttraining acc: [0.05       0.05       0.05       0.05145833 0.21458333 0.753125  ]\n"
          ]
        },
        {
          "output_type": "stream",
          "name": "stderr",
          "text": [
            " 37%|███▋      | 22000/60000 [2:14:05<3:29:46,  3.02it/s]"
          ]
        },
        {
          "output_type": "stream",
          "name": "stdout",
          "text": [
            "step: 22000 \ttraining acc: [0.05       0.05       0.05       0.05       0.23083333 0.77125   ]\n"
          ]
        },
        {
          "output_type": "stream",
          "name": "stderr",
          "text": [
            "\r 37%|███▋      | 22001/60000 [2:14:24<61:16:57,  5.81s/it]"
          ]
        },
        {
          "output_type": "stream",
          "name": "stdout",
          "text": [
            "Test acc: [0.05    0.05    0.05    0.05035 0.1998  0.701   0.808   0.841   0.856\n",
            " 0.863   0.8677 ]\n"
          ]
        },
        {
          "output_type": "stream",
          "name": "stderr",
          "text": [
            " 37%|███▋      | 22101/60000 [2:14:58<3:31:05,  2.99it/s]"
          ]
        },
        {
          "output_type": "stream",
          "name": "stdout",
          "text": [
            "step: 22100 \ttraining acc: [0.05       0.05       0.05       0.05145833 0.18979167 0.753125  ]\n"
          ]
        },
        {
          "output_type": "stream",
          "name": "stderr",
          "text": [
            " 37%|███▋      | 22201/60000 [2:15:31<3:28:31,  3.02it/s]"
          ]
        },
        {
          "output_type": "stream",
          "name": "stdout",
          "text": [
            "step: 22200 \ttraining acc: [0.05       0.05       0.05       0.05       0.11333333 0.755     ]\n"
          ]
        },
        {
          "output_type": "stream",
          "name": "stderr",
          "text": [
            " 37%|███▋      | 22301/60000 [2:16:04<3:30:24,  2.99it/s]"
          ]
        },
        {
          "output_type": "stream",
          "name": "stdout",
          "text": [
            "step: 22300 \ttraining acc: [0.05       0.05       0.051875   0.32541667 0.75354167 0.87958333]\n"
          ]
        },
        {
          "output_type": "stream",
          "name": "stderr",
          "text": [
            " 37%|███▋      | 22401/60000 [2:16:37<3:30:47,  2.97it/s]"
          ]
        },
        {
          "output_type": "stream",
          "name": "stdout",
          "text": [
            "step: 22400 \ttraining acc: [0.05       0.05       0.07       0.6775     0.83791667 0.87083333]\n"
          ]
        },
        {
          "output_type": "stream",
          "name": "stderr",
          "text": [
            " 38%|███▊      | 22500/60000 [2:17:10<3:28:23,  3.00it/s]"
          ]
        },
        {
          "output_type": "stream",
          "name": "stdout",
          "text": [
            "step: 22500 \ttraining acc: [0.05       0.05       0.055625   0.68395833 0.83       0.866875  ]\n"
          ]
        },
        {
          "output_type": "stream",
          "name": "stderr",
          "text": [
            "\r 38%|███▊      | 22501/60000 [2:17:28<60:04:50,  5.77s/it]"
          ]
        },
        {
          "output_type": "stream",
          "name": "stdout",
          "text": [
            "Test acc: [0.05    0.05    0.05618 0.6055  0.749   0.7925  0.818   0.8296  0.8403\n",
            " 0.8477  0.8535 ]\n"
          ]
        },
        {
          "output_type": "stream",
          "name": "stderr",
          "text": [
            " 38%|███▊      | 22601/60000 [2:18:01<3:29:37,  2.97it/s]"
          ]
        },
        {
          "output_type": "stream",
          "name": "stdout",
          "text": [
            "step: 22600 \ttraining acc: [0.05       0.05       0.05375    0.67895833 0.84125    0.88229167]\n"
          ]
        },
        {
          "output_type": "stream",
          "name": "stderr",
          "text": [
            " 38%|███▊      | 22701/60000 [2:18:35<3:27:34,  2.99it/s]"
          ]
        },
        {
          "output_type": "stream",
          "name": "stdout",
          "text": [
            "step: 22700 \ttraining acc: [0.05       0.05       0.05375    0.66416667 0.82354167 0.87020833]\n"
          ]
        },
        {
          "output_type": "stream",
          "name": "stderr",
          "text": [
            " 38%|███▊      | 22801/60000 [2:19:08<3:29:40,  2.96it/s]"
          ]
        },
        {
          "output_type": "stream",
          "name": "stdout",
          "text": [
            "step: 22800 \ttraining acc: [0.05       0.05       0.05       0.66083333 0.815625   0.86916667]\n"
          ]
        },
        {
          "output_type": "stream",
          "name": "stderr",
          "text": [
            " 38%|███▊      | 22901/60000 [2:19:41<3:27:45,  2.98it/s]"
          ]
        },
        {
          "output_type": "stream",
          "name": "stdout",
          "text": [
            "step: 22900 \ttraining acc: [0.05       0.05       0.05354167 0.64395833 0.82020833 0.87833333]\n"
          ]
        },
        {
          "output_type": "stream",
          "name": "stderr",
          "text": [
            " 38%|███▊      | 23000/60000 [2:20:14<3:24:35,  3.01it/s]"
          ]
        },
        {
          "output_type": "stream",
          "name": "stdout",
          "text": [
            "step: 23000 \ttraining acc: [0.05       0.05       0.05541667 0.66166667 0.84208333 0.88479167]\n"
          ]
        },
        {
          "output_type": "stream",
          "name": "stderr",
          "text": [
            "\r 38%|███▊      | 23001/60000 [2:20:32<59:29:43,  5.79s/it]"
          ]
        },
        {
          "output_type": "stream",
          "name": "stdout",
          "text": [
            "Test acc: [0.05    0.05    0.05426 0.6     0.7417  0.788   0.8154  0.8276  0.8374\n",
            " 0.8438  0.849  ]\n"
          ]
        },
        {
          "output_type": "stream",
          "name": "stderr",
          "text": [
            " 39%|███▊      | 23101/60000 [2:21:05<3:22:54,  3.03it/s]"
          ]
        },
        {
          "output_type": "stream",
          "name": "stdout",
          "text": [
            "step: 23100 \ttraining acc: [0.05       0.05       0.05333333 0.665      0.824375   0.86875   ]\n"
          ]
        },
        {
          "output_type": "stream",
          "name": "stderr",
          "text": [
            " 39%|███▊      | 23201/60000 [2:21:39<3:24:41,  3.00it/s]"
          ]
        },
        {
          "output_type": "stream",
          "name": "stdout",
          "text": [
            "step: 23200 \ttraining acc: [0.05       0.05       0.060625   0.63583333 0.80229167 0.86770833]\n"
          ]
        },
        {
          "output_type": "stream",
          "name": "stderr",
          "text": [
            " 39%|███▉      | 23301/60000 [2:22:12<3:21:42,  3.03it/s]"
          ]
        },
        {
          "output_type": "stream",
          "name": "stdout",
          "text": [
            "step: 23300 \ttraining acc: [0.05       0.05       0.05       0.66354167 0.831875   0.87666667]\n"
          ]
        },
        {
          "output_type": "stream",
          "name": "stderr",
          "text": [
            " 39%|███▉      | 23401/60000 [2:22:46<3:21:23,  3.03it/s]"
          ]
        },
        {
          "output_type": "stream",
          "name": "stdout",
          "text": [
            "step: 23400 \ttraining acc: [0.05       0.05       0.05166667 0.64916667 0.829375   0.87166667]\n"
          ]
        },
        {
          "output_type": "stream",
          "name": "stderr",
          "text": [
            " 39%|███▉      | 23500/60000 [2:23:18<3:21:49,  3.01it/s]"
          ]
        },
        {
          "output_type": "stream",
          "name": "stdout",
          "text": [
            "step: 23500 \ttraining acc: [0.05       0.05       0.050625   0.69625    0.84208333 0.88166667]\n"
          ]
        },
        {
          "output_type": "stream",
          "name": "stderr",
          "text": [
            "\r 39%|███▉      | 23501/60000 [2:23:37<58:12:20,  5.74s/it]"
          ]
        },
        {
          "output_type": "stream",
          "name": "stdout",
          "text": [
            "Test acc: [0.05   0.05   0.0524 0.592  0.739  0.7817 0.808  0.8213 0.832  0.8384\n",
            " 0.845 ]\n"
          ]
        },
        {
          "output_type": "stream",
          "name": "stderr",
          "text": [
            " 39%|███▉      | 23601/60000 [2:24:10<3:21:35,  3.01it/s]"
          ]
        },
        {
          "output_type": "stream",
          "name": "stdout",
          "text": [
            "step: 23600 \ttraining acc: [0.05       0.05       0.05125    0.64708333 0.80291667 0.86104167]\n"
          ]
        },
        {
          "output_type": "stream",
          "name": "stderr",
          "text": [
            " 40%|███▉      | 23701/60000 [2:24:43<3:25:02,  2.95it/s]"
          ]
        },
        {
          "output_type": "stream",
          "name": "stdout",
          "text": [
            "step: 23700 \ttraining acc: [0.05       0.05       0.05041667 0.661875   0.816875   0.86083333]\n"
          ]
        },
        {
          "output_type": "stream",
          "name": "stderr",
          "text": [
            " 40%|███▉      | 23801/60000 [2:25:17<3:21:55,  2.99it/s]"
          ]
        },
        {
          "output_type": "stream",
          "name": "stdout",
          "text": [
            "step: 23800 \ttraining acc: [0.05       0.05       0.05208333 0.65375    0.825625   0.87375   ]\n"
          ]
        },
        {
          "output_type": "stream",
          "name": "stderr",
          "text": [
            " 40%|███▉      | 23901/60000 [2:25:50<3:17:05,  3.05it/s]"
          ]
        },
        {
          "output_type": "stream",
          "name": "stdout",
          "text": [
            "step: 23900 \ttraining acc: [0.05       0.05       0.05354167 0.67       0.83020833 0.88625   ]\n"
          ]
        },
        {
          "output_type": "stream",
          "name": "stderr",
          "text": [
            " 40%|████      | 24000/60000 [2:26:23<3:19:24,  3.01it/s]"
          ]
        },
        {
          "output_type": "stream",
          "name": "stdout",
          "text": [
            "step: 24000 \ttraining acc: [0.05       0.05       0.05458333 0.67333333 0.834375   0.884375  ]\n"
          ]
        },
        {
          "output_type": "stream",
          "name": "stderr",
          "text": [
            "\r 40%|████      | 24001/60000 [2:26:41<57:58:22,  5.80s/it]"
          ]
        },
        {
          "output_type": "stream",
          "name": "stdout",
          "text": [
            "Test acc: [0.05    0.05    0.05594 0.594   0.7456  0.795   0.8213  0.8335  0.8433\n",
            " 0.8486  0.855  ]\n"
          ]
        },
        {
          "output_type": "stream",
          "name": "stderr",
          "text": [
            " 40%|████      | 24101/60000 [2:27:14<3:19:32,  3.00it/s]"
          ]
        },
        {
          "output_type": "stream",
          "name": "stdout",
          "text": [
            "step: 24100 \ttraining acc: [0.05       0.05       0.05645833 0.69416667 0.845      0.88625   ]\n"
          ]
        },
        {
          "output_type": "stream",
          "name": "stderr",
          "text": [
            " 40%|████      | 24201/60000 [2:27:48<3:21:07,  2.97it/s]"
          ]
        },
        {
          "output_type": "stream",
          "name": "stdout",
          "text": [
            "step: 24200 \ttraining acc: [0.05       0.05       0.05083333 0.69333333 0.8525     0.8725    ]\n"
          ]
        },
        {
          "output_type": "stream",
          "name": "stderr",
          "text": [
            " 41%|████      | 24301/60000 [2:28:21<3:16:12,  3.03it/s]"
          ]
        },
        {
          "output_type": "stream",
          "name": "stdout",
          "text": [
            "step: 24300 \ttraining acc: [0.05       0.05       0.056875   0.645625   0.81916667 0.868125  ]\n"
          ]
        },
        {
          "output_type": "stream",
          "name": "stderr",
          "text": [
            " 41%|████      | 24401/60000 [2:28:54<3:15:20,  3.04it/s]"
          ]
        },
        {
          "output_type": "stream",
          "name": "stdout",
          "text": [
            "step: 24400 \ttraining acc: [0.05       0.05       0.05083333 0.60666667 0.816875   0.881875  ]\n"
          ]
        },
        {
          "output_type": "stream",
          "name": "stderr",
          "text": [
            " 41%|████      | 24500/60000 [2:29:27<3:14:53,  3.04it/s]"
          ]
        },
        {
          "output_type": "stream",
          "name": "stdout",
          "text": [
            "step: 24500 \ttraining acc: [0.05       0.05       0.055      0.67979167 0.81458333 0.86791667]\n"
          ]
        },
        {
          "output_type": "stream",
          "name": "stderr",
          "text": [
            "\r 41%|████      | 24501/60000 [2:29:45<56:49:40,  5.76s/it]"
          ]
        },
        {
          "output_type": "stream",
          "name": "stdout",
          "text": [
            "Test acc: [0.05    0.05    0.05417 0.6074  0.745   0.7876  0.813   0.8257  0.836\n",
            " 0.843   0.8486 ]\n"
          ]
        },
        {
          "output_type": "stream",
          "name": "stderr",
          "text": [
            " 41%|████      | 24601/60000 [2:30:18<3:16:52,  3.00it/s]"
          ]
        },
        {
          "output_type": "stream",
          "name": "stdout",
          "text": [
            "step: 24600 \ttraining acc: [0.05       0.05       0.05125    0.61791667 0.8075     0.860625  ]\n"
          ]
        },
        {
          "output_type": "stream",
          "name": "stderr",
          "text": [
            " 41%|████      | 24701/60000 [2:30:52<3:17:05,  2.98it/s]"
          ]
        },
        {
          "output_type": "stream",
          "name": "stdout",
          "text": [
            "step: 24700 \ttraining acc: [0.05       0.05       0.05104167 0.669375   0.83541667 0.88291667]\n"
          ]
        },
        {
          "output_type": "stream",
          "name": "stderr",
          "text": [
            " 41%|████▏     | 24801/60000 [2:31:25<3:14:37,  3.01it/s]"
          ]
        },
        {
          "output_type": "stream",
          "name": "stdout",
          "text": [
            "step: 24800 \ttraining acc: [0.05       0.05       0.05520833 0.60729167 0.78770833 0.85041667]\n"
          ]
        },
        {
          "output_type": "stream",
          "name": "stderr",
          "text": [
            " 42%|████▏     | 24901/60000 [2:31:58<3:15:34,  2.99it/s]"
          ]
        },
        {
          "output_type": "stream",
          "name": "stdout",
          "text": [
            "step: 24900 \ttraining acc: [0.05       0.05       0.05416667 0.67125    0.82041667 0.85479167]\n"
          ]
        },
        {
          "output_type": "stream",
          "name": "stderr",
          "text": [
            " 42%|████▏     | 25000/60000 [2:32:31<3:17:01,  2.96it/s]"
          ]
        },
        {
          "output_type": "stream",
          "name": "stdout",
          "text": [
            "step: 25000 \ttraining acc: [0.05       0.05       0.05458333 0.668125   0.84958333 0.89145833]\n"
          ]
        },
        {
          "output_type": "stream",
          "name": "stderr",
          "text": [
            "\r 42%|████▏     | 25001/60000 [2:32:50<56:31:01,  5.81s/it]"
          ]
        },
        {
          "output_type": "stream",
          "name": "stdout",
          "text": [
            "Test acc: [0.05    0.05    0.05212 0.574   0.739   0.791   0.8174  0.829   0.8384\n",
            " 0.8457  0.8516 ]\n"
          ]
        },
        {
          "output_type": "stream",
          "name": "stderr",
          "text": [
            " 42%|████▏     | 25101/60000 [2:33:23<3:14:19,  2.99it/s]"
          ]
        },
        {
          "output_type": "stream",
          "name": "stdout",
          "text": [
            "step: 25100 \ttraining acc: [0.05       0.05       0.05083333 0.67541667 0.85270833 0.888125  ]\n"
          ]
        },
        {
          "output_type": "stream",
          "name": "stderr",
          "text": [
            " 42%|████▏     | 25201/60000 [2:33:56<3:13:23,  3.00it/s]"
          ]
        },
        {
          "output_type": "stream",
          "name": "stdout",
          "text": [
            "step: 25200 \ttraining acc: [0.05       0.05       0.05125    0.633125   0.80125    0.85895833]\n"
          ]
        },
        {
          "output_type": "stream",
          "name": "stderr",
          "text": [
            " 42%|████▏     | 25301/60000 [2:34:29<3:14:06,  2.98it/s]"
          ]
        },
        {
          "output_type": "stream",
          "name": "stdout",
          "text": [
            "step: 25300 \ttraining acc: [0.05       0.05       0.05020833 0.68645833 0.84333333 0.87708333]\n"
          ]
        },
        {
          "output_type": "stream",
          "name": "stderr",
          "text": [
            " 42%|████▏     | 25401/60000 [2:35:03<3:10:34,  3.03it/s]"
          ]
        },
        {
          "output_type": "stream",
          "name": "stdout",
          "text": [
            "step: 25400 \ttraining acc: [0.05       0.06083333 0.068125   0.13083333 0.366875   0.70708333]\n"
          ]
        },
        {
          "output_type": "stream",
          "name": "stderr",
          "text": [
            " 42%|████▎     | 25500/60000 [2:35:35<3:12:02,  2.99it/s]"
          ]
        },
        {
          "output_type": "stream",
          "name": "stdout",
          "text": [
            "step: 25500 \ttraining acc: [0.0425     0.27166667 0.490625   0.63895833 0.73354167 0.766875  ]\n"
          ]
        },
        {
          "output_type": "stream",
          "name": "stderr",
          "text": [
            "\r 43%|████▎     | 25501/60000 [2:35:54<54:52:39,  5.73s/it]"
          ]
        },
        {
          "output_type": "stream",
          "name": "stdout",
          "text": [
            "Test acc: [0.04736 0.2324  0.4365  0.572   0.6646  0.726   0.7617  0.786   0.801\n",
            " 0.816   0.825  ]\n"
          ]
        },
        {
          "output_type": "stream",
          "name": "stderr",
          "text": [
            " 43%|████▎     | 25601/60000 [2:36:27<3:10:27,  3.01it/s]"
          ]
        },
        {
          "output_type": "stream",
          "name": "stdout",
          "text": [
            "step: 25600 \ttraining acc: [0.04666667 0.05854167 0.16041667 0.56583333 0.73958333 0.82854167]\n"
          ]
        },
        {
          "output_type": "stream",
          "name": "stderr",
          "text": [
            " 43%|████▎     | 25701/60000 [2:37:00<3:11:32,  2.98it/s]"
          ]
        },
        {
          "output_type": "stream",
          "name": "stdout",
          "text": [
            "step: 25700 \ttraining acc: [0.05       0.05       0.063125   0.68604167 0.85791667 0.88916667]\n"
          ]
        },
        {
          "output_type": "stream",
          "name": "stderr",
          "text": [
            " 43%|████▎     | 25801/60000 [2:37:33<3:09:24,  3.01it/s]"
          ]
        },
        {
          "output_type": "stream",
          "name": "stdout",
          "text": [
            "step: 25800 \ttraining acc: [0.05       0.05       0.055625   0.69979167 0.84979167 0.87833333]\n"
          ]
        },
        {
          "output_type": "stream",
          "name": "stderr",
          "text": [
            " 43%|████▎     | 25901/60000 [2:38:06<3:06:38,  3.04it/s]"
          ]
        },
        {
          "output_type": "stream",
          "name": "stdout",
          "text": [
            "step: 25900 \ttraining acc: [0.05       0.05       0.05604167 0.67395833 0.82458333 0.87020833]\n"
          ]
        },
        {
          "output_type": "stream",
          "name": "stderr",
          "text": [
            " 43%|████▎     | 26000/60000 [2:38:39<3:10:22,  2.98it/s]"
          ]
        },
        {
          "output_type": "stream",
          "name": "stdout",
          "text": [
            "step: 26000 \ttraining acc: [0.05       0.05       0.05083333 0.623125   0.8125     0.8675    ]\n"
          ]
        },
        {
          "output_type": "stream",
          "name": "stderr",
          "text": [
            "\r 43%|████▎     | 26001/60000 [2:38:57<54:13:16,  5.74s/it]"
          ]
        },
        {
          "output_type": "stream",
          "name": "stdout",
          "text": [
            "Test acc: [0.05    0.05    0.05124 0.574   0.729   0.7837  0.8145  0.8267  0.8364\n",
            " 0.842   0.8486 ]\n"
          ]
        },
        {
          "output_type": "stream",
          "name": "stderr",
          "text": [
            " 44%|████▎     | 26101/60000 [2:39:30<3:04:21,  3.06it/s]"
          ]
        },
        {
          "output_type": "stream",
          "name": "stdout",
          "text": [
            "step: 26100 \ttraining acc: [0.05       0.05       0.05333333 0.66229167 0.82479167 0.87270833]\n"
          ]
        },
        {
          "output_type": "stream",
          "name": "stderr",
          "text": [
            " 44%|████▎     | 26201/60000 [2:40:03<3:04:16,  3.06it/s]"
          ]
        },
        {
          "output_type": "stream",
          "name": "stdout",
          "text": [
            "step: 26200 \ttraining acc: [0.05       0.05       0.05416667 0.72083333 0.849375   0.89083333]\n"
          ]
        },
        {
          "output_type": "stream",
          "name": "stderr",
          "text": [
            " 44%|████▍     | 26301/60000 [2:40:36<3:05:57,  3.02it/s]"
          ]
        },
        {
          "output_type": "stream",
          "name": "stdout",
          "text": [
            "step: 26300 \ttraining acc: [0.05       0.05       0.05       0.65916667 0.84104167 0.88145833]\n"
          ]
        },
        {
          "output_type": "stream",
          "name": "stderr",
          "text": [
            " 44%|████▍     | 26401/60000 [2:41:09<3:05:35,  3.02it/s]"
          ]
        },
        {
          "output_type": "stream",
          "name": "stdout",
          "text": [
            "step: 26400 \ttraining acc: [0.05       0.05       0.05645833 0.67916667 0.83270833 0.87770833]\n"
          ]
        },
        {
          "output_type": "stream",
          "name": "stderr",
          "text": [
            " 44%|████▍     | 26500/60000 [2:41:42<3:04:40,  3.02it/s]"
          ]
        },
        {
          "output_type": "stream",
          "name": "stdout",
          "text": [
            "step: 26500 \ttraining acc: [0.04625    0.17875    0.41104167 0.58       0.688125   0.77958333]\n"
          ]
        },
        {
          "output_type": "stream",
          "name": "stderr",
          "text": [
            "\r 44%|████▍     | 26501/60000 [2:42:01<53:39:56,  5.77s/it]"
          ]
        },
        {
          "output_type": "stream",
          "name": "stdout",
          "text": [
            "Test acc: [0.0494 0.1803 0.3752 0.536  0.639  0.705  0.745  0.7725 0.7886 0.803\n",
            " 0.813 ]\n"
          ]
        },
        {
          "output_type": "stream",
          "name": "stderr",
          "text": [
            " 44%|████▍     | 26601/60000 [2:42:34<3:04:25,  3.02it/s]"
          ]
        },
        {
          "output_type": "stream",
          "name": "stdout",
          "text": [
            "step: 26600 \ttraining acc: [0.05       0.0875     0.053125   0.625625   0.81791667 0.866875  ]\n"
          ]
        },
        {
          "output_type": "stream",
          "name": "stderr",
          "text": [
            " 45%|████▍     | 26701/60000 [2:43:07<3:00:47,  3.07it/s]"
          ]
        },
        {
          "output_type": "stream",
          "name": "stdout",
          "text": [
            "step: 26700 \ttraining acc: [0.050625   0.0625     0.07291667 0.09770833 0.55791667 0.76979167]\n"
          ]
        },
        {
          "output_type": "stream",
          "name": "stderr",
          "text": [
            " 45%|████▍     | 26801/60000 [2:43:40<3:00:56,  3.06it/s]"
          ]
        },
        {
          "output_type": "stream",
          "name": "stdout",
          "text": [
            "step: 26800 \ttraining acc: [0.0425     0.05541667 0.06583333 0.06270833 0.35020833 0.774375  ]\n"
          ]
        },
        {
          "output_type": "stream",
          "name": "stderr",
          "text": [
            " 45%|████▍     | 26901/60000 [2:44:13<3:01:32,  3.04it/s]"
          ]
        },
        {
          "output_type": "stream",
          "name": "stdout",
          "text": [
            "step: 26900 \ttraining acc: [0.05       0.05       0.11958333 0.69479167 0.84333333 0.89416667]\n"
          ]
        },
        {
          "output_type": "stream",
          "name": "stderr",
          "text": [
            " 45%|████▌     | 27000/60000 [2:44:46<2:59:05,  3.07it/s]"
          ]
        },
        {
          "output_type": "stream",
          "name": "stdout",
          "text": [
            "step: 27000 \ttraining acc: [0.05       0.05041667 0.10895833 0.670625   0.81875    0.87354167]\n"
          ]
        },
        {
          "output_type": "stream",
          "name": "stderr",
          "text": [
            "\r 45%|████▌     | 27001/60000 [2:45:04<52:53:35,  5.77s/it]"
          ]
        },
        {
          "output_type": "stream",
          "name": "stdout",
          "text": [
            "Test acc: [0.05    0.05038 0.10944 0.622   0.7495  0.7915  0.817   0.831   0.8403\n",
            " 0.847   0.853  ]\n"
          ]
        },
        {
          "output_type": "stream",
          "name": "stderr",
          "text": [
            " 45%|████▌     | 27101/60000 [2:45:37<3:01:25,  3.02it/s]"
          ]
        },
        {
          "output_type": "stream",
          "name": "stdout",
          "text": [
            "step: 27100 \ttraining acc: [0.05       0.05       0.053125   0.68125    0.82604167 0.875     ]\n"
          ]
        },
        {
          "output_type": "stream",
          "name": "stderr",
          "text": [
            " 45%|████▌     | 27201/60000 [2:46:10<3:00:04,  3.04it/s]"
          ]
        },
        {
          "output_type": "stream",
          "name": "stdout",
          "text": [
            "step: 27200 \ttraining acc: [0.05       0.05       0.05583333 0.70416667 0.85104167 0.88708333]\n"
          ]
        },
        {
          "output_type": "stream",
          "name": "stderr",
          "text": [
            " 46%|████▌     | 27301/60000 [2:46:43<3:02:42,  2.98it/s]"
          ]
        },
        {
          "output_type": "stream",
          "name": "stdout",
          "text": [
            "step: 27300 \ttraining acc: [0.05       0.05       0.06083333 0.65833333 0.84625    0.890625  ]\n"
          ]
        },
        {
          "output_type": "stream",
          "name": "stderr",
          "text": [
            " 46%|████▌     | 27401/60000 [2:47:16<3:00:24,  3.01it/s]"
          ]
        },
        {
          "output_type": "stream",
          "name": "stdout",
          "text": [
            "step: 27400 \ttraining acc: [0.048125   0.04833333 0.06166667 0.07979167 0.41708333 0.77541667]\n"
          ]
        },
        {
          "output_type": "stream",
          "name": "stderr",
          "text": [
            " 46%|████▌     | 27500/60000 [2:47:49<2:59:19,  3.02it/s]"
          ]
        },
        {
          "output_type": "stream",
          "name": "stdout",
          "text": [
            "step: 27500 \ttraining acc: [0.0425     0.19166667 0.47333333 0.62229167 0.73583333 0.8175    ]\n"
          ]
        },
        {
          "output_type": "stream",
          "name": "stderr",
          "text": [
            "\r 46%|████▌     | 27501/60000 [2:48:07<51:46:40,  5.74s/it]"
          ]
        },
        {
          "output_type": "stream",
          "name": "stdout",
          "text": [
            "Test acc: [0.04895 0.17    0.4158  0.5776  0.674   0.736   0.7695  0.793   0.8096\n",
            " 0.8223  0.8315 ]\n"
          ]
        },
        {
          "output_type": "stream",
          "name": "stderr",
          "text": [
            " 46%|████▌     | 27601/60000 [2:48:40<3:01:54,  2.97it/s]"
          ]
        },
        {
          "output_type": "stream",
          "name": "stdout",
          "text": [
            "step: 27600 \ttraining acc: [0.05       0.16583333 0.468125   0.63583333 0.75583333 0.81979167]\n"
          ]
        },
        {
          "output_type": "stream",
          "name": "stderr",
          "text": [
            " 46%|████▌     | 27701/60000 [2:49:14<3:03:08,  2.94it/s]"
          ]
        },
        {
          "output_type": "stream",
          "name": "stdout",
          "text": [
            "step: 27700 \ttraining acc: [0.050625   0.179375   0.49041667 0.668125   0.74916667 0.81479167]\n"
          ]
        },
        {
          "output_type": "stream",
          "name": "stderr",
          "text": [
            " 46%|████▋     | 27801/60000 [2:49:47<3:00:14,  2.98it/s]"
          ]
        },
        {
          "output_type": "stream",
          "name": "stdout",
          "text": [
            "step: 27800 \ttraining acc: [0.05083333 0.20104167 0.43958333 0.63354167 0.74666667 0.83729167]\n"
          ]
        },
        {
          "output_type": "stream",
          "name": "stderr",
          "text": [
            " 47%|████▋     | 27901/60000 [2:50:20<2:57:07,  3.02it/s]"
          ]
        },
        {
          "output_type": "stream",
          "name": "stdout",
          "text": [
            "step: 27900 \ttraining acc: [0.05208333 0.10270833 0.39145833 0.62458333 0.745      0.824375  ]\n"
          ]
        },
        {
          "output_type": "stream",
          "name": "stderr",
          "text": [
            " 47%|████▋     | 28000/60000 [2:50:53<2:58:50,  2.98it/s]"
          ]
        },
        {
          "output_type": "stream",
          "name": "stdout",
          "text": [
            "step: 28000 \ttraining acc: [0.04895833 0.10208333 0.37291667 0.59583333 0.72020833 0.80270833]\n"
          ]
        },
        {
          "output_type": "stream",
          "name": "stderr",
          "text": [
            "\r 47%|████▋     | 28001/60000 [2:51:11<50:55:21,  5.73s/it]"
          ]
        },
        {
          "output_type": "stream",
          "name": "stdout",
          "text": [
            "Test acc: [0.0481  0.10596 0.34    0.547   0.669   0.7373  0.7734  0.7974  0.8125\n",
            " 0.824   0.834  ]\n"
          ]
        },
        {
          "output_type": "stream",
          "name": "stderr",
          "text": [
            " 47%|████▋     | 28101/60000 [2:51:44<2:56:36,  3.01it/s]"
          ]
        },
        {
          "output_type": "stream",
          "name": "stdout",
          "text": [
            "step: 28100 \ttraining acc: [0.04354167 0.12375    0.35520833 0.59083333 0.71979167 0.78354167]\n"
          ]
        },
        {
          "output_type": "stream",
          "name": "stderr",
          "text": [
            " 47%|████▋     | 28201/60000 [2:52:17<2:52:46,  3.07it/s]"
          ]
        },
        {
          "output_type": "stream",
          "name": "stdout",
          "text": [
            "step: 28200 \ttraining acc: [0.05       0.05041667 0.061875   0.10479167 0.33020833 0.74895833]\n"
          ]
        },
        {
          "output_type": "stream",
          "name": "stderr",
          "text": [
            " 47%|████▋     | 28301/60000 [2:52:50<2:53:05,  3.05it/s]"
          ]
        },
        {
          "output_type": "stream",
          "name": "stdout",
          "text": [
            "step: 28300 \ttraining acc: [0.05       0.05       0.05166667 0.42125    0.76645833 0.873125  ]\n"
          ]
        },
        {
          "output_type": "stream",
          "name": "stderr",
          "text": [
            " 47%|████▋     | 28401/60000 [2:53:24<2:55:37,  3.00it/s]"
          ]
        },
        {
          "output_type": "stream",
          "name": "stdout",
          "text": [
            "step: 28400 \ttraining acc: [0.05       0.05       0.05729167 0.69270833 0.865625   0.90666667]\n"
          ]
        },
        {
          "output_type": "stream",
          "name": "stderr",
          "text": [
            " 48%|████▊     | 28500/60000 [2:53:56<2:55:24,  2.99it/s]"
          ]
        },
        {
          "output_type": "stream",
          "name": "stdout",
          "text": [
            "step: 28500 \ttraining acc: [0.05       0.05       0.064375   0.68645833 0.82958333 0.88020833]\n"
          ]
        },
        {
          "output_type": "stream",
          "name": "stderr",
          "text": [
            "\r 48%|████▊     | 28501/60000 [2:54:15<50:37:33,  5.79s/it]"
          ]
        },
        {
          "output_type": "stream",
          "name": "stdout",
          "text": [
            "Test acc: [0.05    0.05    0.05756 0.611   0.7505  0.796   0.8213  0.8325  0.841\n",
            " 0.847   0.852  ]\n"
          ]
        },
        {
          "output_type": "stream",
          "name": "stderr",
          "text": [
            " 48%|████▊     | 28601/60000 [2:54:48<2:52:02,  3.04it/s]"
          ]
        },
        {
          "output_type": "stream",
          "name": "stdout",
          "text": [
            "step: 28600 \ttraining acc: [0.05       0.05       0.05645833 0.66104167 0.87104167 0.908125  ]\n"
          ]
        },
        {
          "output_type": "stream",
          "name": "stderr",
          "text": [
            " 48%|████▊     | 28701/60000 [2:55:21<2:51:48,  3.04it/s]"
          ]
        },
        {
          "output_type": "stream",
          "name": "stdout",
          "text": [
            "step: 28700 \ttraining acc: [0.05       0.05       0.06041667 0.670625   0.84166667 0.889375  ]\n"
          ]
        },
        {
          "output_type": "stream",
          "name": "stderr",
          "text": [
            " 48%|████▊     | 28801/60000 [2:55:54<2:53:26,  3.00it/s]"
          ]
        },
        {
          "output_type": "stream",
          "name": "stdout",
          "text": [
            "step: 28800 \ttraining acc: [0.05       0.05       0.05041667 0.668125   0.821875   0.881875  ]\n"
          ]
        },
        {
          "output_type": "stream",
          "name": "stderr",
          "text": [
            " 48%|████▊     | 28901/60000 [2:56:28<2:51:51,  3.02it/s]"
          ]
        },
        {
          "output_type": "stream",
          "name": "stdout",
          "text": [
            "step: 28900 \ttraining acc: [0.05       0.05       0.05166667 0.69958333 0.854375   0.88395833]\n"
          ]
        },
        {
          "output_type": "stream",
          "name": "stderr",
          "text": [
            " 48%|████▊     | 29000/60000 [2:57:01<2:52:51,  2.99it/s]"
          ]
        },
        {
          "output_type": "stream",
          "name": "stdout",
          "text": [
            "step: 29000 \ttraining acc: [0.05       0.05       0.05125    0.69854167 0.83270833 0.87770833]\n"
          ]
        },
        {
          "output_type": "stream",
          "name": "stderr",
          "text": [
            "\r 48%|████▊     | 29001/60000 [2:57:19<49:42:55,  5.77s/it]"
          ]
        },
        {
          "output_type": "stream",
          "name": "stdout",
          "text": [
            "Test acc: [0.05   0.05   0.0515 0.6147 0.748  0.7896 0.8135 0.8267 0.837  0.8438\n",
            " 0.849 ]\n"
          ]
        },
        {
          "output_type": "stream",
          "name": "stderr",
          "text": [
            " 49%|████▊     | 29101/60000 [2:57:52<2:49:53,  3.03it/s]"
          ]
        },
        {
          "output_type": "stream",
          "name": "stdout",
          "text": [
            "step: 29100 \ttraining acc: [0.05       0.05       0.05125    0.685      0.83604167 0.88541667]\n"
          ]
        },
        {
          "output_type": "stream",
          "name": "stderr",
          "text": [
            " 49%|████▊     | 29201/60000 [2:58:25<2:47:28,  3.06it/s]"
          ]
        },
        {
          "output_type": "stream",
          "name": "stdout",
          "text": [
            "step: 29200 \ttraining acc: [0.05       0.05       0.054375   0.63729167 0.8075     0.84875   ]\n"
          ]
        },
        {
          "output_type": "stream",
          "name": "stderr",
          "text": [
            " 49%|████▉     | 29301/60000 [2:58:59<2:49:53,  3.01it/s]"
          ]
        },
        {
          "output_type": "stream",
          "name": "stdout",
          "text": [
            "step: 29300 \ttraining acc: [0.05       0.05       0.06020833 0.719375   0.86958333 0.89104167]\n"
          ]
        },
        {
          "output_type": "stream",
          "name": "stderr",
          "text": [
            " 49%|████▉     | 29401/60000 [2:59:32<2:47:30,  3.04it/s]"
          ]
        },
        {
          "output_type": "stream",
          "name": "stdout",
          "text": [
            "step: 29400 \ttraining acc: [0.05       0.05       0.053125   0.67854167 0.84416667 0.88458333]\n"
          ]
        },
        {
          "output_type": "stream",
          "name": "stderr",
          "text": [
            " 49%|████▉     | 29500/60000 [3:00:05<2:46:17,  3.06it/s]"
          ]
        },
        {
          "output_type": "stream",
          "name": "stdout",
          "text": [
            "step: 29500 \ttraining acc: [0.05       0.05       0.05145833 0.65520833 0.81       0.85104167]\n"
          ]
        },
        {
          "output_type": "stream",
          "name": "stderr",
          "text": [
            "\r 49%|████▉     | 29501/60000 [3:00:23<48:47:10,  5.76s/it]"
          ]
        },
        {
          "output_type": "stream",
          "name": "stdout",
          "text": [
            "Test acc: [0.05    0.05    0.05225 0.573   0.727   0.779   0.809   0.823   0.8325\n",
            " 0.84    0.846  ]\n"
          ]
        },
        {
          "output_type": "stream",
          "name": "stderr",
          "text": [
            " 49%|████▉     | 29601/60000 [3:00:56<2:49:20,  2.99it/s]"
          ]
        },
        {
          "output_type": "stream",
          "name": "stdout",
          "text": [
            "step: 29600 \ttraining acc: [0.05       0.05       0.05625    0.63604167 0.825      0.87645833]\n"
          ]
        },
        {
          "output_type": "stream",
          "name": "stderr",
          "text": [
            " 50%|████▉     | 29701/60000 [3:01:29<2:48:28,  3.00it/s]"
          ]
        },
        {
          "output_type": "stream",
          "name": "stdout",
          "text": [
            "step: 29700 \ttraining acc: [0.05       0.05       0.05854167 0.62708333 0.81625    0.87604167]\n"
          ]
        },
        {
          "output_type": "stream",
          "name": "stderr",
          "text": [
            " 50%|████▉     | 29801/60000 [3:02:03<2:47:21,  3.01it/s]"
          ]
        },
        {
          "output_type": "stream",
          "name": "stdout",
          "text": [
            "step: 29800 \ttraining acc: [0.05       0.05       0.05041667 0.68083333 0.84708333 0.88020833]\n"
          ]
        },
        {
          "output_type": "stream",
          "name": "stderr",
          "text": [
            " 50%|████▉     | 29901/60000 [3:02:36<2:45:31,  3.03it/s]"
          ]
        },
        {
          "output_type": "stream",
          "name": "stdout",
          "text": [
            "step: 29900 \ttraining acc: [0.05       0.05       0.059375   0.65770833 0.83875    0.8775    ]\n"
          ]
        },
        {
          "output_type": "stream",
          "name": "stderr",
          "text": [
            " 50%|█████     | 30000/60000 [3:03:09<2:48:18,  2.97it/s]"
          ]
        },
        {
          "output_type": "stream",
          "name": "stdout",
          "text": [
            "step: 30000 \ttraining acc: [0.05       0.05       0.06333333 0.65041667 0.82895833 0.87729167]\n"
          ]
        },
        {
          "output_type": "stream",
          "name": "stderr",
          "text": [
            "\r 50%|█████     | 30001/60000 [3:03:27<47:57:16,  5.75s/it]"
          ]
        },
        {
          "output_type": "stream",
          "name": "stdout",
          "text": [
            "Test acc: [0.05   0.05   0.062  0.5703 0.7256 0.7793 0.808  0.8213 0.8306 0.838\n",
            " 0.8433]\n"
          ]
        },
        {
          "output_type": "stream",
          "name": "stderr",
          "text": [
            " 50%|█████     | 30101/60000 [3:04:00<2:45:57,  3.00it/s]"
          ]
        },
        {
          "output_type": "stream",
          "name": "stdout",
          "text": [
            "step: 30100 \ttraining acc: [0.05       0.05       0.05458333 0.64416667 0.85145833 0.89208333]\n"
          ]
        },
        {
          "output_type": "stream",
          "name": "stderr",
          "text": [
            " 50%|█████     | 30201/60000 [3:04:34<2:48:24,  2.95it/s]"
          ]
        },
        {
          "output_type": "stream",
          "name": "stdout",
          "text": [
            "step: 30200 \ttraining acc: [0.05       0.05       0.05479167 0.655      0.82333333 0.87416667]\n"
          ]
        },
        {
          "output_type": "stream",
          "name": "stderr",
          "text": [
            " 51%|█████     | 30301/60000 [3:05:07<2:46:31,  2.97it/s]"
          ]
        },
        {
          "output_type": "stream",
          "name": "stdout",
          "text": [
            "step: 30300 \ttraining acc: [0.05       0.05       0.065      0.653125   0.82916667 0.87229167]\n"
          ]
        },
        {
          "output_type": "stream",
          "name": "stderr",
          "text": [
            " 51%|█████     | 30401/60000 [3:05:40<2:44:46,  2.99it/s]"
          ]
        },
        {
          "output_type": "stream",
          "name": "stdout",
          "text": [
            "step: 30400 \ttraining acc: [0.05       0.05       0.05395833 0.65479167 0.82291667 0.875     ]\n"
          ]
        },
        {
          "output_type": "stream",
          "name": "stderr",
          "text": [
            " 51%|█████     | 30500/60000 [3:06:13<2:47:31,  2.93it/s]"
          ]
        },
        {
          "output_type": "stream",
          "name": "stdout",
          "text": [
            "step: 30500 \ttraining acc: [0.05       0.05       0.05145833 0.68729167 0.856875   0.89041667]\n"
          ]
        },
        {
          "output_type": "stream",
          "name": "stderr",
          "text": [
            "\r 51%|█████     | 30501/60000 [3:06:32<47:16:15,  5.77s/it]"
          ]
        },
        {
          "output_type": "stream",
          "name": "stdout",
          "text": [
            "Test acc: [0.05    0.05    0.05115 0.6143  0.754   0.796   0.8193  0.831   0.84\n",
            " 0.847   0.8506 ]\n"
          ]
        },
        {
          "output_type": "stream",
          "name": "stderr",
          "text": [
            " 51%|█████     | 30601/60000 [3:07:05<2:43:15,  3.00it/s]"
          ]
        },
        {
          "output_type": "stream",
          "name": "stdout",
          "text": [
            "step: 30600 \ttraining acc: [0.05       0.05       0.058125   0.63458333 0.814375   0.860625  ]\n"
          ]
        },
        {
          "output_type": "stream",
          "name": "stderr",
          "text": [
            " 51%|█████     | 30701/60000 [3:07:38<2:39:14,  3.07it/s]"
          ]
        },
        {
          "output_type": "stream",
          "name": "stdout",
          "text": [
            "step: 30700 \ttraining acc: [0.05       0.05       0.05854167 0.61666667 0.80666667 0.860625  ]\n"
          ]
        },
        {
          "output_type": "stream",
          "name": "stderr",
          "text": [
            " 51%|█████▏    | 30801/60000 [3:08:11<2:41:08,  3.02it/s]"
          ]
        },
        {
          "output_type": "stream",
          "name": "stdout",
          "text": [
            "step: 30800 \ttraining acc: [0.05       0.05       0.05895833 0.630625   0.83145833 0.88979167]\n"
          ]
        },
        {
          "output_type": "stream",
          "name": "stderr",
          "text": [
            " 52%|█████▏    | 30901/60000 [3:08:45<2:42:55,  2.98it/s]"
          ]
        },
        {
          "output_type": "stream",
          "name": "stdout",
          "text": [
            "step: 30900 \ttraining acc: [0.05916667 0.0575     0.05395833 0.05833333 0.42520833 0.73395833]\n"
          ]
        },
        {
          "output_type": "stream",
          "name": "stderr",
          "text": [
            " 52%|█████▏    | 31000/60000 [3:09:18<2:37:45,  3.06it/s]"
          ]
        },
        {
          "output_type": "stream",
          "name": "stdout",
          "text": [
            "step: 31000 \ttraining acc: [0.04395833 0.04333333 0.07395833 0.3275     0.55583333 0.65645833]\n"
          ]
        },
        {
          "output_type": "stream",
          "name": "stderr",
          "text": [
            "\r 52%|█████▏    | 31001/60000 [3:09:36<46:50:34,  5.82s/it]"
          ]
        },
        {
          "output_type": "stream",
          "name": "stdout",
          "text": [
            "Test acc: [0.05084 0.05557 0.10565 0.385   0.558   0.6567  0.713   0.7446  0.767\n",
            " 0.7817  0.795  ]\n"
          ]
        },
        {
          "output_type": "stream",
          "name": "stderr",
          "text": [
            " 52%|█████▏    | 31101/60000 [3:10:10<2:39:50,  3.01it/s]"
          ]
        },
        {
          "output_type": "stream",
          "name": "stdout",
          "text": [
            "step: 31100 \ttraining acc: [0.05       0.05       0.06979167 0.644375   0.80645833 0.86229167]\n"
          ]
        },
        {
          "output_type": "stream",
          "name": "stderr",
          "text": [
            " 52%|█████▏    | 31201/60000 [3:10:43<2:36:59,  3.06it/s]"
          ]
        },
        {
          "output_type": "stream",
          "name": "stdout",
          "text": [
            "step: 31200 \ttraining acc: [0.05       0.05       0.05125    0.69375    0.85770833 0.894375  ]\n"
          ]
        },
        {
          "output_type": "stream",
          "name": "stderr",
          "text": [
            " 52%|█████▏    | 31301/60000 [3:11:16<2:37:58,  3.03it/s]"
          ]
        },
        {
          "output_type": "stream",
          "name": "stdout",
          "text": [
            "step: 31300 \ttraining acc: [0.05       0.05       0.05666667 0.679375   0.83291667 0.86770833]\n"
          ]
        },
        {
          "output_type": "stream",
          "name": "stderr",
          "text": [
            " 52%|█████▏    | 31401/60000 [3:11:49<2:37:25,  3.03it/s]"
          ]
        },
        {
          "output_type": "stream",
          "name": "stdout",
          "text": [
            "step: 31400 \ttraining acc: [0.05       0.05       0.05104167 0.64770833 0.85125    0.88041667]\n"
          ]
        },
        {
          "output_type": "stream",
          "name": "stderr",
          "text": [
            " 52%|█████▎    | 31500/60000 [3:12:22<2:34:18,  3.08it/s]"
          ]
        },
        {
          "output_type": "stream",
          "name": "stdout",
          "text": [
            "step: 31500 \ttraining acc: [0.05       0.05       0.06       0.6775     0.86291667 0.90395833]\n"
          ]
        },
        {
          "output_type": "stream",
          "name": "stderr",
          "text": [
            "\r 53%|█████▎    | 31501/60000 [3:12:41<45:41:35,  5.77s/it]"
          ]
        },
        {
          "output_type": "stream",
          "name": "stdout",
          "text": [
            "Test acc: [0.05   0.05   0.056  0.6074 0.7495 0.793  0.821  0.8315 0.8423 0.848\n",
            " 0.854 ]\n"
          ]
        },
        {
          "output_type": "stream",
          "name": "stderr",
          "text": [
            " 53%|█████▎    | 31601/60000 [3:13:14<2:36:23,  3.03it/s]"
          ]
        },
        {
          "output_type": "stream",
          "name": "stdout",
          "text": [
            "step: 31600 \ttraining acc: [0.05       0.05       0.05291667 0.64145833 0.82541667 0.87916667]\n"
          ]
        },
        {
          "output_type": "stream",
          "name": "stderr",
          "text": [
            " 53%|█████▎    | 31701/60000 [3:13:47<2:33:41,  3.07it/s]"
          ]
        },
        {
          "output_type": "stream",
          "name": "stdout",
          "text": [
            "step: 31700 \ttraining acc: [0.05       0.05       0.051875   0.70333333 0.839375   0.88895833]\n"
          ]
        },
        {
          "output_type": "stream",
          "name": "stderr",
          "text": [
            " 53%|█████▎    | 31801/60000 [3:14:20<2:34:01,  3.05it/s]"
          ]
        },
        {
          "output_type": "stream",
          "name": "stdout",
          "text": [
            "step: 31800 \ttraining acc: [0.05       0.05       0.05354167 0.64875    0.83166667 0.86770833]\n"
          ]
        },
        {
          "output_type": "stream",
          "name": "stderr",
          "text": [
            " 53%|█████▎    | 31901/60000 [3:14:53<2:34:44,  3.03it/s]"
          ]
        },
        {
          "output_type": "stream",
          "name": "stdout",
          "text": [
            "step: 31900 \ttraining acc: [0.0525     0.14354167 0.44395833 0.64354167 0.74395833 0.80520833]\n"
          ]
        },
        {
          "output_type": "stream",
          "name": "stderr",
          "text": [
            " 53%|█████▎    | 32000/60000 [3:15:26<2:33:03,  3.05it/s]"
          ]
        },
        {
          "output_type": "stream",
          "name": "stdout",
          "text": [
            "step: 32000 \ttraining acc: [0.05145833 0.06791667 0.1725     0.599375   0.78458333 0.845     ]\n"
          ]
        },
        {
          "output_type": "stream",
          "name": "stderr",
          "text": [
            "\r 53%|█████▎    | 32001/60000 [3:15:45<45:05:02,  5.80s/it]"
          ]
        },
        {
          "output_type": "stream",
          "name": "stdout",
          "text": [
            "Test acc: [0.05096 0.06192 0.1448  0.5425  0.6924  0.7573  0.7905  0.809   0.8228\n",
            " 0.8306  0.838  ]\n"
          ]
        },
        {
          "output_type": "stream",
          "name": "stderr",
          "text": [
            " 54%|█████▎    | 32101/60000 [3:16:18<2:36:21,  2.97it/s]"
          ]
        },
        {
          "output_type": "stream",
          "name": "stdout",
          "text": [
            "step: 32100 \ttraining acc: [0.05       0.05       0.05708333 0.69333333 0.83291667 0.87229167]\n"
          ]
        },
        {
          "output_type": "stream",
          "name": "stderr",
          "text": [
            " 54%|█████▎    | 32201/60000 [3:16:51<2:35:06,  2.99it/s]"
          ]
        },
        {
          "output_type": "stream",
          "name": "stdout",
          "text": [
            "step: 32200 \ttraining acc: [0.05       0.05       0.055      0.684375   0.84166667 0.88208333]\n"
          ]
        },
        {
          "output_type": "stream",
          "name": "stderr",
          "text": [
            " 54%|█████▍    | 32301/60000 [3:17:24<2:34:07,  3.00it/s]"
          ]
        },
        {
          "output_type": "stream",
          "name": "stdout",
          "text": [
            "step: 32300 \ttraining acc: [0.05     0.05     0.054375 0.616875 0.805625 0.876875]\n"
          ]
        },
        {
          "output_type": "stream",
          "name": "stderr",
          "text": [
            " 54%|█████▍    | 32401/60000 [3:17:57<2:32:27,  3.02it/s]"
          ]
        },
        {
          "output_type": "stream",
          "name": "stdout",
          "text": [
            "step: 32400 \ttraining acc: [0.05       0.05       0.05166667 0.64041667 0.834375   0.88875   ]\n"
          ]
        },
        {
          "output_type": "stream",
          "name": "stderr",
          "text": [
            " 54%|█████▍    | 32500/60000 [3:18:30<2:33:26,  2.99it/s]"
          ]
        },
        {
          "output_type": "stream",
          "name": "stdout",
          "text": [
            "step: 32500 \ttraining acc: [0.05       0.05       0.06229167 0.65125    0.8375     0.88520833]\n"
          ]
        },
        {
          "output_type": "stream",
          "name": "stderr",
          "text": [
            "\r 54%|█████▍    | 32501/60000 [3:18:49<43:57:27,  5.75s/it]"
          ]
        },
        {
          "output_type": "stream",
          "name": "stdout",
          "text": [
            "Test acc: [0.05   0.05   0.0534 0.5806 0.738  0.7876 0.8164 0.827  0.8374 0.8433\n",
            " 0.8486]\n"
          ]
        },
        {
          "output_type": "stream",
          "name": "stderr",
          "text": [
            " 54%|█████▍    | 32601/60000 [3:19:22<2:32:36,  2.99it/s]"
          ]
        },
        {
          "output_type": "stream",
          "name": "stdout",
          "text": [
            "step: 32600 \ttraining acc: [0.05       0.05       0.0525     0.6475     0.795      0.86645833]\n"
          ]
        },
        {
          "output_type": "stream",
          "name": "stderr",
          "text": [
            " 55%|█████▍    | 32701/60000 [3:19:55<2:31:55,  2.99it/s]"
          ]
        },
        {
          "output_type": "stream",
          "name": "stdout",
          "text": [
            "step: 32700 \ttraining acc: [0.05       0.05       0.05104167 0.675      0.85083333 0.89145833]\n"
          ]
        },
        {
          "output_type": "stream",
          "name": "stderr",
          "text": [
            " 55%|█████▍    | 32801/60000 [3:20:28<2:30:18,  3.02it/s]"
          ]
        },
        {
          "output_type": "stream",
          "name": "stdout",
          "text": [
            "step: 32800 \ttraining acc: [0.05       0.05       0.05270833 0.63854167 0.81541667 0.868125  ]\n"
          ]
        },
        {
          "output_type": "stream",
          "name": "stderr",
          "text": [
            " 55%|█████▍    | 32901/60000 [3:21:02<2:33:54,  2.93it/s]"
          ]
        },
        {
          "output_type": "stream",
          "name": "stdout",
          "text": [
            "step: 32900 \ttraining acc: [0.05       0.05       0.05333333 0.67291667 0.82541667 0.87666667]\n"
          ]
        },
        {
          "output_type": "stream",
          "name": "stderr",
          "text": [
            " 55%|█████▌    | 33000/60000 [3:21:35<2:32:15,  2.96it/s]"
          ]
        },
        {
          "output_type": "stream",
          "name": "stdout",
          "text": [
            "step: 33000 \ttraining acc: [0.05       0.05       0.05104167 0.65458333 0.81916667 0.86916667]\n"
          ]
        },
        {
          "output_type": "stream",
          "name": "stderr",
          "text": [
            "\r 55%|█████▌    | 33001/60000 [3:21:53<43:25:58,  5.79s/it]"
          ]
        },
        {
          "output_type": "stream",
          "name": "stdout",
          "text": [
            "Test acc: [0.05    0.05    0.05167 0.5757  0.7334  0.7866  0.816   0.8286  0.8394\n",
            " 0.844   0.85   ]\n"
          ]
        },
        {
          "output_type": "stream",
          "name": "stderr",
          "text": [
            " 55%|█████▌    | 33101/60000 [3:22:26<2:27:19,  3.04it/s]"
          ]
        },
        {
          "output_type": "stream",
          "name": "stdout",
          "text": [
            "step: 33100 \ttraining acc: [0.05       0.05       0.05625    0.620625   0.791875   0.84833333]\n"
          ]
        },
        {
          "output_type": "stream",
          "name": "stderr",
          "text": [
            " 55%|█████▌    | 33201/60000 [3:22:59<2:26:52,  3.04it/s]"
          ]
        },
        {
          "output_type": "stream",
          "name": "stdout",
          "text": [
            "step: 33200 \ttraining acc: [0.05       0.05       0.05       0.68354167 0.841875   0.875625  ]\n"
          ]
        },
        {
          "output_type": "stream",
          "name": "stderr",
          "text": [
            " 56%|█████▌    | 33301/60000 [3:23:32<2:26:23,  3.04it/s]"
          ]
        },
        {
          "output_type": "stream",
          "name": "stdout",
          "text": [
            "step: 33300 \ttraining acc: [0.05       0.05       0.05770833 0.67       0.83416667 0.875625  ]\n"
          ]
        },
        {
          "output_type": "stream",
          "name": "stderr",
          "text": [
            " 56%|█████▌    | 33401/60000 [3:24:05<2:28:04,  2.99it/s]"
          ]
        },
        {
          "output_type": "stream",
          "name": "stdout",
          "text": [
            "step: 33400 \ttraining acc: [0.05       0.05       0.065      0.64479167 0.82041667 0.85041667]\n"
          ]
        },
        {
          "output_type": "stream",
          "name": "stderr",
          "text": [
            " 56%|█████▌    | 33500/60000 [3:24:38<2:24:11,  3.06it/s]"
          ]
        },
        {
          "output_type": "stream",
          "name": "stdout",
          "text": [
            "step: 33500 \ttraining acc: [0.05       0.05       0.05666667 0.63770833 0.815625   0.87083333]\n"
          ]
        },
        {
          "output_type": "stream",
          "name": "stderr",
          "text": [
            "\r 56%|█████▌    | 33501/60000 [3:24:57<42:33:26,  5.78s/it]"
          ]
        },
        {
          "output_type": "stream",
          "name": "stdout",
          "text": [
            "Test acc: [0.05    0.05    0.05728 0.57    0.726   0.7783  0.8066  0.819   0.8286\n",
            " 0.836   0.8413 ]\n"
          ]
        },
        {
          "output_type": "stream",
          "name": "stderr",
          "text": [
            " 56%|█████▌    | 33601/60000 [3:25:30<2:26:16,  3.01it/s]"
          ]
        },
        {
          "output_type": "stream",
          "name": "stdout",
          "text": [
            "step: 33600 \ttraining acc: [0.05       0.05       0.05270833 0.695      0.85083333 0.88375   ]\n"
          ]
        },
        {
          "output_type": "stream",
          "name": "stderr",
          "text": [
            " 56%|█████▌    | 33701/60000 [3:26:03<2:25:10,  3.02it/s]"
          ]
        },
        {
          "output_type": "stream",
          "name": "stdout",
          "text": [
            "step: 33700 \ttraining acc: [0.05       0.05       0.05       0.66854167 0.81604167 0.87854167]\n"
          ]
        },
        {
          "output_type": "stream",
          "name": "stderr",
          "text": [
            " 56%|█████▋    | 33801/60000 [3:26:36<2:24:05,  3.03it/s]"
          ]
        },
        {
          "output_type": "stream",
          "name": "stdout",
          "text": [
            "step: 33800 \ttraining acc: [0.05       0.05       0.05104167 0.70333333 0.839375   0.87458333]\n"
          ]
        },
        {
          "output_type": "stream",
          "name": "stderr",
          "text": [
            " 57%|█████▋    | 33901/60000 [3:27:09<2:23:30,  3.03it/s]"
          ]
        },
        {
          "output_type": "stream",
          "name": "stdout",
          "text": [
            "step: 33900 \ttraining acc: [0.05       0.05       0.05020833 0.69354167 0.86375    0.899375  ]\n"
          ]
        },
        {
          "output_type": "stream",
          "name": "stderr",
          "text": [
            " 57%|█████▋    | 34000/60000 [3:27:42<2:23:04,  3.03it/s]"
          ]
        },
        {
          "output_type": "stream",
          "name": "stdout",
          "text": [
            "step: 34000 \ttraining acc: [0.05       0.05       0.05145833 0.68375    0.82041667 0.8725    ]\n"
          ]
        },
        {
          "output_type": "stream",
          "name": "stderr",
          "text": [
            "\r 57%|█████▋    | 34001/60000 [3:28:00<41:29:39,  5.75s/it]"
          ]
        },
        {
          "output_type": "stream",
          "name": "stdout",
          "text": [
            "Test acc: [0.05   0.05   0.0551 0.5957 0.7363 0.781  0.808  0.822  0.8306 0.8364\n",
            " 0.842 ]\n"
          ]
        },
        {
          "output_type": "stream",
          "name": "stderr",
          "text": [
            " 57%|█████▋    | 34101/60000 [3:28:34<2:22:59,  3.02it/s]"
          ]
        },
        {
          "output_type": "stream",
          "name": "stdout",
          "text": [
            "step: 34100 \ttraining acc: [0.05       0.05       0.05291667 0.70229167 0.82895833 0.87791667]\n"
          ]
        },
        {
          "output_type": "stream",
          "name": "stderr",
          "text": [
            " 57%|█████▋    | 34201/60000 [3:29:07<2:22:14,  3.02it/s]"
          ]
        },
        {
          "output_type": "stream",
          "name": "stdout",
          "text": [
            "step: 34200 \ttraining acc: [0.05       0.05       0.055      0.07270833 0.29354167 0.754375  ]\n"
          ]
        },
        {
          "output_type": "stream",
          "name": "stderr",
          "text": [
            " 57%|█████▋    | 34301/60000 [3:29:40<2:25:56,  2.94it/s]"
          ]
        },
        {
          "output_type": "stream",
          "name": "stdout",
          "text": [
            "step: 34300 \ttraining acc: [0.05       0.05       0.05       0.05020833 0.14583333 0.70125   ]\n"
          ]
        },
        {
          "output_type": "stream",
          "name": "stderr",
          "text": [
            " 57%|█████▋    | 34401/60000 [3:30:13<2:23:08,  2.98it/s]"
          ]
        },
        {
          "output_type": "stream",
          "name": "stdout",
          "text": [
            "step: 34400 \ttraining acc: [0.05       0.05       0.05       0.050625   0.29       0.80104167]\n"
          ]
        },
        {
          "output_type": "stream",
          "name": "stderr",
          "text": [
            " 57%|█████▊    | 34500/60000 [3:30:47<2:19:13,  3.05it/s]"
          ]
        },
        {
          "output_type": "stream",
          "name": "stdout",
          "text": [
            "step: 34500 \ttraining acc: [0.05       0.05       0.05       0.05041667 0.21       0.76979167]\n"
          ]
        },
        {
          "output_type": "stream",
          "name": "stderr",
          "text": [
            "\r 58%|█████▊    | 34501/60000 [3:31:05<40:30:28,  5.72s/it]"
          ]
        },
        {
          "output_type": "stream",
          "name": "stdout",
          "text": [
            "Test acc: [0.05   0.05   0.05   0.051  0.1647 0.676  0.797  0.8306 0.8457 0.8535\n",
            " 0.8584]\n"
          ]
        },
        {
          "output_type": "stream",
          "name": "stderr",
          "text": [
            " 58%|█████▊    | 34601/60000 [3:31:38<2:21:07,  3.00it/s]"
          ]
        },
        {
          "output_type": "stream",
          "name": "stdout",
          "text": [
            "step: 34600 \ttraining acc: [0.05       0.05       0.05       0.05       0.29895833 0.800625  ]\n"
          ]
        },
        {
          "output_type": "stream",
          "name": "stderr",
          "text": [
            " 58%|█████▊    | 34701/60000 [3:32:12<2:23:19,  2.94it/s]"
          ]
        },
        {
          "output_type": "stream",
          "name": "stdout",
          "text": [
            "step: 34700 \ttraining acc: [0.05       0.05       0.05       0.05291667 0.306875   0.78333333]\n"
          ]
        },
        {
          "output_type": "stream",
          "name": "stderr",
          "text": [
            " 58%|█████▊    | 34801/60000 [3:32:45<2:22:01,  2.96it/s]"
          ]
        },
        {
          "output_type": "stream",
          "name": "stdout",
          "text": [
            "step: 34800 \ttraining acc: [0.05       0.05       0.05       0.05125    0.24333333 0.79375   ]\n"
          ]
        },
        {
          "output_type": "stream",
          "name": "stderr",
          "text": [
            " 58%|█████▊    | 34901/60000 [3:33:18<2:18:08,  3.03it/s]"
          ]
        },
        {
          "output_type": "stream",
          "name": "stdout",
          "text": [
            "step: 34900 \ttraining acc: [0.05       0.05       0.05       0.05       0.14145833 0.75479167]\n"
          ]
        },
        {
          "output_type": "stream",
          "name": "stderr",
          "text": [
            " 58%|█████▊    | 35000/60000 [3:33:51<2:21:21,  2.95it/s]"
          ]
        },
        {
          "output_type": "stream",
          "name": "stdout",
          "text": [
            "step: 35000 \ttraining acc: [0.05       0.05       0.05       0.05       0.17583333 0.78145833]\n"
          ]
        },
        {
          "output_type": "stream",
          "name": "stderr",
          "text": [
            "\r 58%|█████▊    | 35001/60000 [3:34:10<40:41:29,  5.86s/it]"
          ]
        },
        {
          "output_type": "stream",
          "name": "stdout",
          "text": [
            "Test acc: [0.05   0.05   0.05   0.0502 0.1661 0.6943 0.8086 0.8413 0.855  0.8623\n",
            " 0.867 ]\n"
          ]
        },
        {
          "output_type": "stream",
          "name": "stderr",
          "text": [
            " 59%|█████▊    | 35101/60000 [3:34:43<2:17:23,  3.02it/s]"
          ]
        },
        {
          "output_type": "stream",
          "name": "stdout",
          "text": [
            "step: 35100 \ttraining acc: [0.05       0.05       0.05       0.05020833 0.24       0.80770833]\n"
          ]
        },
        {
          "output_type": "stream",
          "name": "stderr",
          "text": [
            " 59%|█████▊    | 35201/60000 [3:35:17<2:17:54,  3.00it/s]"
          ]
        },
        {
          "output_type": "stream",
          "name": "stdout",
          "text": [
            "step: 35200 \ttraining acc: [0.05       0.05       0.05       0.05416667 0.23354167 0.756875  ]\n"
          ]
        },
        {
          "output_type": "stream",
          "name": "stderr",
          "text": [
            " 59%|█████▉    | 35301/60000 [3:35:50<2:17:02,  3.00it/s]"
          ]
        },
        {
          "output_type": "stream",
          "name": "stdout",
          "text": [
            "step: 35300 \ttraining acc: [0.05       0.05       0.05       0.05208333 0.27125    0.77708333]\n"
          ]
        },
        {
          "output_type": "stream",
          "name": "stderr",
          "text": [
            " 59%|█████▉    | 35401/60000 [3:36:24<2:18:43,  2.96it/s]"
          ]
        },
        {
          "output_type": "stream",
          "name": "stdout",
          "text": [
            "step: 35400 \ttraining acc: [0.05       0.05       0.05       0.05375    0.27541667 0.80208333]\n"
          ]
        },
        {
          "output_type": "stream",
          "name": "stderr",
          "text": [
            " 59%|█████▉    | 35500/60000 [3:36:57<2:23:18,  2.85it/s]"
          ]
        },
        {
          "output_type": "stream",
          "name": "stdout",
          "text": [
            "step: 35500 \ttraining acc: [0.05       0.05       0.05       0.05041667 0.188125   0.759375  ]\n"
          ]
        },
        {
          "output_type": "stream",
          "name": "stderr",
          "text": [
            "\r 59%|█████▉    | 35501/60000 [3:37:16<39:54:47,  5.87s/it]"
          ]
        },
        {
          "output_type": "stream",
          "name": "stdout",
          "text": [
            "Test acc: [0.05    0.05    0.05    0.05066 0.1736  0.683   0.797   0.8315  0.847\n",
            " 0.8545  0.8594 ]\n"
          ]
        },
        {
          "output_type": "stream",
          "name": "stderr",
          "text": [
            " 59%|█████▉    | 35601/60000 [3:37:49<2:16:35,  2.98it/s]"
          ]
        },
        {
          "output_type": "stream",
          "name": "stdout",
          "text": [
            "step: 35600 \ttraining acc: [0.05       0.05       0.05       0.05333333 0.28395833 0.80145833]\n"
          ]
        },
        {
          "output_type": "stream",
          "name": "stderr",
          "text": [
            " 60%|█████▉    | 35701/60000 [3:38:22<2:13:44,  3.03it/s]"
          ]
        },
        {
          "output_type": "stream",
          "name": "stdout",
          "text": [
            "step: 35700 \ttraining acc: [0.05       0.05       0.05       0.05166667 0.29875    0.81354167]\n"
          ]
        },
        {
          "output_type": "stream",
          "name": "stderr",
          "text": [
            " 60%|█████▉    | 35801/60000 [3:38:56<2:13:01,  3.03it/s]"
          ]
        },
        {
          "output_type": "stream",
          "name": "stdout",
          "text": [
            "step: 35800 \ttraining acc: [0.05       0.05       0.05       0.05       0.21270833 0.79333333]\n"
          ]
        },
        {
          "output_type": "stream",
          "name": "stderr",
          "text": [
            " 60%|█████▉    | 35901/60000 [3:39:29<2:13:31,  3.01it/s]"
          ]
        },
        {
          "output_type": "stream",
          "name": "stdout",
          "text": [
            "step: 35900 \ttraining acc: [0.05       0.05       0.05       0.05       0.18791667 0.79416667]\n"
          ]
        },
        {
          "output_type": "stream",
          "name": "stderr",
          "text": [
            " 60%|██████    | 36000/60000 [3:40:02<2:12:09,  3.03it/s]"
          ]
        },
        {
          "output_type": "stream",
          "name": "stdout",
          "text": [
            "step: 36000 \ttraining acc: [0.05       0.05       0.05       0.05       0.19166667 0.77208333]\n"
          ]
        },
        {
          "output_type": "stream",
          "name": "stderr",
          "text": [
            "\r 60%|██████    | 36001/60000 [3:40:21<39:01:14,  5.85s/it]"
          ]
        },
        {
          "output_type": "stream",
          "name": "stdout",
          "text": [
            "Test acc: [0.05    0.05    0.05    0.05032 0.1534  0.686   0.8013  0.835   0.8496\n",
            " 0.857   0.862  ]\n"
          ]
        },
        {
          "output_type": "stream",
          "name": "stderr",
          "text": [
            " 60%|██████    | 36101/60000 [3:40:54<2:11:22,  3.03it/s]"
          ]
        },
        {
          "output_type": "stream",
          "name": "stdout",
          "text": [
            "step: 36100 \ttraining acc: [0.05       0.05       0.05       0.05166667 0.22979167 0.79791667]\n"
          ]
        },
        {
          "output_type": "stream",
          "name": "stderr",
          "text": [
            " 60%|██████    | 36201/60000 [3:41:27<2:08:52,  3.08it/s]"
          ]
        },
        {
          "output_type": "stream",
          "name": "stdout",
          "text": [
            "step: 36200 \ttraining acc: [0.05       0.05       0.05       0.05       0.20708333 0.78541667]\n"
          ]
        },
        {
          "output_type": "stream",
          "name": "stderr",
          "text": [
            " 61%|██████    | 36301/60000 [3:42:01<2:10:06,  3.04it/s]"
          ]
        },
        {
          "output_type": "stream",
          "name": "stdout",
          "text": [
            "step: 36300 \ttraining acc: [0.05       0.05       0.05       0.05729167 0.24895833 0.78166667]\n"
          ]
        },
        {
          "output_type": "stream",
          "name": "stderr",
          "text": [
            " 61%|██████    | 36401/60000 [3:42:34<2:14:05,  2.93it/s]"
          ]
        },
        {
          "output_type": "stream",
          "name": "stdout",
          "text": [
            "step: 36400 \ttraining acc: [0.05       0.05       0.05       0.05       0.16041667 0.75604167]\n"
          ]
        },
        {
          "output_type": "stream",
          "name": "stderr",
          "text": [
            " 61%|██████    | 36500/60000 [3:43:07<2:08:57,  3.04it/s]"
          ]
        },
        {
          "output_type": "stream",
          "name": "stdout",
          "text": [
            "step: 36500 \ttraining acc: [0.05     0.05     0.05     0.05     0.291875 0.79625 ]\n"
          ]
        },
        {
          "output_type": "stream",
          "name": "stderr",
          "text": [
            "\r 61%|██████    | 36501/60000 [3:43:25<37:51:48,  5.80s/it]"
          ]
        },
        {
          "output_type": "stream",
          "name": "stdout",
          "text": [
            "Test acc: [0.05    0.05    0.05    0.05093 0.24    0.6978  0.803   0.8354  0.849\n",
            " 0.856   0.861  ]\n"
          ]
        },
        {
          "output_type": "stream",
          "name": "stderr",
          "text": [
            " 61%|██████    | 36601/60000 [3:43:58<2:09:09,  3.02it/s]"
          ]
        },
        {
          "output_type": "stream",
          "name": "stdout",
          "text": [
            "step: 36600 \ttraining acc: [0.05     0.05     0.05     0.050625 0.16125  0.79    ]\n"
          ]
        },
        {
          "output_type": "stream",
          "name": "stderr",
          "text": [
            " 61%|██████    | 36701/60000 [3:44:32<2:10:02,  2.99it/s]"
          ]
        },
        {
          "output_type": "stream",
          "name": "stdout",
          "text": [
            "step: 36700 \ttraining acc: [0.05       0.05       0.05       0.05       0.18770833 0.75895833]\n"
          ]
        },
        {
          "output_type": "stream",
          "name": "stderr",
          "text": [
            " 61%|██████▏   | 36801/60000 [3:45:05<2:10:15,  2.97it/s]"
          ]
        },
        {
          "output_type": "stream",
          "name": "stdout",
          "text": [
            "step: 36800 \ttraining acc: [0.05       0.05       0.05       0.05583333 0.32583333 0.79833333]\n"
          ]
        },
        {
          "output_type": "stream",
          "name": "stderr",
          "text": [
            " 62%|██████▏   | 36901/60000 [3:45:39<2:11:09,  2.94it/s]"
          ]
        },
        {
          "output_type": "stream",
          "name": "stdout",
          "text": [
            "step: 36900 \ttraining acc: [0.05       0.05       0.05       0.05       0.21854167 0.79166667]\n"
          ]
        },
        {
          "output_type": "stream",
          "name": "stderr",
          "text": [
            " 62%|██████▏   | 37000/60000 [3:46:12<2:09:04,  2.97it/s]"
          ]
        },
        {
          "output_type": "stream",
          "name": "stdout",
          "text": [
            "step: 37000 \ttraining acc: [0.05       0.05       0.05       0.05583333 0.23583333 0.77479167]\n"
          ]
        },
        {
          "output_type": "stream",
          "name": "stderr",
          "text": [
            "\r 62%|██████▏   | 37001/60000 [3:46:31<37:24:35,  5.86s/it]"
          ]
        },
        {
          "output_type": "stream",
          "name": "stdout",
          "text": [
            "Test acc: [0.05    0.05    0.05    0.05246 0.2108  0.6943  0.801   0.832   0.846\n",
            " 0.8535  0.8584 ]\n"
          ]
        },
        {
          "output_type": "stream",
          "name": "stderr",
          "text": [
            " 62%|██████▏   | 37101/60000 [3:47:04<2:07:11,  3.00it/s]"
          ]
        },
        {
          "output_type": "stream",
          "name": "stdout",
          "text": [
            "step: 37100 \ttraining acc: [0.05       0.05       0.05       0.05020833 0.20895833 0.77354167]\n"
          ]
        },
        {
          "output_type": "stream",
          "name": "stderr",
          "text": [
            " 62%|██████▏   | 37201/60000 [3:47:38<2:17:39,  2.76it/s]"
          ]
        },
        {
          "output_type": "stream",
          "name": "stdout",
          "text": [
            "step: 37200 \ttraining acc: [0.05     0.05     0.05     0.05     0.209375 0.775   ]\n"
          ]
        },
        {
          "output_type": "stream",
          "name": "stderr",
          "text": [
            " 62%|██████▏   | 37301/60000 [3:48:11<2:07:27,  2.97it/s]"
          ]
        },
        {
          "output_type": "stream",
          "name": "stdout",
          "text": [
            "step: 37300 \ttraining acc: [0.05       0.05       0.05       0.05041667 0.20979167 0.78604167]\n"
          ]
        },
        {
          "output_type": "stream",
          "name": "stderr",
          "text": [
            " 62%|██████▏   | 37401/60000 [3:48:45<2:08:17,  2.94it/s]"
          ]
        },
        {
          "output_type": "stream",
          "name": "stdout",
          "text": [
            "step: 37400 \ttraining acc: [0.05       0.05       0.05       0.05083333 0.21291667 0.79375   ]\n"
          ]
        },
        {
          "output_type": "stream",
          "name": "stderr",
          "text": [
            " 62%|██████▎   | 37500/60000 [3:49:18<2:06:30,  2.96it/s]"
          ]
        },
        {
          "output_type": "stream",
          "name": "stdout",
          "text": [
            "step: 37500 \ttraining acc: [0.05    0.05    0.05    0.05    0.19125 0.775  ]\n"
          ]
        },
        {
          "output_type": "stream",
          "name": "stderr",
          "text": [
            "\r 63%|██████▎   | 37501/60000 [3:49:37<36:26:00,  5.83s/it]"
          ]
        },
        {
          "output_type": "stream",
          "name": "stdout",
          "text": [
            "Test acc: [0.05    0.05    0.05    0.05023 0.1672  0.6836  0.7925  0.8267  0.8413\n",
            " 0.8496  0.855  ]\n"
          ]
        },
        {
          "output_type": "stream",
          "name": "stderr",
          "text": [
            " 63%|██████▎   | 37601/60000 [3:50:10<2:05:14,  2.98it/s]"
          ]
        },
        {
          "output_type": "stream",
          "name": "stdout",
          "text": [
            "step: 37600 \ttraining acc: [0.05       0.05       0.05       0.051875   0.29083333 0.79833333]\n"
          ]
        },
        {
          "output_type": "stream",
          "name": "stderr",
          "text": [
            " 63%|██████▎   | 37701/60000 [3:50:44<2:05:49,  2.95it/s]"
          ]
        },
        {
          "output_type": "stream",
          "name": "stdout",
          "text": [
            "step: 37700 \ttraining acc: [0.05       0.05       0.05       0.05104167 0.165625   0.753125  ]\n"
          ]
        },
        {
          "output_type": "stream",
          "name": "stderr",
          "text": [
            " 63%|██████▎   | 37801/60000 [3:51:17<2:02:09,  3.03it/s]"
          ]
        },
        {
          "output_type": "stream",
          "name": "stdout",
          "text": [
            "step: 37800 \ttraining acc: [0.05       0.05       0.05       0.05145833 0.269375   0.79583333]\n"
          ]
        },
        {
          "output_type": "stream",
          "name": "stderr",
          "text": [
            " 63%|██████▎   | 37901/60000 [3:51:51<2:03:29,  2.98it/s]"
          ]
        },
        {
          "output_type": "stream",
          "name": "stdout",
          "text": [
            "step: 37900 \ttraining acc: [0.05       0.05       0.05       0.05       0.16479167 0.78520833]\n"
          ]
        },
        {
          "output_type": "stream",
          "name": "stderr",
          "text": [
            " 63%|██████▎   | 38000/60000 [3:52:24<2:01:01,  3.03it/s]"
          ]
        },
        {
          "output_type": "stream",
          "name": "stdout",
          "text": [
            "step: 38000 \ttraining acc: [0.05       0.05       0.05       0.05       0.1575     0.78520833]\n"
          ]
        },
        {
          "output_type": "stream",
          "name": "stderr",
          "text": [
            "\r 63%|██████▎   | 38001/60000 [3:52:42<35:20:04,  5.78s/it]"
          ]
        },
        {
          "output_type": "stream",
          "name": "stdout",
          "text": [
            "Test acc: [0.05    0.05    0.05    0.05014 0.1626  0.678   0.7925  0.828   0.8433\n",
            " 0.8516  0.856  ]\n"
          ]
        },
        {
          "output_type": "stream",
          "name": "stderr",
          "text": [
            " 64%|██████▎   | 38101/60000 [3:53:16<2:01:27,  3.01it/s]"
          ]
        },
        {
          "output_type": "stream",
          "name": "stdout",
          "text": [
            "step: 38100 \ttraining acc: [0.05       0.05       0.05       0.05208333 0.34791667 0.80020833]\n"
          ]
        },
        {
          "output_type": "stream",
          "name": "stderr",
          "text": [
            " 64%|██████▎   | 38201/60000 [3:53:49<2:02:06,  2.98it/s]"
          ]
        },
        {
          "output_type": "stream",
          "name": "stdout",
          "text": [
            "step: 38200 \ttraining acc: [0.05       0.05       0.05       0.05375    0.31791667 0.79625   ]\n"
          ]
        },
        {
          "output_type": "stream",
          "name": "stderr",
          "text": [
            " 64%|██████▍   | 38301/60000 [3:54:23<1:59:57,  3.01it/s]"
          ]
        },
        {
          "output_type": "stream",
          "name": "stdout",
          "text": [
            "step: 38300 \ttraining acc: [0.05       0.05       0.05       0.05       0.14020833 0.765625  ]\n"
          ]
        },
        {
          "output_type": "stream",
          "name": "stderr",
          "text": [
            " 64%|██████▍   | 38401/60000 [3:54:56<1:59:10,  3.02it/s]"
          ]
        },
        {
          "output_type": "stream",
          "name": "stdout",
          "text": [
            "step: 38400 \ttraining acc: [0.05       0.05       0.05       0.05       0.18916667 0.76916667]\n"
          ]
        },
        {
          "output_type": "stream",
          "name": "stderr",
          "text": [
            " 64%|██████▍   | 38500/60000 [3:55:29<1:59:57,  2.99it/s]"
          ]
        },
        {
          "output_type": "stream",
          "name": "stdout",
          "text": [
            "step: 38500 \ttraining acc: [0.05       0.05       0.05       0.05       0.13708333 0.74645833]\n"
          ]
        },
        {
          "output_type": "stream",
          "name": "stderr",
          "text": [
            "\r 64%|██████▍   | 38501/60000 [3:55:47<34:35:18,  5.79s/it]"
          ]
        },
        {
          "output_type": "stream",
          "name": "stdout",
          "text": [
            "Test acc: [0.05    0.05    0.05    0.05008 0.1411  0.691   0.8057  0.8384  0.853\n",
            " 0.8604  0.865  ]\n"
          ]
        },
        {
          "output_type": "stream",
          "name": "stderr",
          "text": [
            " 64%|██████▍   | 38601/60000 [3:56:21<1:58:25,  3.01it/s]"
          ]
        },
        {
          "output_type": "stream",
          "name": "stdout",
          "text": [
            "step: 38600 \ttraining acc: [0.05       0.05       0.05       0.0525     0.32875    0.82416667]\n"
          ]
        },
        {
          "output_type": "stream",
          "name": "stderr",
          "text": [
            " 65%|██████▍   | 38701/60000 [3:56:54<1:57:16,  3.03it/s]"
          ]
        },
        {
          "output_type": "stream",
          "name": "stdout",
          "text": [
            "step: 38700 \ttraining acc: [0.05       0.05       0.05       0.05041667 0.27208333 0.80604167]\n"
          ]
        },
        {
          "output_type": "stream",
          "name": "stderr",
          "text": [
            " 65%|██████▍   | 38801/60000 [3:57:27<1:54:34,  3.08it/s]"
          ]
        },
        {
          "output_type": "stream",
          "name": "stdout",
          "text": [
            "step: 38800 \ttraining acc: [0.05       0.05       0.05       0.05333333 0.25958333 0.77270833]\n"
          ]
        },
        {
          "output_type": "stream",
          "name": "stderr",
          "text": [
            " 65%|██████▍   | 38901/60000 [3:58:01<1:55:36,  3.04it/s]"
          ]
        },
        {
          "output_type": "stream",
          "name": "stdout",
          "text": [
            "step: 38900 \ttraining acc: [0.05       0.05       0.05       0.05125    0.27104167 0.788125  ]\n"
          ]
        },
        {
          "output_type": "stream",
          "name": "stderr",
          "text": [
            " 65%|██████▌   | 39000/60000 [3:58:34<1:59:11,  2.94it/s]"
          ]
        },
        {
          "output_type": "stream",
          "name": "stdout",
          "text": [
            "step: 39000 \ttraining acc: [0.05       0.05       0.05       0.05020833 0.204375   0.77979167]\n"
          ]
        },
        {
          "output_type": "stream",
          "name": "stderr",
          "text": [
            "\r 65%|██████▌   | 39001/60000 [3:58:52<33:46:49,  5.79s/it]"
          ]
        },
        {
          "output_type": "stream",
          "name": "stdout",
          "text": [
            "Test acc: [0.05    0.05    0.05    0.05023 0.1813  0.6875  0.798   0.832   0.8457\n",
            " 0.854   0.858  ]\n"
          ]
        },
        {
          "output_type": "stream",
          "name": "stderr",
          "text": [
            " 65%|██████▌   | 39101/60000 [3:59:26<1:57:15,  2.97it/s]"
          ]
        },
        {
          "output_type": "stream",
          "name": "stdout",
          "text": [
            "step: 39100 \ttraining acc: [0.05       0.05       0.05       0.05       0.168125   0.75083333]\n"
          ]
        },
        {
          "output_type": "stream",
          "name": "stderr",
          "text": [
            " 65%|██████▌   | 39201/60000 [3:59:59<1:55:47,  2.99it/s]"
          ]
        },
        {
          "output_type": "stream",
          "name": "stdout",
          "text": [
            "step: 39200 \ttraining acc: [0.05       0.05       0.05       0.0525     0.24083333 0.80416667]\n"
          ]
        },
        {
          "output_type": "stream",
          "name": "stderr",
          "text": [
            " 66%|██████▌   | 39301/60000 [4:00:32<1:54:12,  3.02it/s]"
          ]
        },
        {
          "output_type": "stream",
          "name": "stdout",
          "text": [
            "step: 39300 \ttraining acc: [0.05       0.05       0.05       0.05083333 0.15666667 0.794375  ]\n"
          ]
        },
        {
          "output_type": "stream",
          "name": "stderr",
          "text": [
            " 66%|██████▌   | 39401/60000 [4:01:05<1:53:31,  3.02it/s]"
          ]
        },
        {
          "output_type": "stream",
          "name": "stdout",
          "text": [
            "step: 39400 \ttraining acc: [0.05       0.05       0.05       0.05       0.203125   0.78020833]\n"
          ]
        },
        {
          "output_type": "stream",
          "name": "stderr",
          "text": [
            " 66%|██████▌   | 39500/60000 [4:01:38<1:53:46,  3.00it/s]"
          ]
        },
        {
          "output_type": "stream",
          "name": "stdout",
          "text": [
            "step: 39500 \ttraining acc: [0.05       0.05       0.05       0.050625   0.221875   0.78333333]\n"
          ]
        },
        {
          "output_type": "stream",
          "name": "stderr",
          "text": [
            "\r 66%|██████▌   | 39501/60000 [4:01:56<32:43:55,  5.75s/it]"
          ]
        },
        {
          "output_type": "stream",
          "name": "stdout",
          "text": [
            "Test acc: [0.05    0.05    0.05    0.05084 0.2115  0.6987  0.8037  0.835   0.8486\n",
            " 0.855   0.8604 ]\n"
          ]
        },
        {
          "output_type": "stream",
          "name": "stderr",
          "text": [
            " 66%|██████▌   | 39601/60000 [4:02:29<1:51:54,  3.04it/s]"
          ]
        },
        {
          "output_type": "stream",
          "name": "stdout",
          "text": [
            "step: 39600 \ttraining acc: [0.05       0.05       0.05       0.051875   0.31833333 0.81375   ]\n"
          ]
        },
        {
          "output_type": "stream",
          "name": "stderr",
          "text": [
            " 66%|██████▌   | 39701/60000 [4:03:03<1:52:31,  3.01it/s]"
          ]
        },
        {
          "output_type": "stream",
          "name": "stdout",
          "text": [
            "step: 39700 \ttraining acc: [0.05       0.05       0.05       0.05041667 0.23916667 0.789375  ]\n"
          ]
        },
        {
          "output_type": "stream",
          "name": "stderr",
          "text": [
            " 66%|██████▋   | 39801/60000 [4:03:36<1:53:35,  2.96it/s]"
          ]
        },
        {
          "output_type": "stream",
          "name": "stdout",
          "text": [
            "step: 39800 \ttraining acc: [0.05       0.05       0.05       0.05       0.18083333 0.75520833]\n"
          ]
        },
        {
          "output_type": "stream",
          "name": "stderr",
          "text": [
            " 67%|██████▋   | 39901/60000 [4:04:10<1:57:10,  2.86it/s]"
          ]
        },
        {
          "output_type": "stream",
          "name": "stdout",
          "text": [
            "step: 39900 \ttraining acc: [0.05       0.05       0.05       0.05       0.15333333 0.76458333]\n"
          ]
        },
        {
          "output_type": "stream",
          "name": "stderr",
          "text": [
            " 67%|██████▋   | 40000/60000 [4:04:43<1:52:49,  2.95it/s]"
          ]
        },
        {
          "output_type": "stream",
          "name": "stdout",
          "text": [
            "step: 40000 \ttraining acc: [0.05       0.05       0.05       0.05       0.2175     0.78416667]\n"
          ]
        },
        {
          "output_type": "stream",
          "name": "stderr",
          "text": [
            "\r 67%|██████▋   | 40001/60000 [4:05:01<32:04:20,  5.77s/it]"
          ]
        },
        {
          "output_type": "stream",
          "name": "stdout",
          "text": [
            "Test acc: [0.05    0.05    0.05    0.05054 0.2003  0.702   0.811   0.8423  0.8555\n",
            " 0.862   0.8667 ]\n"
          ]
        },
        {
          "output_type": "stream",
          "name": "stderr",
          "text": [
            " 67%|██████▋   | 40101/60000 [4:05:35<1:48:20,  3.06it/s]"
          ]
        },
        {
          "output_type": "stream",
          "name": "stdout",
          "text": [
            "step: 40100 \ttraining acc: [0.05       0.05       0.05       0.05       0.24229167 0.77645833]\n"
          ]
        },
        {
          "output_type": "stream",
          "name": "stderr",
          "text": [
            " 67%|██████▋   | 40201/60000 [4:06:08<1:48:19,  3.05it/s]"
          ]
        },
        {
          "output_type": "stream",
          "name": "stdout",
          "text": [
            "step: 40200 \ttraining acc: [0.05       0.05       0.05       0.05       0.20145833 0.77125   ]\n"
          ]
        },
        {
          "output_type": "stream",
          "name": "stderr",
          "text": [
            " 67%|██████▋   | 40301/60000 [4:06:41<1:55:10,  2.85it/s]"
          ]
        },
        {
          "output_type": "stream",
          "name": "stdout",
          "text": [
            "step: 40300 \ttraining acc: [0.05       0.05       0.05       0.05020833 0.20541667 0.788125  ]\n"
          ]
        },
        {
          "output_type": "stream",
          "name": "stderr",
          "text": [
            " 67%|██████▋   | 40401/60000 [4:07:15<1:48:03,  3.02it/s]"
          ]
        },
        {
          "output_type": "stream",
          "name": "stdout",
          "text": [
            "step: 40400 \ttraining acc: [0.05     0.05     0.05     0.05     0.133125 0.76875 ]\n"
          ]
        },
        {
          "output_type": "stream",
          "name": "stderr",
          "text": [
            " 68%|██████▊   | 40500/60000 [4:07:48<1:47:32,  3.02it/s]"
          ]
        },
        {
          "output_type": "stream",
          "name": "stdout",
          "text": [
            "step: 40500 \ttraining acc: [0.05       0.05       0.05       0.05229167 0.25479167 0.80541667]\n"
          ]
        },
        {
          "output_type": "stream",
          "name": "stderr",
          "text": [
            "\r 68%|██████▊   | 40501/60000 [4:08:06<31:24:09,  5.80s/it]"
          ]
        },
        {
          "output_type": "stream",
          "name": "stdout",
          "text": [
            "Test acc: [0.05   0.05   0.05   0.0516 0.2296 0.6973 0.8013 0.833  0.8467 0.8535\n",
            " 0.8584]\n"
          ]
        },
        {
          "output_type": "stream",
          "name": "stderr",
          "text": [
            " 68%|██████▊   | 40601/60000 [4:08:39<1:46:27,  3.04it/s]"
          ]
        },
        {
          "output_type": "stream",
          "name": "stdout",
          "text": [
            "step: 40600 \ttraining acc: [0.05       0.05       0.05       0.05       0.19041667 0.760625  ]\n"
          ]
        },
        {
          "output_type": "stream",
          "name": "stderr",
          "text": [
            " 68%|██████▊   | 40701/60000 [4:09:13<1:48:37,  2.96it/s]"
          ]
        },
        {
          "output_type": "stream",
          "name": "stdout",
          "text": [
            "step: 40700 \ttraining acc: [0.05       0.05       0.05       0.05416667 0.2625     0.77958333]\n"
          ]
        },
        {
          "output_type": "stream",
          "name": "stderr",
          "text": [
            " 68%|██████▊   | 40801/60000 [4:09:46<1:48:41,  2.94it/s]"
          ]
        },
        {
          "output_type": "stream",
          "name": "stdout",
          "text": [
            "step: 40800 \ttraining acc: [0.05       0.05       0.05       0.05020833 0.27       0.75291667]\n"
          ]
        },
        {
          "output_type": "stream",
          "name": "stderr",
          "text": [
            " 68%|██████▊   | 40901/60000 [4:10:19<1:45:53,  3.01it/s]"
          ]
        },
        {
          "output_type": "stream",
          "name": "stdout",
          "text": [
            "step: 40900 \ttraining acc: [0.05       0.05       0.05       0.05125    0.24895833 0.76145833]\n"
          ]
        },
        {
          "output_type": "stream",
          "name": "stderr",
          "text": [
            " 68%|██████▊   | 41000/60000 [4:10:52<1:43:25,  3.06it/s]"
          ]
        },
        {
          "output_type": "stream",
          "name": "stdout",
          "text": [
            "step: 41000 \ttraining acc: [0.05       0.05       0.05       0.05166667 0.21479167 0.78479167]\n"
          ]
        },
        {
          "output_type": "stream",
          "name": "stderr",
          "text": [
            "\r 68%|██████▊   | 41001/60000 [4:11:11<30:29:15,  5.78s/it]"
          ]
        },
        {
          "output_type": "stream",
          "name": "stdout",
          "text": [
            "Test acc: [0.05   0.05   0.05   0.0506 0.1869 0.688  0.7964 0.8296 0.8447 0.852\n",
            " 0.8564]\n"
          ]
        },
        {
          "output_type": "stream",
          "name": "stderr",
          "text": [
            " 69%|██████▊   | 41101/60000 [4:11:44<1:44:07,  3.02it/s]"
          ]
        },
        {
          "output_type": "stream",
          "name": "stdout",
          "text": [
            "step: 41100 \ttraining acc: [0.05    0.05    0.05    0.05    0.16625 0.7975 ]\n"
          ]
        },
        {
          "output_type": "stream",
          "name": "stderr",
          "text": [
            " 69%|██████▊   | 41201/60000 [4:12:17<1:47:05,  2.93it/s]"
          ]
        },
        {
          "output_type": "stream",
          "name": "stdout",
          "text": [
            "step: 41200 \ttraining acc: [0.05       0.05       0.05       0.05       0.189375   0.79708333]\n"
          ]
        },
        {
          "output_type": "stream",
          "name": "stderr",
          "text": [
            " 69%|██████▉   | 41301/60000 [4:12:50<1:44:31,  2.98it/s]"
          ]
        },
        {
          "output_type": "stream",
          "name": "stdout",
          "text": [
            "step: 41300 \ttraining acc: [0.05       0.05       0.05       0.05020833 0.19666667 0.779375  ]\n"
          ]
        },
        {
          "output_type": "stream",
          "name": "stderr",
          "text": [
            " 69%|██████▉   | 41401/60000 [4:13:24<1:41:26,  3.06it/s]"
          ]
        },
        {
          "output_type": "stream",
          "name": "stdout",
          "text": [
            "step: 41400 \ttraining acc: [0.05       0.05       0.05       0.05       0.179375   0.78291667]\n"
          ]
        },
        {
          "output_type": "stream",
          "name": "stderr",
          "text": [
            " 69%|██████▉   | 41500/60000 [4:13:57<1:42:56,  2.99it/s]"
          ]
        },
        {
          "output_type": "stream",
          "name": "stdout",
          "text": [
            "step: 41500 \ttraining acc: [0.05       0.05       0.05       0.056875   0.29833333 0.779375  ]\n"
          ]
        },
        {
          "output_type": "stream",
          "name": "stderr",
          "text": [
            "\r 69%|██████▉   | 41501/60000 [4:14:15<29:59:10,  5.84s/it]"
          ]
        },
        {
          "output_type": "stream",
          "name": "stdout",
          "text": [
            "Test acc: [0.05    0.05    0.05002 0.05914 0.2869  0.712   0.807   0.8354  0.849\n",
            " 0.856   0.861  ]\n"
          ]
        },
        {
          "output_type": "stream",
          "name": "stderr",
          "text": [
            " 69%|██████▉   | 41601/60000 [4:14:49<1:45:04,  2.92it/s]"
          ]
        },
        {
          "output_type": "stream",
          "name": "stdout",
          "text": [
            "step: 41600 \ttraining acc: [0.05       0.05       0.05       0.05       0.18291667 0.7975    ]\n"
          ]
        },
        {
          "output_type": "stream",
          "name": "stderr",
          "text": [
            " 70%|██████▉   | 41701/60000 [4:15:22<1:42:31,  2.97it/s]"
          ]
        },
        {
          "output_type": "stream",
          "name": "stdout",
          "text": [
            "step: 41700 \ttraining acc: [0.05       0.05       0.05       0.05       0.17895833 0.765     ]\n"
          ]
        },
        {
          "output_type": "stream",
          "name": "stderr",
          "text": [
            " 70%|██████▉   | 41801/60000 [4:15:55<1:39:59,  3.03it/s]"
          ]
        },
        {
          "output_type": "stream",
          "name": "stdout",
          "text": [
            "step: 41800 \ttraining acc: [0.05       0.05       0.05       0.05       0.16458333 0.77125   ]\n"
          ]
        },
        {
          "output_type": "stream",
          "name": "stderr",
          "text": [
            " 70%|██████▉   | 41901/60000 [4:16:28<1:38:59,  3.05it/s]"
          ]
        },
        {
          "output_type": "stream",
          "name": "stdout",
          "text": [
            "step: 41900 \ttraining acc: [0.05     0.05     0.05     0.05     0.160625 0.763125]\n"
          ]
        },
        {
          "output_type": "stream",
          "name": "stderr",
          "text": [
            " 70%|███████   | 42000/60000 [4:17:01<1:38:54,  3.03it/s]"
          ]
        },
        {
          "output_type": "stream",
          "name": "stdout",
          "text": [
            "step: 42000 \ttraining acc: [0.05       0.05       0.05       0.056875   0.27770833 0.78375   ]\n"
          ]
        },
        {
          "output_type": "stream",
          "name": "stderr",
          "text": [
            "\r 70%|███████   | 42001/60000 [4:17:20<28:50:11,  5.77s/it]"
          ]
        },
        {
          "output_type": "stream",
          "name": "stdout",
          "text": [
            "Test acc: [0.05    0.05    0.05002 0.05438 0.2532  0.6973  0.8003  0.8315  0.8457\n",
            " 0.8535  0.858  ]\n"
          ]
        },
        {
          "output_type": "stream",
          "name": "stderr",
          "text": [
            " 70%|███████   | 42101/60000 [4:17:53<1:42:02,  2.92it/s]"
          ]
        },
        {
          "output_type": "stream",
          "name": "stdout",
          "text": [
            "step: 42100 \ttraining acc: [0.05       0.05       0.05       0.0525     0.22125    0.78666667]\n"
          ]
        },
        {
          "output_type": "stream",
          "name": "stderr",
          "text": [
            " 70%|███████   | 42201/60000 [4:18:26<1:37:58,  3.03it/s]"
          ]
        },
        {
          "output_type": "stream",
          "name": "stdout",
          "text": [
            "step: 42200 \ttraining acc: [0.05       0.05       0.05       0.05       0.15145833 0.78166667]\n"
          ]
        },
        {
          "output_type": "stream",
          "name": "stderr",
          "text": [
            " 71%|███████   | 42301/60000 [4:18:59<1:37:11,  3.04it/s]"
          ]
        },
        {
          "output_type": "stream",
          "name": "stdout",
          "text": [
            "step: 42300 \ttraining acc: [0.05       0.05       0.05       0.05       0.18041667 0.75145833]\n"
          ]
        },
        {
          "output_type": "stream",
          "name": "stderr",
          "text": [
            " 71%|███████   | 42401/60000 [4:19:33<1:38:16,  2.98it/s]"
          ]
        },
        {
          "output_type": "stream",
          "name": "stdout",
          "text": [
            "step: 42400 \ttraining acc: [0.05       0.05       0.05       0.05208333 0.345625   0.82916667]\n"
          ]
        },
        {
          "output_type": "stream",
          "name": "stderr",
          "text": [
            " 71%|███████   | 42500/60000 [4:20:06<1:40:00,  2.92it/s]"
          ]
        },
        {
          "output_type": "stream",
          "name": "stdout",
          "text": [
            "step: 42500 \ttraining acc: [0.05       0.05       0.05       0.05       0.159375   0.75083333]\n"
          ]
        },
        {
          "output_type": "stream",
          "name": "stderr",
          "text": [
            "\r 71%|███████   | 42501/60000 [4:20:24<27:59:08,  5.76s/it]"
          ]
        },
        {
          "output_type": "stream",
          "name": "stdout",
          "text": [
            "Test acc: [0.05    0.05    0.05    0.05017 0.1403  0.6733  0.796   0.8325  0.848\n",
            " 0.856   0.861  ]\n"
          ]
        },
        {
          "output_type": "stream",
          "name": "stderr",
          "text": [
            " 71%|███████   | 42601/60000 [4:20:57<1:34:54,  3.06it/s]"
          ]
        },
        {
          "output_type": "stream",
          "name": "stdout",
          "text": [
            "step: 42600 \ttraining acc: [0.05       0.05       0.05       0.05208333 0.23875    0.78770833]\n"
          ]
        },
        {
          "output_type": "stream",
          "name": "stderr",
          "text": [
            " 71%|███████   | 42701/60000 [4:21:30<1:34:03,  3.07it/s]"
          ]
        },
        {
          "output_type": "stream",
          "name": "stdout",
          "text": [
            "step: 42700 \ttraining acc: [0.05       0.05       0.05       0.05354167 0.23583333 0.789375  ]\n"
          ]
        },
        {
          "output_type": "stream",
          "name": "stderr",
          "text": [
            " 71%|███████▏  | 42801/60000 [4:22:04<1:34:46,  3.02it/s]"
          ]
        },
        {
          "output_type": "stream",
          "name": "stdout",
          "text": [
            "step: 42800 \ttraining acc: [0.05       0.05       0.05       0.05229167 0.22333333 0.78895833]\n"
          ]
        },
        {
          "output_type": "stream",
          "name": "stderr",
          "text": [
            " 72%|███████▏  | 42901/60000 [4:22:37<1:34:40,  3.01it/s]"
          ]
        },
        {
          "output_type": "stream",
          "name": "stdout",
          "text": [
            "step: 42900 \ttraining acc: [0.05       0.05       0.05       0.05       0.15625    0.76979167]\n"
          ]
        },
        {
          "output_type": "stream",
          "name": "stderr",
          "text": [
            " 72%|███████▏  | 43000/60000 [4:23:10<1:34:10,  3.01it/s]"
          ]
        },
        {
          "output_type": "stream",
          "name": "stdout",
          "text": [
            "step: 43000 \ttraining acc: [0.05       0.05       0.05       0.05       0.16729167 0.75875   ]\n"
          ]
        },
        {
          "output_type": "stream",
          "name": "stderr",
          "text": [
            "\r 72%|███████▏  | 43001/60000 [4:23:28<27:16:45,  5.78s/it]"
          ]
        },
        {
          "output_type": "stream",
          "name": "stdout",
          "text": [
            "Test acc: [0.05    0.05    0.05    0.05005 0.1427  0.6875  0.8     0.834   0.848\n",
            " 0.8564  0.861  ]\n"
          ]
        },
        {
          "output_type": "stream",
          "name": "stderr",
          "text": [
            " 72%|███████▏  | 43101/60000 [4:24:02<1:33:20,  3.02it/s]"
          ]
        },
        {
          "output_type": "stream",
          "name": "stdout",
          "text": [
            "step: 43100 \ttraining acc: [0.05       0.05       0.05       0.05       0.14645833 0.75166667]\n"
          ]
        },
        {
          "output_type": "stream",
          "name": "stderr",
          "text": [
            " 72%|███████▏  | 43201/60000 [4:24:35<1:32:00,  3.04it/s]"
          ]
        },
        {
          "output_type": "stream",
          "name": "stdout",
          "text": [
            "step: 43200 \ttraining acc: [0.05       0.05       0.05       0.05104167 0.17145833 0.7675    ]\n"
          ]
        },
        {
          "output_type": "stream",
          "name": "stderr",
          "text": [
            " 72%|███████▏  | 43301/60000 [4:25:08<1:33:01,  2.99it/s]"
          ]
        },
        {
          "output_type": "stream",
          "name": "stdout",
          "text": [
            "step: 43300 \ttraining acc: [0.05     0.05     0.05     0.050625 0.2525   0.783125]\n"
          ]
        },
        {
          "output_type": "stream",
          "name": "stderr",
          "text": [
            " 72%|███████▏  | 43401/60000 [4:25:41<1:32:24,  2.99it/s]"
          ]
        },
        {
          "output_type": "stream",
          "name": "stdout",
          "text": [
            "step: 43400 \ttraining acc: [0.05       0.05       0.05       0.05020833 0.19625    0.76791667]\n"
          ]
        },
        {
          "output_type": "stream",
          "name": "stderr",
          "text": [
            " 72%|███████▎  | 43500/60000 [4:26:14<1:30:06,  3.05it/s]"
          ]
        },
        {
          "output_type": "stream",
          "name": "stdout",
          "text": [
            "step: 43500 \ttraining acc: [0.05     0.05     0.05     0.05     0.241875 0.76875 ]\n"
          ]
        },
        {
          "output_type": "stream",
          "name": "stderr",
          "text": [
            "\r 73%|███████▎  | 43501/60000 [4:26:33<26:27:50,  5.77s/it]"
          ]
        },
        {
          "output_type": "stream",
          "name": "stdout",
          "text": [
            "Test acc: [0.05    0.05    0.05    0.05112 0.2002  0.6885  0.799   0.8315  0.847\n",
            " 0.8545  0.8594 ]\n"
          ]
        },
        {
          "output_type": "stream",
          "name": "stderr",
          "text": [
            " 73%|███████▎  | 43601/60000 [4:27:06<1:29:26,  3.06it/s]"
          ]
        },
        {
          "output_type": "stream",
          "name": "stdout",
          "text": [
            "step: 43600 \ttraining acc: [0.05       0.05       0.05       0.05       0.19604167 0.80729167]\n"
          ]
        },
        {
          "output_type": "stream",
          "name": "stderr",
          "text": [
            " 73%|███████▎  | 43701/60000 [4:27:40<1:29:43,  3.03it/s]"
          ]
        },
        {
          "output_type": "stream",
          "name": "stdout",
          "text": [
            "step: 43700 \ttraining acc: [0.05       0.05       0.05       0.05208333 0.30375    0.779375  ]\n"
          ]
        },
        {
          "output_type": "stream",
          "name": "stderr",
          "text": [
            " 73%|███████▎  | 43801/60000 [4:28:13<1:29:49,  3.01it/s]"
          ]
        },
        {
          "output_type": "stream",
          "name": "stdout",
          "text": [
            "step: 43800 \ttraining acc: [0.05       0.05       0.05       0.05       0.13395833 0.73291667]\n"
          ]
        },
        {
          "output_type": "stream",
          "name": "stderr",
          "text": [
            " 73%|███████▎  | 43901/60000 [4:28:46<1:29:32,  3.00it/s]"
          ]
        },
        {
          "output_type": "stream",
          "name": "stdout",
          "text": [
            "step: 43900 \ttraining acc: [0.05       0.05       0.05       0.05208333 0.20645833 0.760625  ]\n"
          ]
        },
        {
          "output_type": "stream",
          "name": "stderr",
          "text": [
            " 73%|███████▎  | 44000/60000 [4:29:19<1:29:02,  2.99it/s]"
          ]
        },
        {
          "output_type": "stream",
          "name": "stdout",
          "text": [
            "step: 44000 \ttraining acc: [0.05       0.05       0.05       0.05       0.14916667 0.76979167]\n"
          ]
        },
        {
          "output_type": "stream",
          "name": "stderr",
          "text": [
            "\r 73%|███████▎  | 44001/60000 [4:29:37<25:34:51,  5.76s/it]"
          ]
        },
        {
          "output_type": "stream",
          "name": "stdout",
          "text": [
            "Test acc: [0.05    0.05    0.05    0.05005 0.1378  0.6743  0.789   0.826   0.8423\n",
            " 0.851   0.856  ]\n"
          ]
        },
        {
          "output_type": "stream",
          "name": "stderr",
          "text": [
            " 74%|███████▎  | 44101/60000 [4:30:11<1:28:52,  2.98it/s]"
          ]
        },
        {
          "output_type": "stream",
          "name": "stdout",
          "text": [
            "step: 44100 \ttraining acc: [0.05       0.05       0.05       0.05       0.1375     0.75854167]\n"
          ]
        },
        {
          "output_type": "stream",
          "name": "stderr",
          "text": [
            " 74%|███████▎  | 44201/60000 [4:30:44<1:28:30,  2.97it/s]"
          ]
        },
        {
          "output_type": "stream",
          "name": "stdout",
          "text": [
            "step: 44200 \ttraining acc: [0.05       0.05       0.05       0.05020833 0.21791667 0.79729167]\n"
          ]
        },
        {
          "output_type": "stream",
          "name": "stderr",
          "text": [
            " 74%|███████▍  | 44301/60000 [4:31:17<1:27:02,  3.01it/s]"
          ]
        },
        {
          "output_type": "stream",
          "name": "stdout",
          "text": [
            "step: 44300 \ttraining acc: [0.05       0.05       0.05       0.05125    0.24895833 0.781875  ]\n"
          ]
        },
        {
          "output_type": "stream",
          "name": "stderr",
          "text": [
            " 74%|███████▍  | 44401/60000 [4:31:50<1:27:36,  2.97it/s]"
          ]
        },
        {
          "output_type": "stream",
          "name": "stdout",
          "text": [
            "step: 44400 \ttraining acc: [0.05       0.05       0.05       0.05       0.14541667 0.77479167]\n"
          ]
        },
        {
          "output_type": "stream",
          "name": "stderr",
          "text": [
            " 74%|███████▍  | 44500/60000 [4:32:23<1:24:59,  3.04it/s]"
          ]
        },
        {
          "output_type": "stream",
          "name": "stdout",
          "text": [
            "step: 44500 \ttraining acc: [0.05       0.05       0.05       0.05291667 0.23604167 0.79583333]\n"
          ]
        },
        {
          "output_type": "stream",
          "name": "stderr",
          "text": [
            "\r 74%|███████▍  | 44501/60000 [4:32:42<25:03:27,  5.82s/it]"
          ]
        },
        {
          "output_type": "stream",
          "name": "stdout",
          "text": [
            "Test acc: [0.05   0.05   0.05   0.0518 0.2253 0.6924 0.7983 0.832  0.847  0.854\n",
            " 0.8594]\n"
          ]
        },
        {
          "output_type": "stream",
          "name": "stderr",
          "text": [
            " 74%|███████▍  | 44601/60000 [4:33:15<1:25:42,  2.99it/s]"
          ]
        },
        {
          "output_type": "stream",
          "name": "stdout",
          "text": [
            "step: 44600 \ttraining acc: [0.05       0.05       0.05       0.05       0.19604167 0.79479167]\n"
          ]
        },
        {
          "output_type": "stream",
          "name": "stderr",
          "text": [
            " 75%|███████▍  | 44701/60000 [4:33:48<1:25:15,  2.99it/s]"
          ]
        },
        {
          "output_type": "stream",
          "name": "stdout",
          "text": [
            "step: 44700 \ttraining acc: [0.05       0.05       0.05       0.05       0.18791667 0.79708333]\n"
          ]
        },
        {
          "output_type": "stream",
          "name": "stderr",
          "text": [
            " 75%|███████▍  | 44801/60000 [4:34:22<1:24:07,  3.01it/s]"
          ]
        },
        {
          "output_type": "stream",
          "name": "stdout",
          "text": [
            "step: 44800 \ttraining acc: [0.05       0.05       0.05       0.05083333 0.311875   0.80791667]\n"
          ]
        },
        {
          "output_type": "stream",
          "name": "stderr",
          "text": [
            " 75%|███████▍  | 44901/60000 [4:34:55<1:25:17,  2.95it/s]"
          ]
        },
        {
          "output_type": "stream",
          "name": "stdout",
          "text": [
            "step: 44900 \ttraining acc: [0.05       0.05       0.05       0.05020833 0.27979167 0.77666667]\n"
          ]
        },
        {
          "output_type": "stream",
          "name": "stderr",
          "text": [
            " 75%|███████▌  | 45000/60000 [4:35:28<1:24:41,  2.95it/s]"
          ]
        },
        {
          "output_type": "stream",
          "name": "stdout",
          "text": [
            "step: 45000 \ttraining acc: [0.05       0.05       0.05       0.05333333 0.26270833 0.78125   ]\n"
          ]
        },
        {
          "output_type": "stream",
          "name": "stderr",
          "text": [
            "\r 75%|███████▌  | 45001/60000 [4:35:47<24:24:09,  5.86s/it]"
          ]
        },
        {
          "output_type": "stream",
          "name": "stdout",
          "text": [
            "Test acc: [0.05    0.05    0.05    0.05154 0.2659  0.696   0.798   0.8296  0.844\n",
            " 0.8525  0.8574 ]\n"
          ]
        },
        {
          "output_type": "stream",
          "name": "stderr",
          "text": [
            " 75%|███████▌  | 45101/60000 [4:36:20<1:22:39,  3.00it/s]"
          ]
        },
        {
          "output_type": "stream",
          "name": "stdout",
          "text": [
            "step: 45100 \ttraining acc: [0.05       0.05       0.05       0.05020833 0.244375   0.80270833]\n"
          ]
        },
        {
          "output_type": "stream",
          "name": "stderr",
          "text": [
            " 75%|███████▌  | 45201/60000 [4:36:53<1:20:58,  3.05it/s]"
          ]
        },
        {
          "output_type": "stream",
          "name": "stdout",
          "text": [
            "step: 45200 \ttraining acc: [0.05     0.05     0.05     0.05     0.215625 0.78875 ]\n"
          ]
        },
        {
          "output_type": "stream",
          "name": "stderr",
          "text": [
            " 76%|███████▌  | 45301/60000 [4:37:27<1:20:52,  3.03it/s]"
          ]
        },
        {
          "output_type": "stream",
          "name": "stdout",
          "text": [
            "step: 45300 \ttraining acc: [0.05       0.05       0.05       0.05       0.11229167 0.78270833]\n"
          ]
        },
        {
          "output_type": "stream",
          "name": "stderr",
          "text": [
            " 76%|███████▌  | 45401/60000 [4:38:00<1:20:37,  3.02it/s]"
          ]
        },
        {
          "output_type": "stream",
          "name": "stdout",
          "text": [
            "step: 45400 \ttraining acc: [0.05       0.05       0.05       0.05104167 0.22479167 0.77479167]\n"
          ]
        },
        {
          "output_type": "stream",
          "name": "stderr",
          "text": [
            " 76%|███████▌  | 45500/60000 [4:38:33<1:20:59,  2.98it/s]"
          ]
        },
        {
          "output_type": "stream",
          "name": "stdout",
          "text": [
            "step: 45500 \ttraining acc: [0.05       0.05       0.05       0.05041667 0.16979167 0.785625  ]\n"
          ]
        },
        {
          "output_type": "stream",
          "name": "stderr",
          "text": [
            "\r 76%|███████▌  | 45501/60000 [4:38:51<23:22:38,  5.80s/it]"
          ]
        },
        {
          "output_type": "stream",
          "name": "stdout",
          "text": [
            "Test acc: [0.05    0.05    0.05    0.05002 0.1438  0.6743  0.7915  0.8276  0.8447\n",
            " 0.8525  0.8584 ]\n"
          ]
        },
        {
          "output_type": "stream",
          "name": "stderr",
          "text": [
            " 76%|███████▌  | 45601/60000 [4:39:25<1:20:23,  2.99it/s]"
          ]
        },
        {
          "output_type": "stream",
          "name": "stdout",
          "text": [
            "step: 45600 \ttraining acc: [0.05       0.05       0.05       0.05       0.20520833 0.77041667]\n"
          ]
        },
        {
          "output_type": "stream",
          "name": "stderr",
          "text": [
            " 76%|███████▌  | 45701/60000 [4:39:58<1:18:50,  3.02it/s]"
          ]
        },
        {
          "output_type": "stream",
          "name": "stdout",
          "text": [
            "step: 45700 \ttraining acc: [0.05       0.05       0.05       0.05       0.20666667 0.77354167]\n"
          ]
        },
        {
          "output_type": "stream",
          "name": "stderr",
          "text": [
            " 76%|███████▋  | 45801/60000 [4:40:31<1:19:07,  2.99it/s]"
          ]
        },
        {
          "output_type": "stream",
          "name": "stdout",
          "text": [
            "step: 45800 \ttraining acc: [0.05       0.05       0.05       0.0525     0.264375   0.77958333]\n"
          ]
        },
        {
          "output_type": "stream",
          "name": "stderr",
          "text": [
            " 77%|███████▋  | 45901/60000 [4:41:04<1:16:00,  3.09it/s]"
          ]
        },
        {
          "output_type": "stream",
          "name": "stdout",
          "text": [
            "step: 45900 \ttraining acc: [0.05       0.05       0.05       0.05020833 0.19291667 0.780625  ]\n"
          ]
        },
        {
          "output_type": "stream",
          "name": "stderr",
          "text": [
            " 77%|███████▋  | 46000/60000 [4:41:37<1:17:22,  3.02it/s]"
          ]
        },
        {
          "output_type": "stream",
          "name": "stdout",
          "text": [
            "step: 46000 \ttraining acc: [0.05       0.05       0.05       0.05229167 0.204375   0.784375  ]\n"
          ]
        },
        {
          "output_type": "stream",
          "name": "stderr",
          "text": [
            "\r 77%|███████▋  | 46001/60000 [4:41:56<22:29:42,  5.78s/it]"
          ]
        },
        {
          "output_type": "stream",
          "name": "stdout",
          "text": [
            "Test acc: [0.05   0.05   0.05   0.0502 0.1716 0.678  0.7974 0.833  0.847  0.855\n",
            " 0.8604]\n"
          ]
        },
        {
          "output_type": "stream",
          "name": "stderr",
          "text": [
            " 77%|███████▋  | 46101/60000 [4:42:29<1:15:12,  3.08it/s]"
          ]
        },
        {
          "output_type": "stream",
          "name": "stdout",
          "text": [
            "step: 46100 \ttraining acc: [0.05       0.05       0.05       0.05020833 0.22833333 0.78479167]\n"
          ]
        },
        {
          "output_type": "stream",
          "name": "stderr",
          "text": [
            " 77%|███████▋  | 46201/60000 [4:43:01<1:14:38,  3.08it/s]"
          ]
        },
        {
          "output_type": "stream",
          "name": "stdout",
          "text": [
            "step: 46200 \ttraining acc: [0.05       0.05       0.05       0.05       0.20145833 0.780625  ]\n"
          ]
        },
        {
          "output_type": "stream",
          "name": "stderr",
          "text": [
            " 77%|███████▋  | 46301/60000 [4:43:34<1:14:22,  3.07it/s]"
          ]
        },
        {
          "output_type": "stream",
          "name": "stdout",
          "text": [
            "step: 46300 \ttraining acc: [0.05     0.05     0.05     0.053125 0.318125 0.81375 ]\n"
          ]
        },
        {
          "output_type": "stream",
          "name": "stderr",
          "text": [
            " 77%|███████▋  | 46401/60000 [4:44:08<1:18:18,  2.89it/s]"
          ]
        },
        {
          "output_type": "stream",
          "name": "stdout",
          "text": [
            "step: 46400 \ttraining acc: [0.05       0.05       0.05       0.05125    0.20895833 0.78854167]\n"
          ]
        },
        {
          "output_type": "stream",
          "name": "stderr",
          "text": [
            " 78%|███████▊  | 46500/60000 [4:44:42<1:14:27,  3.02it/s]"
          ]
        },
        {
          "output_type": "stream",
          "name": "stdout",
          "text": [
            "step: 46500 \ttraining acc: [0.05       0.05       0.05       0.05       0.21666667 0.77020833]\n"
          ]
        },
        {
          "output_type": "stream",
          "name": "stderr",
          "text": [
            "\r 78%|███████▊  | 46501/60000 [4:45:00<21:31:44,  5.74s/it]"
          ]
        },
        {
          "output_type": "stream",
          "name": "stdout",
          "text": [
            "Test acc: [0.05    0.05    0.05    0.05087 0.191   0.6855  0.796   0.8286  0.8438\n",
            " 0.8516  0.858  ]\n"
          ]
        },
        {
          "output_type": "stream",
          "name": "stderr",
          "text": [
            " 78%|███████▊  | 46601/60000 [4:45:33<1:14:26,  3.00it/s]"
          ]
        },
        {
          "output_type": "stream",
          "name": "stdout",
          "text": [
            "step: 46600 \ttraining acc: [0.05       0.05       0.05       0.05979167 0.28166667 0.800625  ]\n"
          ]
        },
        {
          "output_type": "stream",
          "name": "stderr",
          "text": [
            " 78%|███████▊  | 46701/60000 [4:46:06<1:15:16,  2.94it/s]"
          ]
        },
        {
          "output_type": "stream",
          "name": "stdout",
          "text": [
            "step: 46700 \ttraining acc: [0.05       0.05       0.05       0.05541667 0.24458333 0.80520833]\n"
          ]
        },
        {
          "output_type": "stream",
          "name": "stderr",
          "text": [
            " 78%|███████▊  | 46801/60000 [4:46:39<1:12:59,  3.01it/s]"
          ]
        },
        {
          "output_type": "stream",
          "name": "stdout",
          "text": [
            "step: 46800 \ttraining acc: [0.05       0.05       0.05       0.05       0.17833333 0.79145833]\n"
          ]
        },
        {
          "output_type": "stream",
          "name": "stderr",
          "text": [
            " 78%|███████▊  | 46901/60000 [4:47:12<1:12:03,  3.03it/s]"
          ]
        },
        {
          "output_type": "stream",
          "name": "stdout",
          "text": [
            "step: 46900 \ttraining acc: [0.05       0.05       0.05       0.0525     0.27291667 0.78229167]\n"
          ]
        },
        {
          "output_type": "stream",
          "name": "stderr",
          "text": [
            " 78%|███████▊  | 47000/60000 [4:47:45<1:11:56,  3.01it/s]"
          ]
        },
        {
          "output_type": "stream",
          "name": "stdout",
          "text": [
            "step: 47000 \ttraining acc: [0.05       0.05       0.05       0.05       0.1575     0.76145833]\n"
          ]
        },
        {
          "output_type": "stream",
          "name": "stderr",
          "text": [
            "\r 78%|███████▊  | 47001/60000 [4:48:03<20:45:26,  5.75s/it]"
          ]
        },
        {
          "output_type": "stream",
          "name": "stdout",
          "text": [
            "Test acc: [0.05    0.05    0.05    0.05038 0.1501  0.667   0.787   0.8228  0.839\n",
            " 0.846   0.852  ]\n"
          ]
        },
        {
          "output_type": "stream",
          "name": "stderr",
          "text": [
            " 79%|███████▊  | 47101/60000 [4:48:37<1:10:21,  3.06it/s]"
          ]
        },
        {
          "output_type": "stream",
          "name": "stdout",
          "text": [
            "step: 47100 \ttraining acc: [0.05       0.05       0.05       0.05041667 0.2025     0.76979167]\n"
          ]
        },
        {
          "output_type": "stream",
          "name": "stderr",
          "text": [
            " 79%|███████▊  | 47201/60000 [4:49:10<1:10:09,  3.04it/s]"
          ]
        },
        {
          "output_type": "stream",
          "name": "stdout",
          "text": [
            "step: 47200 \ttraining acc: [0.05       0.05       0.05       0.05166667 0.198125   0.77375   ]\n"
          ]
        },
        {
          "output_type": "stream",
          "name": "stderr",
          "text": [
            " 79%|███████▉  | 47301/60000 [4:49:43<1:10:03,  3.02it/s]"
          ]
        },
        {
          "output_type": "stream",
          "name": "stdout",
          "text": [
            "step: 47300 \ttraining acc: [0.05       0.05       0.05       0.05       0.156875   0.78895833]\n"
          ]
        },
        {
          "output_type": "stream",
          "name": "stderr",
          "text": [
            " 79%|███████▉  | 47401/60000 [4:50:16<1:10:38,  2.97it/s]"
          ]
        },
        {
          "output_type": "stream",
          "name": "stdout",
          "text": [
            "step: 47400 \ttraining acc: [0.05       0.05       0.05       0.05125    0.21916667 0.78854167]\n"
          ]
        },
        {
          "output_type": "stream",
          "name": "stderr",
          "text": [
            " 79%|███████▉  | 47500/60000 [4:50:49<1:08:50,  3.03it/s]"
          ]
        },
        {
          "output_type": "stream",
          "name": "stdout",
          "text": [
            "step: 47500 \ttraining acc: [0.05       0.05       0.05       0.05895833 0.30041667 0.775     ]\n"
          ]
        },
        {
          "output_type": "stream",
          "name": "stderr",
          "text": [
            "\r 79%|███████▉  | 47501/60000 [4:51:08<20:23:17,  5.87s/it]"
          ]
        },
        {
          "output_type": "stream",
          "name": "stdout",
          "text": [
            "Test acc: [0.05   0.05   0.05   0.0554 0.2583 0.6934 0.7993 0.832  0.8467 0.8535\n",
            " 0.859 ]\n"
          ]
        },
        {
          "output_type": "stream",
          "name": "stderr",
          "text": [
            " 79%|███████▉  | 47601/60000 [4:51:41<1:09:05,  2.99it/s]"
          ]
        },
        {
          "output_type": "stream",
          "name": "stdout",
          "text": [
            "step: 47600 \ttraining acc: [0.05       0.05       0.05       0.05208333 0.28208333 0.78583333]\n"
          ]
        },
        {
          "output_type": "stream",
          "name": "stderr",
          "text": [
            " 80%|███████▉  | 47701/60000 [4:52:14<1:07:48,  3.02it/s]"
          ]
        },
        {
          "output_type": "stream",
          "name": "stdout",
          "text": [
            "step: 47700 \ttraining acc: [0.05       0.05       0.05       0.05083333 0.22604167 0.80583333]\n"
          ]
        },
        {
          "output_type": "stream",
          "name": "stderr",
          "text": [
            " 80%|███████▉  | 47801/60000 [4:52:47<1:07:38,  3.01it/s]"
          ]
        },
        {
          "output_type": "stream",
          "name": "stdout",
          "text": [
            "step: 47800 \ttraining acc: [0.05       0.05       0.05       0.05       0.13979167 0.77125   ]\n"
          ]
        },
        {
          "output_type": "stream",
          "name": "stderr",
          "text": [
            " 80%|███████▉  | 47901/60000 [4:53:21<1:07:00,  3.01it/s]"
          ]
        },
        {
          "output_type": "stream",
          "name": "stdout",
          "text": [
            "step: 47900 \ttraining acc: [0.05       0.05       0.05       0.05       0.1775     0.75229167]\n"
          ]
        },
        {
          "output_type": "stream",
          "name": "stderr",
          "text": [
            " 80%|████████  | 48000/60000 [4:53:53<1:05:39,  3.05it/s]"
          ]
        },
        {
          "output_type": "stream",
          "name": "stdout",
          "text": [
            "step: 48000 \ttraining acc: [0.05       0.05       0.05       0.05020833 0.17854167 0.79020833]\n"
          ]
        },
        {
          "output_type": "stream",
          "name": "stderr",
          "text": [
            "\r 80%|████████  | 48001/60000 [4:54:12<19:11:09,  5.76s/it]"
          ]
        },
        {
          "output_type": "stream",
          "name": "stdout",
          "text": [
            "Test acc: [0.05    0.05    0.05    0.05017 0.1605  0.6885  0.8057  0.8384  0.8516\n",
            " 0.858   0.8633 ]\n"
          ]
        },
        {
          "output_type": "stream",
          "name": "stderr",
          "text": [
            " 80%|████████  | 48101/60000 [4:54:45<1:04:46,  3.06it/s]"
          ]
        },
        {
          "output_type": "stream",
          "name": "stdout",
          "text": [
            "step: 48100 \ttraining acc: [0.05       0.05       0.05       0.050625   0.1875     0.76333333]\n"
          ]
        },
        {
          "output_type": "stream",
          "name": "stderr",
          "text": [
            " 80%|████████  | 48201/60000 [4:55:18<1:03:51,  3.08it/s]"
          ]
        },
        {
          "output_type": "stream",
          "name": "stdout",
          "text": [
            "step: 48200 \ttraining acc: [0.05       0.05       0.05       0.05041667 0.15395833 0.75541667]\n"
          ]
        },
        {
          "output_type": "stream",
          "name": "stderr",
          "text": [
            " 81%|████████  | 48301/60000 [4:55:51<1:05:07,  2.99it/s]"
          ]
        },
        {
          "output_type": "stream",
          "name": "stdout",
          "text": [
            "step: 48300 \ttraining acc: [0.05       0.05       0.05       0.05041667 0.21708333 0.75229167]\n"
          ]
        },
        {
          "output_type": "stream",
          "name": "stderr",
          "text": [
            " 81%|████████  | 48401/60000 [4:56:24<1:04:21,  3.00it/s]"
          ]
        },
        {
          "output_type": "stream",
          "name": "stdout",
          "text": [
            "step: 48400 \ttraining acc: [0.05       0.05       0.05       0.05041667 0.17520833 0.80458333]\n"
          ]
        },
        {
          "output_type": "stream",
          "name": "stderr",
          "text": [
            " 81%|████████  | 48500/60000 [4:56:57<1:03:25,  3.02it/s]"
          ]
        },
        {
          "output_type": "stream",
          "name": "stdout",
          "text": [
            "step: 48500 \ttraining acc: [0.05       0.05       0.05       0.05       0.198125   0.76791667]\n"
          ]
        },
        {
          "output_type": "stream",
          "name": "stderr",
          "text": [
            "\r 81%|████████  | 48501/60000 [4:57:16<18:23:44,  5.76s/it]"
          ]
        },
        {
          "output_type": "stream",
          "name": "stdout",
          "text": [
            "Test acc: [0.05   0.05   0.05   0.0502 0.1736 0.686  0.796  0.8296 0.844  0.852\n",
            " 0.857 ]\n"
          ]
        },
        {
          "output_type": "stream",
          "name": "stderr",
          "text": [
            " 81%|████████  | 48601/60000 [4:57:49<1:02:30,  3.04it/s]"
          ]
        },
        {
          "output_type": "stream",
          "name": "stdout",
          "text": [
            "step: 48600 \ttraining acc: [0.05       0.05       0.05       0.05       0.18104167 0.77958333]\n"
          ]
        },
        {
          "output_type": "stream",
          "name": "stderr",
          "text": [
            " 81%|████████  | 48701/60000 [4:58:22<1:03:26,  2.97it/s]"
          ]
        },
        {
          "output_type": "stream",
          "name": "stdout",
          "text": [
            "step: 48700 \ttraining acc: [0.05       0.05       0.05       0.05041667 0.174375   0.781875  ]\n"
          ]
        },
        {
          "output_type": "stream",
          "name": "stderr",
          "text": [
            " 81%|████████▏ | 48801/60000 [4:58:55<1:01:37,  3.03it/s]"
          ]
        },
        {
          "output_type": "stream",
          "name": "stdout",
          "text": [
            "step: 48800 \ttraining acc: [0.05       0.05       0.05       0.05020833 0.20875    0.779375  ]\n"
          ]
        },
        {
          "output_type": "stream",
          "name": "stderr",
          "text": [
            " 82%|████████▏ | 48901/60000 [4:59:28<1:01:21,  3.01it/s]"
          ]
        },
        {
          "output_type": "stream",
          "name": "stdout",
          "text": [
            "step: 48900 \ttraining acc: [0.05       0.05       0.05       0.05041667 0.156875   0.74520833]\n"
          ]
        },
        {
          "output_type": "stream",
          "name": "stderr",
          "text": [
            " 82%|████████▏ | 49000/60000 [5:00:01<1:02:11,  2.95it/s]"
          ]
        },
        {
          "output_type": "stream",
          "name": "stdout",
          "text": [
            "step: 49000 \ttraining acc: [0.05       0.05       0.05       0.05       0.15729167 0.80541667]\n"
          ]
        },
        {
          "output_type": "stream",
          "name": "stderr",
          "text": [
            "\r 82%|████████▏ | 49001/60000 [5:00:19<17:34:13,  5.75s/it]"
          ]
        },
        {
          "output_type": "stream",
          "name": "stdout",
          "text": [
            "Test acc: [0.05   0.05   0.05   0.0502 0.139  0.69   0.804  0.838  0.8516 0.8584\n",
            " 0.863 ]\n"
          ]
        },
        {
          "output_type": "stream",
          "name": "stderr",
          "text": [
            " 82%|████████▏ | 49101/60000 [5:00:52<1:00:28,  3.00it/s]"
          ]
        },
        {
          "output_type": "stream",
          "name": "stdout",
          "text": [
            "step: 49100 \ttraining acc: [0.05       0.05       0.05       0.05229167 0.19979167 0.80354167]\n"
          ]
        },
        {
          "output_type": "stream",
          "name": "stderr",
          "text": [
            " 82%|████████▏ | 49201/60000 [5:01:26<1:00:29,  2.98it/s]"
          ]
        },
        {
          "output_type": "stream",
          "name": "stdout",
          "text": [
            "step: 49200 \ttraining acc: [0.05       0.05       0.05       0.05020833 0.21666667 0.77104167]\n"
          ]
        },
        {
          "output_type": "stream",
          "name": "stderr",
          "text": [
            " 82%|████████▏ | 49301/60000 [5:01:59<1:00:21,  2.95it/s]"
          ]
        },
        {
          "output_type": "stream",
          "name": "stdout",
          "text": [
            "step: 49300 \ttraining acc: [0.05       0.05       0.05       0.05208333 0.21854167 0.76354167]\n"
          ]
        },
        {
          "output_type": "stream",
          "name": "stderr",
          "text": [
            " 82%|████████▏ | 49401/60000 [5:02:33<58:30,  3.02it/s]"
          ]
        },
        {
          "output_type": "stream",
          "name": "stdout",
          "text": [
            "step: 49400 \ttraining acc: [0.05       0.05       0.05       0.05       0.13104167 0.76979167]\n"
          ]
        },
        {
          "output_type": "stream",
          "name": "stderr",
          "text": [
            " 82%|████████▎ | 49500/60000 [5:03:05<58:34,  2.99it/s]"
          ]
        },
        {
          "output_type": "stream",
          "name": "stdout",
          "text": [
            "step: 49500 \ttraining acc: [0.05       0.05       0.05       0.05       0.18166667 0.79270833]\n"
          ]
        },
        {
          "output_type": "stream",
          "name": "stderr",
          "text": [
            "\r 83%|████████▎ | 49501/60000 [5:03:24<16:54:33,  5.80s/it]"
          ]
        },
        {
          "output_type": "stream",
          "name": "stdout",
          "text": [
            "Test acc: [0.05    0.05    0.05    0.05045 0.1635  0.695   0.8047  0.8374  0.852\n",
            " 0.859   0.8633 ]\n"
          ]
        },
        {
          "output_type": "stream",
          "name": "stderr",
          "text": [
            " 83%|████████▎ | 49601/60000 [5:03:57<58:24,  2.97it/s]"
          ]
        },
        {
          "output_type": "stream",
          "name": "stdout",
          "text": [
            "step: 49600 \ttraining acc: [0.05       0.05       0.05       0.05208333 0.18458333 0.76125   ]\n"
          ]
        },
        {
          "output_type": "stream",
          "name": "stderr",
          "text": [
            " 83%|████████▎ | 49701/60000 [5:04:30<56:09,  3.06it/s]"
          ]
        },
        {
          "output_type": "stream",
          "name": "stdout",
          "text": [
            "step: 49700 \ttraining acc: [0.05       0.05       0.05       0.050625   0.22854167 0.77375   ]\n"
          ]
        },
        {
          "output_type": "stream",
          "name": "stderr",
          "text": [
            " 83%|████████▎ | 49801/60000 [5:05:03<56:29,  3.01it/s]"
          ]
        },
        {
          "output_type": "stream",
          "name": "stdout",
          "text": [
            "step: 49800 \ttraining acc: [0.05       0.05       0.05       0.05020833 0.13666667 0.77291667]\n"
          ]
        },
        {
          "output_type": "stream",
          "name": "stderr",
          "text": [
            " 83%|████████▎ | 49901/60000 [5:05:37<56:00,  3.01it/s]"
          ]
        },
        {
          "output_type": "stream",
          "name": "stdout",
          "text": [
            "step: 49900 \ttraining acc: [0.05       0.05       0.05       0.05       0.11083333 0.74645833]\n"
          ]
        },
        {
          "output_type": "stream",
          "name": "stderr",
          "text": [
            " 83%|████████▎ | 50000/60000 [5:06:10<55:10,  3.02it/s]"
          ]
        },
        {
          "output_type": "stream",
          "name": "stdout",
          "text": [
            "step: 50000 \ttraining acc: [0.05       0.05       0.05       0.050625   0.22729167 0.77770833]\n"
          ]
        },
        {
          "output_type": "stream",
          "name": "stderr",
          "text": [
            "\r 83%|████████▎ | 50001/60000 [5:06:28<16:00:29,  5.76s/it]"
          ]
        },
        {
          "output_type": "stream",
          "name": "stdout",
          "text": [
            "Test acc: [0.05    0.05    0.05    0.05096 0.1919  0.687   0.7983  0.832   0.846\n",
            " 0.8535  0.8584 ]\n"
          ]
        },
        {
          "output_type": "stream",
          "name": "stderr",
          "text": [
            " 84%|████████▎ | 50101/60000 [5:07:01<54:40,  3.02it/s]"
          ]
        },
        {
          "output_type": "stream",
          "name": "stdout",
          "text": [
            "step: 50100 \ttraining acc: [0.05       0.05       0.05       0.05       0.14041667 0.79541667]\n"
          ]
        },
        {
          "output_type": "stream",
          "name": "stderr",
          "text": [
            " 84%|████████▎ | 50201/60000 [5:07:35<55:04,  2.97it/s]"
          ]
        },
        {
          "output_type": "stream",
          "name": "stdout",
          "text": [
            "step: 50200 \ttraining acc: [0.05     0.05     0.05     0.05     0.234375 0.778125]\n"
          ]
        },
        {
          "output_type": "stream",
          "name": "stderr",
          "text": [
            " 84%|████████▍ | 50301/60000 [5:08:08<53:57,  3.00it/s]"
          ]
        },
        {
          "output_type": "stream",
          "name": "stdout",
          "text": [
            "step: 50300 \ttraining acc: [0.05       0.05       0.05       0.05020833 0.18979167 0.7775    ]\n"
          ]
        },
        {
          "output_type": "stream",
          "name": "stderr",
          "text": [
            " 84%|████████▍ | 50401/60000 [5:08:42<53:43,  2.98it/s]"
          ]
        },
        {
          "output_type": "stream",
          "name": "stdout",
          "text": [
            "step: 50400 \ttraining acc: [0.05       0.05       0.05       0.05125    0.17083333 0.75895833]\n"
          ]
        },
        {
          "output_type": "stream",
          "name": "stderr",
          "text": [
            " 84%|████████▍ | 50500/60000 [5:09:14<52:27,  3.02it/s]"
          ]
        },
        {
          "output_type": "stream",
          "name": "stdout",
          "text": [
            "step: 50500 \ttraining acc: [0.05       0.05       0.05       0.05       0.12416667 0.72770833]\n"
          ]
        },
        {
          "output_type": "stream",
          "name": "stderr",
          "text": [
            "\r 84%|████████▍ | 50501/60000 [5:09:33<15:11:19,  5.76s/it]"
          ]
        },
        {
          "output_type": "stream",
          "name": "stdout",
          "text": [
            "Test acc: [0.05    0.05    0.05    0.05005 0.1295  0.6694  0.7905  0.8267  0.843\n",
            " 0.851   0.8564 ]\n"
          ]
        },
        {
          "output_type": "stream",
          "name": "stderr",
          "text": [
            " 84%|████████▍ | 50601/60000 [5:10:06<53:22,  2.94it/s]"
          ]
        },
        {
          "output_type": "stream",
          "name": "stdout",
          "text": [
            "step: 50600 \ttraining acc: [0.05       0.05       0.05       0.050625   0.28270833 0.80208333]\n"
          ]
        },
        {
          "output_type": "stream",
          "name": "stderr",
          "text": [
            " 85%|████████▍ | 50701/60000 [5:10:40<52:12,  2.97it/s]"
          ]
        },
        {
          "output_type": "stream",
          "name": "stdout",
          "text": [
            "step: 50700 \ttraining acc: [0.05       0.05       0.05       0.05       0.150625   0.79291667]\n"
          ]
        },
        {
          "output_type": "stream",
          "name": "stderr",
          "text": [
            " 85%|████████▍ | 50801/60000 [5:11:13<52:00,  2.95it/s]"
          ]
        },
        {
          "output_type": "stream",
          "name": "stdout",
          "text": [
            "step: 50800 \ttraining acc: [0.05       0.05       0.05       0.05       0.25145833 0.79020833]\n"
          ]
        },
        {
          "output_type": "stream",
          "name": "stderr",
          "text": [
            " 85%|████████▍ | 50901/60000 [5:11:47<50:38,  2.99it/s]"
          ]
        },
        {
          "output_type": "stream",
          "name": "stdout",
          "text": [
            "step: 50900 \ttraining acc: [0.05     0.05     0.05     0.05     0.158125 0.750625]\n"
          ]
        },
        {
          "output_type": "stream",
          "name": "stderr",
          "text": [
            " 85%|████████▌ | 51000/60000 [5:12:20<49:52,  3.01it/s]"
          ]
        },
        {
          "output_type": "stream",
          "name": "stdout",
          "text": [
            "step: 51000 \ttraining acc: [0.05       0.05       0.05       0.05       0.16520833 0.789375  ]\n"
          ]
        },
        {
          "output_type": "stream",
          "name": "stderr",
          "text": [
            "\r 85%|████████▌ | 51001/60000 [5:12:39<14:32:29,  5.82s/it]"
          ]
        },
        {
          "output_type": "stream",
          "name": "stdout",
          "text": [
            "Test acc: [0.05   0.05   0.05   0.0503 0.1426 0.682  0.8013 0.835  0.8496 0.857\n",
            " 0.862 ]\n"
          ]
        },
        {
          "output_type": "stream",
          "name": "stderr",
          "text": [
            " 85%|████████▌ | 51101/60000 [5:13:12<50:11,  2.95it/s]"
          ]
        },
        {
          "output_type": "stream",
          "name": "stdout",
          "text": [
            "step: 51100 \ttraining acc: [0.05       0.05       0.05       0.051875   0.20770833 0.75541667]\n"
          ]
        },
        {
          "output_type": "stream",
          "name": "stderr",
          "text": [
            " 85%|████████▌ | 51201/60000 [5:13:46<49:26,  2.97it/s]"
          ]
        },
        {
          "output_type": "stream",
          "name": "stdout",
          "text": [
            "step: 51200 \ttraining acc: [0.05       0.05       0.05       0.05041667 0.1725     0.77416667]\n"
          ]
        },
        {
          "output_type": "stream",
          "name": "stderr",
          "text": [
            " 86%|████████▌ | 51301/60000 [5:14:20<49:24,  2.93it/s]"
          ]
        },
        {
          "output_type": "stream",
          "name": "stdout",
          "text": [
            "step: 51300 \ttraining acc: [0.05       0.05       0.05       0.05       0.13208333 0.795     ]\n"
          ]
        },
        {
          "output_type": "stream",
          "name": "stderr",
          "text": [
            " 86%|████████▌ | 51401/60000 [5:14:53<48:08,  2.98it/s]"
          ]
        },
        {
          "output_type": "stream",
          "name": "stdout",
          "text": [
            "step: 51400 \ttraining acc: [0.05       0.05       0.05       0.05166667 0.19666667 0.794375  ]\n"
          ]
        },
        {
          "output_type": "stream",
          "name": "stderr",
          "text": [
            " 86%|████████▌ | 51500/60000 [5:15:26<47:52,  2.96it/s]"
          ]
        },
        {
          "output_type": "stream",
          "name": "stdout",
          "text": [
            "step: 51500 \ttraining acc: [0.05       0.05       0.05       0.05       0.18604167 0.7575    ]\n"
          ]
        },
        {
          "output_type": "stream",
          "name": "stderr",
          "text": [
            "\r 86%|████████▌ | 51501/60000 [5:15:45<13:46:29,  5.83s/it]"
          ]
        },
        {
          "output_type": "stream",
          "name": "stdout",
          "text": [
            "Test acc: [0.05    0.05    0.05    0.05023 0.165   0.688   0.8022  0.836   0.8496\n",
            " 0.8564  0.8613 ]\n"
          ]
        },
        {
          "output_type": "stream",
          "name": "stderr",
          "text": [
            " 86%|████████▌ | 51601/60000 [5:16:18<45:55,  3.05it/s]"
          ]
        },
        {
          "output_type": "stream",
          "name": "stdout",
          "text": [
            "step: 51600 \ttraining acc: [0.05       0.05       0.05       0.05125    0.28270833 0.79375   ]\n"
          ]
        },
        {
          "output_type": "stream",
          "name": "stderr",
          "text": [
            " 86%|████████▌ | 51701/60000 [5:16:52<46:03,  3.00it/s]"
          ]
        },
        {
          "output_type": "stream",
          "name": "stdout",
          "text": [
            "step: 51700 \ttraining acc: [0.05       0.05       0.05       0.05041667 0.24166667 0.8025    ]\n"
          ]
        },
        {
          "output_type": "stream",
          "name": "stderr",
          "text": [
            " 86%|████████▋ | 51801/60000 [5:17:25<44:58,  3.04it/s]"
          ]
        },
        {
          "output_type": "stream",
          "name": "stdout",
          "text": [
            "step: 51800 \ttraining acc: [0.05       0.05       0.05       0.05041667 0.17208333 0.79416667]\n"
          ]
        },
        {
          "output_type": "stream",
          "name": "stderr",
          "text": [
            " 87%|████████▋ | 51901/60000 [5:17:58<44:06,  3.06it/s]"
          ]
        },
        {
          "output_type": "stream",
          "name": "stdout",
          "text": [
            "step: 51900 \ttraining acc: [0.05       0.05       0.05       0.05       0.12375    0.78645833]\n"
          ]
        },
        {
          "output_type": "stream",
          "name": "stderr",
          "text": [
            " 87%|████████▋ | 52000/60000 [5:18:31<44:24,  3.00it/s]"
          ]
        },
        {
          "output_type": "stream",
          "name": "stdout",
          "text": [
            "step: 52000 \ttraining acc: [0.05       0.05       0.05       0.05       0.22625    0.80083333]\n"
          ]
        },
        {
          "output_type": "stream",
          "name": "stderr",
          "text": [
            "\r 87%|████████▋ | 52001/60000 [5:18:50<12:50:51,  5.78s/it]"
          ]
        },
        {
          "output_type": "stream",
          "name": "stdout",
          "text": [
            "Test acc: [0.05   0.05   0.05   0.0504 0.1978 0.699  0.806  0.8364 0.85   0.8564\n",
            " 0.8613]\n"
          ]
        },
        {
          "output_type": "stream",
          "name": "stderr",
          "text": [
            " 87%|████████▋ | 52101/60000 [5:19:23<43:11,  3.05it/s]"
          ]
        },
        {
          "output_type": "stream",
          "name": "stdout",
          "text": [
            "step: 52100 \ttraining acc: [0.05       0.05       0.05       0.05020833 0.13604167 0.74208333]\n"
          ]
        },
        {
          "output_type": "stream",
          "name": "stderr",
          "text": [
            " 87%|████████▋ | 52201/60000 [5:19:56<43:11,  3.01it/s]"
          ]
        },
        {
          "output_type": "stream",
          "name": "stdout",
          "text": [
            "step: 52200 \ttraining acc: [0.05       0.05       0.05       0.05       0.20604167 0.80375   ]\n"
          ]
        },
        {
          "output_type": "stream",
          "name": "stderr",
          "text": [
            " 87%|████████▋ | 52301/60000 [5:20:29<42:46,  3.00it/s]"
          ]
        },
        {
          "output_type": "stream",
          "name": "stdout",
          "text": [
            "step: 52300 \ttraining acc: [0.05       0.05       0.05       0.050625   0.16520833 0.745     ]\n"
          ]
        },
        {
          "output_type": "stream",
          "name": "stderr",
          "text": [
            " 87%|████████▋ | 52401/60000 [5:21:03<42:32,  2.98it/s]"
          ]
        },
        {
          "output_type": "stream",
          "name": "stdout",
          "text": [
            "step: 52400 \ttraining acc: [0.05       0.05       0.05       0.051875   0.270625   0.77270833]\n"
          ]
        },
        {
          "output_type": "stream",
          "name": "stderr",
          "text": [
            " 88%|████████▊ | 52500/60000 [5:21:36<41:58,  2.98it/s]"
          ]
        },
        {
          "output_type": "stream",
          "name": "stdout",
          "text": [
            "step: 52500 \ttraining acc: [0.05       0.05       0.05       0.05083333 0.25208333 0.78395833]\n"
          ]
        },
        {
          "output_type": "stream",
          "name": "stderr",
          "text": [
            "\r 88%|████████▊ | 52501/60000 [5:21:54<11:59:45,  5.76s/it]"
          ]
        },
        {
          "output_type": "stream",
          "name": "stdout",
          "text": [
            "Test acc: [0.05   0.05   0.05   0.0509 0.2329 0.698  0.801  0.8306 0.844  0.8506\n",
            " 0.8564]\n"
          ]
        },
        {
          "output_type": "stream",
          "name": "stderr",
          "text": [
            " 88%|████████▊ | 52601/60000 [5:22:27<40:35,  3.04it/s]"
          ]
        },
        {
          "output_type": "stream",
          "name": "stdout",
          "text": [
            "step: 52600 \ttraining acc: [0.05       0.05       0.05       0.05020833 0.18833333 0.77541667]\n"
          ]
        },
        {
          "output_type": "stream",
          "name": "stderr",
          "text": [
            " 88%|████████▊ | 52701/60000 [5:23:00<39:56,  3.05it/s]"
          ]
        },
        {
          "output_type": "stream",
          "name": "stdout",
          "text": [
            "step: 52700 \ttraining acc: [0.05       0.05       0.05       0.05020833 0.21020833 0.78291667]\n"
          ]
        },
        {
          "output_type": "stream",
          "name": "stderr",
          "text": [
            " 88%|████████▊ | 52801/60000 [5:23:33<41:40,  2.88it/s]"
          ]
        },
        {
          "output_type": "stream",
          "name": "stdout",
          "text": [
            "step: 52800 \ttraining acc: [0.05       0.05       0.05       0.05       0.14333333 0.73333333]\n"
          ]
        },
        {
          "output_type": "stream",
          "name": "stderr",
          "text": [
            " 88%|████████▊ | 52901/60000 [5:24:06<38:32,  3.07it/s]"
          ]
        },
        {
          "output_type": "stream",
          "name": "stdout",
          "text": [
            "step: 52900 \ttraining acc: [0.05       0.05       0.05       0.05       0.176875   0.79020833]\n"
          ]
        },
        {
          "output_type": "stream",
          "name": "stderr",
          "text": [
            " 88%|████████▊ | 53000/60000 [5:24:39<38:17,  3.05it/s]"
          ]
        },
        {
          "output_type": "stream",
          "name": "stdout",
          "text": [
            "step: 53000 \ttraining acc: [0.05       0.05       0.05       0.05       0.20125    0.76645833]\n"
          ]
        },
        {
          "output_type": "stream",
          "name": "stderr",
          "text": [
            "\r 88%|████████▊ | 53001/60000 [5:24:57<11:10:12,  5.75s/it]"
          ]
        },
        {
          "output_type": "stream",
          "name": "stdout",
          "text": [
            "Test acc: [0.05    0.05    0.05    0.05054 0.1859  0.6934  0.804   0.8374  0.851\n",
            " 0.8584  0.8623 ]\n"
          ]
        },
        {
          "output_type": "stream",
          "name": "stderr",
          "text": [
            " 89%|████████▊ | 53101/60000 [5:25:30<38:36,  2.98it/s]"
          ]
        },
        {
          "output_type": "stream",
          "name": "stdout",
          "text": [
            "step: 53100 \ttraining acc: [0.05       0.05       0.05       0.06604167 0.51625    0.82979167]\n"
          ]
        },
        {
          "output_type": "stream",
          "name": "stderr",
          "text": [
            " 89%|████████▊ | 53201/60000 [5:26:04<37:51,  2.99it/s]"
          ]
        },
        {
          "output_type": "stream",
          "name": "stdout",
          "text": [
            "step: 53200 \ttraining acc: [0.05     0.05     0.05     0.05     0.155    0.761875]\n"
          ]
        },
        {
          "output_type": "stream",
          "name": "stderr",
          "text": [
            " 89%|████████▉ | 53301/60000 [5:26:37<37:06,  3.01it/s]"
          ]
        },
        {
          "output_type": "stream",
          "name": "stdout",
          "text": [
            "step: 53300 \ttraining acc: [0.05       0.05       0.05       0.05       0.17541667 0.77875   ]\n"
          ]
        },
        {
          "output_type": "stream",
          "name": "stderr",
          "text": [
            " 89%|████████▉ | 53401/60000 [5:27:10<35:57,  3.06it/s]"
          ]
        },
        {
          "output_type": "stream",
          "name": "stdout",
          "text": [
            "step: 53400 \ttraining acc: [0.05       0.05       0.05       0.05520833 0.25479167 0.7625    ]\n"
          ]
        },
        {
          "output_type": "stream",
          "name": "stderr",
          "text": [
            " 89%|████████▉ | 53500/60000 [5:27:42<35:57,  3.01it/s]"
          ]
        },
        {
          "output_type": "stream",
          "name": "stdout",
          "text": [
            "step: 53500 \ttraining acc: [0.05       0.05       0.05       0.05       0.17625    0.75541667]\n"
          ]
        },
        {
          "output_type": "stream",
          "name": "stderr",
          "text": [
            "\r 89%|████████▉ | 53501/60000 [5:28:01<10:22:00,  5.74s/it]"
          ]
        },
        {
          "output_type": "stream",
          "name": "stdout",
          "text": [
            "Test acc: [0.05    0.05    0.05    0.05087 0.181   0.693   0.8022  0.8335  0.8477\n",
            " 0.8545  0.859  ]\n"
          ]
        },
        {
          "output_type": "stream",
          "name": "stderr",
          "text": [
            " 89%|████████▉ | 53601/60000 [5:28:34<34:31,  3.09it/s]"
          ]
        },
        {
          "output_type": "stream",
          "name": "stdout",
          "text": [
            "step: 53600 \ttraining acc: [0.05     0.05     0.05     0.0525   0.185    0.768125]\n"
          ]
        },
        {
          "output_type": "stream",
          "name": "stderr",
          "text": [
            " 90%|████████▉ | 53701/60000 [5:29:07<34:03,  3.08it/s]"
          ]
        },
        {
          "output_type": "stream",
          "name": "stdout",
          "text": [
            "step: 53700 \ttraining acc: [0.05       0.05       0.05       0.05       0.18854167 0.79041667]\n"
          ]
        },
        {
          "output_type": "stream",
          "name": "stderr",
          "text": [
            " 90%|████████▉ | 53801/60000 [5:29:40<34:30,  2.99it/s]"
          ]
        },
        {
          "output_type": "stream",
          "name": "stdout",
          "text": [
            "step: 53800 \ttraining acc: [0.05       0.05       0.05       0.05       0.14333333 0.69833333]\n"
          ]
        },
        {
          "output_type": "stream",
          "name": "stderr",
          "text": [
            " 90%|████████▉ | 53901/60000 [5:30:13<33:57,  2.99it/s]"
          ]
        },
        {
          "output_type": "stream",
          "name": "stdout",
          "text": [
            "step: 53900 \ttraining acc: [0.05       0.05       0.05       0.05208333 0.23291667 0.80916667]\n"
          ]
        },
        {
          "output_type": "stream",
          "name": "stderr",
          "text": [
            " 90%|█████████ | 54000/60000 [5:30:45<33:00,  3.03it/s]"
          ]
        },
        {
          "output_type": "stream",
          "name": "stdout",
          "text": [
            "step: 54000 \ttraining acc: [0.05       0.05       0.05       0.05       0.17333333 0.77458333]\n"
          ]
        },
        {
          "output_type": "stream",
          "name": "stderr",
          "text": [
            "\r 90%|█████████ | 54001/60000 [5:31:04<9:32:23,  5.72s/it]"
          ]
        },
        {
          "output_type": "stream",
          "name": "stdout",
          "text": [
            "Test acc: [0.05    0.05    0.05    0.05142 0.1693  0.6885  0.8003  0.832   0.8467\n",
            " 0.854   0.8584 ]\n"
          ]
        },
        {
          "output_type": "stream",
          "name": "stderr",
          "text": [
            " 90%|█████████ | 54101/60000 [5:31:37<32:11,  3.05it/s]"
          ]
        },
        {
          "output_type": "stream",
          "name": "stdout",
          "text": [
            "step: 54100 \ttraining acc: [0.05       0.05       0.05       0.05145833 0.260625   0.76145833]\n"
          ]
        },
        {
          "output_type": "stream",
          "name": "stderr",
          "text": [
            " 90%|█████████ | 54201/60000 [5:32:10<31:47,  3.04it/s]"
          ]
        },
        {
          "output_type": "stream",
          "name": "stdout",
          "text": [
            "step: 54200 \ttraining acc: [0.05       0.05       0.05       0.053125   0.18833333 0.73875   ]\n"
          ]
        },
        {
          "output_type": "stream",
          "name": "stderr",
          "text": [
            " 91%|█████████ | 54301/60000 [5:32:43<31:05,  3.06it/s]"
          ]
        },
        {
          "output_type": "stream",
          "name": "stdout",
          "text": [
            "step: 54300 \ttraining acc: [0.05       0.05       0.05       0.05020833 0.16520833 0.75541667]\n"
          ]
        },
        {
          "output_type": "stream",
          "name": "stderr",
          "text": [
            " 91%|█████████ | 54401/60000 [5:33:16<30:48,  3.03it/s]"
          ]
        },
        {
          "output_type": "stream",
          "name": "stdout",
          "text": [
            "step: 54400 \ttraining acc: [0.05       0.05       0.05       0.05       0.164375   0.77583333]\n"
          ]
        },
        {
          "output_type": "stream",
          "name": "stderr",
          "text": [
            " 91%|█████████ | 54500/60000 [5:33:49<30:00,  3.06it/s]"
          ]
        },
        {
          "output_type": "stream",
          "name": "stdout",
          "text": [
            "step: 54500 \ttraining acc: [0.05       0.05       0.05       0.05       0.135625   0.73583333]\n"
          ]
        },
        {
          "output_type": "stream",
          "name": "stderr",
          "text": [
            "\r 91%|█████████ | 54501/60000 [5:34:07<8:46:32,  5.75s/it]"
          ]
        },
        {
          "output_type": "stream",
          "name": "stdout",
          "text": [
            "Test acc: [0.05    0.05    0.05    0.05002 0.11224 0.6675  0.7915  0.829   0.8447\n",
            " 0.8535  0.8584 ]\n"
          ]
        },
        {
          "output_type": "stream",
          "name": "stderr",
          "text": [
            " 91%|█████████ | 54601/60000 [5:34:40<30:16,  2.97it/s]"
          ]
        },
        {
          "output_type": "stream",
          "name": "stdout",
          "text": [
            "step: 54600 \ttraining acc: [0.05       0.05       0.05       0.050625   0.22       0.80145833]\n"
          ]
        },
        {
          "output_type": "stream",
          "name": "stderr",
          "text": [
            " 91%|█████████ | 54701/60000 [5:35:13<29:24,  3.00it/s]"
          ]
        },
        {
          "output_type": "stream",
          "name": "stdout",
          "text": [
            "step: 54700 \ttraining acc: [0.05       0.05       0.05       0.05145833 0.17416667 0.7925    ]\n"
          ]
        },
        {
          "output_type": "stream",
          "name": "stderr",
          "text": [
            " 91%|█████████▏| 54801/60000 [5:35:46<29:09,  2.97it/s]"
          ]
        },
        {
          "output_type": "stream",
          "name": "stdout",
          "text": [
            "step: 54800 \ttraining acc: [0.05       0.05       0.05       0.050625   0.18395833 0.76041667]\n"
          ]
        },
        {
          "output_type": "stream",
          "name": "stderr",
          "text": [
            " 92%|█████████▏| 54901/60000 [5:36:19<28:42,  2.96it/s]"
          ]
        },
        {
          "output_type": "stream",
          "name": "stdout",
          "text": [
            "step: 54900 \ttraining acc: [0.05       0.05       0.05       0.05270833 0.246875   0.7875    ]\n"
          ]
        },
        {
          "output_type": "stream",
          "name": "stderr",
          "text": [
            " 92%|█████████▏| 55000/60000 [5:36:52<27:07,  3.07it/s]"
          ]
        },
        {
          "output_type": "stream",
          "name": "stdout",
          "text": [
            "step: 55000 \ttraining acc: [0.05       0.05       0.05       0.05083333 0.15291667 0.78645833]\n"
          ]
        },
        {
          "output_type": "stream",
          "name": "stderr",
          "text": [
            "\r 92%|█████████▏| 55001/60000 [5:37:10<7:56:35,  5.72s/it]"
          ]
        },
        {
          "output_type": "stream",
          "name": "stdout",
          "text": [
            "Test acc: [0.05   0.05   0.05   0.0501 0.1361 0.6787 0.796  0.831  0.845  0.8545\n",
            " 0.8584]\n"
          ]
        },
        {
          "output_type": "stream",
          "name": "stderr",
          "text": [
            " 92%|█████████▏| 55101/60000 [5:37:43<26:56,  3.03it/s]"
          ]
        },
        {
          "output_type": "stream",
          "name": "stdout",
          "text": [
            "step: 55100 \ttraining acc: [0.05       0.05       0.05       0.05       0.17729167 0.77708333]\n"
          ]
        },
        {
          "output_type": "stream",
          "name": "stderr",
          "text": [
            " 92%|█████████▏| 55201/60000 [5:38:16<26:15,  3.05it/s]"
          ]
        },
        {
          "output_type": "stream",
          "name": "stdout",
          "text": [
            "step: 55200 \ttraining acc: [0.05     0.05     0.05     0.050625 0.19625  0.799375]\n"
          ]
        },
        {
          "output_type": "stream",
          "name": "stderr",
          "text": [
            " 92%|█████████▏| 55301/60000 [5:38:49<25:38,  3.05it/s]"
          ]
        },
        {
          "output_type": "stream",
          "name": "stdout",
          "text": [
            "step: 55300 \ttraining acc: [0.05       0.05       0.05       0.050625   0.22291667 0.77041667]\n"
          ]
        },
        {
          "output_type": "stream",
          "name": "stderr",
          "text": [
            " 92%|█████████▏| 55401/60000 [5:39:22<25:12,  3.04it/s]"
          ]
        },
        {
          "output_type": "stream",
          "name": "stdout",
          "text": [
            "step: 55400 \ttraining acc: [0.05       0.05       0.05       0.05       0.16541667 0.8125    ]\n"
          ]
        },
        {
          "output_type": "stream",
          "name": "stderr",
          "text": [
            " 92%|█████████▎| 55500/60000 [5:39:55<24:28,  3.07it/s]"
          ]
        },
        {
          "output_type": "stream",
          "name": "stdout",
          "text": [
            "step: 55500 \ttraining acc: [0.05    0.05    0.05    0.05125 0.255   0.8125 ]\n"
          ]
        },
        {
          "output_type": "stream",
          "name": "stderr",
          "text": [
            "\r 93%|█████████▎| 55501/60000 [5:40:13<7:09:56,  5.73s/it]"
          ]
        },
        {
          "output_type": "stream",
          "name": "stdout",
          "text": [
            "Test acc: [0.05   0.05   0.05   0.0526 0.2361 0.7007 0.8    0.831  0.8447 0.8516\n",
            " 0.857 ]\n"
          ]
        },
        {
          "output_type": "stream",
          "name": "stderr",
          "text": [
            " 93%|█████████▎| 55601/60000 [5:40:46<24:28,  3.00it/s]"
          ]
        },
        {
          "output_type": "stream",
          "name": "stdout",
          "text": [
            "step: 55600 \ttraining acc: [0.05       0.05       0.05       0.05145833 0.20458333 0.809375  ]\n"
          ]
        },
        {
          "output_type": "stream",
          "name": "stderr",
          "text": [
            " 93%|█████████▎| 55701/60000 [5:41:19<23:59,  2.99it/s]"
          ]
        },
        {
          "output_type": "stream",
          "name": "stdout",
          "text": [
            "step: 55700 \ttraining acc: [0.05       0.05       0.05       0.05104167 0.209375   0.78583333]\n"
          ]
        },
        {
          "output_type": "stream",
          "name": "stderr",
          "text": [
            " 93%|█████████▎| 55801/60000 [5:41:52<22:59,  3.04it/s]"
          ]
        },
        {
          "output_type": "stream",
          "name": "stdout",
          "text": [
            "step: 55800 \ttraining acc: [0.05       0.05       0.05       0.05       0.15083333 0.763125  ]\n"
          ]
        },
        {
          "output_type": "stream",
          "name": "stderr",
          "text": [
            " 93%|█████████▎| 55901/60000 [5:42:25<22:20,  3.06it/s]"
          ]
        },
        {
          "output_type": "stream",
          "name": "stdout",
          "text": [
            "step: 55900 \ttraining acc: [0.05       0.05       0.05       0.05       0.18458333 0.785     ]\n"
          ]
        },
        {
          "output_type": "stream",
          "name": "stderr",
          "text": [
            " 93%|█████████▎| 56000/60000 [5:42:58<21:54,  3.04it/s]"
          ]
        },
        {
          "output_type": "stream",
          "name": "stdout",
          "text": [
            "step: 56000 \ttraining acc: [0.05       0.05       0.05       0.05       0.19916667 0.80729167]\n"
          ]
        },
        {
          "output_type": "stream",
          "name": "stderr",
          "text": [
            "\r 93%|█████████▎| 56001/60000 [5:43:16<6:21:58,  5.73s/it]"
          ]
        },
        {
          "output_type": "stream",
          "name": "stdout",
          "text": [
            "Test acc: [0.05   0.05   0.05   0.0501 0.1809 0.6963 0.803  0.8374 0.8506 0.8574\n",
            " 0.8613]\n"
          ]
        },
        {
          "output_type": "stream",
          "name": "stderr",
          "text": [
            " 94%|█████████▎| 56101/60000 [5:43:49<21:21,  3.04it/s]"
          ]
        },
        {
          "output_type": "stream",
          "name": "stdout",
          "text": [
            "step: 56100 \ttraining acc: [0.05       0.05       0.05       0.05145833 0.1475     0.771875  ]\n"
          ]
        },
        {
          "output_type": "stream",
          "name": "stderr",
          "text": [
            " 94%|█████████▎| 56201/60000 [5:44:23<21:21,  2.96it/s]"
          ]
        },
        {
          "output_type": "stream",
          "name": "stdout",
          "text": [
            "step: 56200 \ttraining acc: [0.05       0.05       0.05       0.050625   0.14041667 0.75458333]\n"
          ]
        },
        {
          "output_type": "stream",
          "name": "stderr",
          "text": [
            " 94%|█████████▍| 56301/60000 [5:44:56<20:34,  3.00it/s]"
          ]
        },
        {
          "output_type": "stream",
          "name": "stdout",
          "text": [
            "step: 56300 \ttraining acc: [0.05       0.05       0.05       0.05395833 0.25958333 0.78979167]\n"
          ]
        },
        {
          "output_type": "stream",
          "name": "stderr",
          "text": [
            " 94%|█████████▍| 56401/60000 [5:45:29<20:02,  2.99it/s]"
          ]
        },
        {
          "output_type": "stream",
          "name": "stdout",
          "text": [
            "step: 56400 \ttraining acc: [0.05       0.05       0.05       0.05104167 0.21833333 0.768125  ]\n"
          ]
        },
        {
          "output_type": "stream",
          "name": "stderr",
          "text": [
            " 94%|█████████▍| 56500/60000 [5:46:01<19:08,  3.05it/s]"
          ]
        },
        {
          "output_type": "stream",
          "name": "stdout",
          "text": [
            "step: 56500 \ttraining acc: [0.05       0.05       0.05       0.05       0.17458333 0.79645833]\n"
          ]
        },
        {
          "output_type": "stream",
          "name": "stderr",
          "text": [
            "\r 94%|█████████▍| 56501/60000 [5:46:20<5:32:51,  5.71s/it]"
          ]
        },
        {
          "output_type": "stream",
          "name": "stdout",
          "text": [
            "Test acc: [0.05    0.05    0.05    0.05035 0.1619  0.68    0.793   0.8276  0.8423\n",
            " 0.85    0.856  ]\n"
          ]
        },
        {
          "output_type": "stream",
          "name": "stderr",
          "text": [
            " 94%|█████████▍| 56601/60000 [5:46:53<18:48,  3.01it/s]"
          ]
        },
        {
          "output_type": "stream",
          "name": "stdout",
          "text": [
            "step: 56600 \ttraining acc: [0.05       0.05       0.05       0.05020833 0.20583333 0.79      ]\n"
          ]
        },
        {
          "output_type": "stream",
          "name": "stderr",
          "text": [
            " 95%|█████████▍| 56701/60000 [5:47:26<17:59,  3.06it/s]"
          ]
        },
        {
          "output_type": "stream",
          "name": "stdout",
          "text": [
            "step: 56700 \ttraining acc: [0.05       0.05       0.05       0.05041667 0.199375   0.75916667]\n"
          ]
        },
        {
          "output_type": "stream",
          "name": "stderr",
          "text": [
            " 95%|█████████▍| 56801/60000 [5:47:59<17:27,  3.06it/s]"
          ]
        },
        {
          "output_type": "stream",
          "name": "stdout",
          "text": [
            "step: 56800 \ttraining acc: [0.05       0.05       0.05       0.05       0.17479167 0.76729167]\n"
          ]
        },
        {
          "output_type": "stream",
          "name": "stderr",
          "text": [
            " 95%|█████████▍| 56901/60000 [5:48:32<16:57,  3.05it/s]"
          ]
        },
        {
          "output_type": "stream",
          "name": "stdout",
          "text": [
            "step: 56900 \ttraining acc: [0.05       0.05       0.05       0.05083333 0.17083333 0.75729167]\n"
          ]
        },
        {
          "output_type": "stream",
          "name": "stderr",
          "text": [
            " 95%|█████████▌| 57000/60000 [5:49:05<16:26,  3.04it/s]"
          ]
        },
        {
          "output_type": "stream",
          "name": "stdout",
          "text": [
            "step: 57000 \ttraining acc: [0.05       0.05       0.05       0.05       0.12479167 0.775     ]\n"
          ]
        },
        {
          "output_type": "stream",
          "name": "stderr",
          "text": [
            "\r 95%|█████████▌| 57001/60000 [5:49:23<4:49:09,  5.78s/it]"
          ]
        },
        {
          "output_type": "stream",
          "name": "stdout",
          "text": [
            "Test acc: [0.05    0.05    0.05    0.05    0.10956 0.6685  0.7964  0.8345  0.85\n",
            " 0.8574  0.8623 ]\n"
          ]
        },
        {
          "output_type": "stream",
          "name": "stderr",
          "text": [
            " 95%|█████████▌| 57101/60000 [5:49:56<16:03,  3.01it/s]"
          ]
        },
        {
          "output_type": "stream",
          "name": "stdout",
          "text": [
            "step: 57100 \ttraining acc: [0.05       0.05       0.05       0.05083333 0.15708333 0.78708333]\n"
          ]
        },
        {
          "output_type": "stream",
          "name": "stderr",
          "text": [
            " 95%|█████████▌| 57201/60000 [5:50:29<15:32,  3.00it/s]"
          ]
        },
        {
          "output_type": "stream",
          "name": "stdout",
          "text": [
            "step: 57200 \ttraining acc: [0.05    0.05    0.05    0.05    0.175   0.79375]\n"
          ]
        },
        {
          "output_type": "stream",
          "name": "stderr",
          "text": [
            " 96%|█████████▌| 57301/60000 [5:51:02<14:53,  3.02it/s]"
          ]
        },
        {
          "output_type": "stream",
          "name": "stdout",
          "text": [
            "step: 57300 \ttraining acc: [0.05       0.05       0.05       0.05104167 0.148125   0.79354167]\n"
          ]
        },
        {
          "output_type": "stream",
          "name": "stderr",
          "text": [
            " 96%|█████████▌| 57401/60000 [5:51:35<14:19,  3.02it/s]"
          ]
        },
        {
          "output_type": "stream",
          "name": "stdout",
          "text": [
            "step: 57400 \ttraining acc: [0.05       0.05       0.05       0.05020833 0.134375   0.75770833]\n"
          ]
        },
        {
          "output_type": "stream",
          "name": "stderr",
          "text": [
            " 96%|█████████▌| 57500/60000 [5:52:08<13:39,  3.05it/s]"
          ]
        },
        {
          "output_type": "stream",
          "name": "stdout",
          "text": [
            "step: 57500 \ttraining acc: [0.05       0.05       0.05       0.05104167 0.26270833 0.79958333]\n"
          ]
        },
        {
          "output_type": "stream",
          "name": "stderr",
          "text": [
            "\r 96%|█████████▌| 57501/60000 [5:52:26<4:01:12,  5.79s/it]"
          ]
        },
        {
          "output_type": "stream",
          "name": "stdout",
          "text": [
            "Test acc: [0.05   0.05   0.05   0.0506 0.2181 0.6973 0.8022 0.832  0.847  0.854\n",
            " 0.8584]\n"
          ]
        },
        {
          "output_type": "stream",
          "name": "stderr",
          "text": [
            " 96%|█████████▌| 57601/60000 [5:52:59<13:07,  3.05it/s]"
          ]
        },
        {
          "output_type": "stream",
          "name": "stdout",
          "text": [
            "step: 57600 \ttraining acc: [0.05       0.05       0.05       0.05020833 0.17229167 0.76166667]\n"
          ]
        },
        {
          "output_type": "stream",
          "name": "stderr",
          "text": [
            " 96%|█████████▌| 57701/60000 [5:53:32<12:28,  3.07it/s]"
          ]
        },
        {
          "output_type": "stream",
          "name": "stdout",
          "text": [
            "step: 57700 \ttraining acc: [0.05       0.05       0.05       0.05       0.18666667 0.76104167]\n"
          ]
        },
        {
          "output_type": "stream",
          "name": "stderr",
          "text": [
            " 96%|█████████▋| 57801/60000 [5:54:06<12:05,  3.03it/s]"
          ]
        },
        {
          "output_type": "stream",
          "name": "stdout",
          "text": [
            "step: 57800 \ttraining acc: [0.05       0.05       0.05       0.05208333 0.3        0.78479167]\n"
          ]
        },
        {
          "output_type": "stream",
          "name": "stderr",
          "text": [
            " 97%|█████████▋| 57901/60000 [5:54:39<11:33,  3.03it/s]"
          ]
        },
        {
          "output_type": "stream",
          "name": "stdout",
          "text": [
            "step: 57900 \ttraining acc: [0.05       0.05       0.05       0.05395833 0.24916667 0.80270833]\n"
          ]
        },
        {
          "output_type": "stream",
          "name": "stderr",
          "text": [
            " 97%|█████████▋| 58000/60000 [5:55:11<11:06,  3.00it/s]"
          ]
        },
        {
          "output_type": "stream",
          "name": "stdout",
          "text": [
            "step: 58000 \ttraining acc: [0.05       0.05       0.05       0.05020833 0.21291667 0.78020833]\n"
          ]
        },
        {
          "output_type": "stream",
          "name": "stderr",
          "text": [
            "\r 97%|█████████▋| 58001/60000 [5:55:30<3:10:41,  5.72s/it]"
          ]
        },
        {
          "output_type": "stream",
          "name": "stdout",
          "text": [
            "Test acc: [0.05    0.05    0.05    0.05057 0.1647  0.6807  0.7983  0.832   0.8457\n",
            " 0.853   0.858  ]\n"
          ]
        },
        {
          "output_type": "stream",
          "name": "stderr",
          "text": [
            " 97%|█████████▋| 58101/60000 [5:56:03<10:20,  3.06it/s]"
          ]
        },
        {
          "output_type": "stream",
          "name": "stdout",
          "text": [
            "step: 58100 \ttraining acc: [0.05       0.05       0.05       0.05       0.108125   0.71979167]\n"
          ]
        },
        {
          "output_type": "stream",
          "name": "stderr",
          "text": [
            " 97%|█████████▋| 58201/60000 [5:56:36<09:43,  3.08it/s]"
          ]
        },
        {
          "output_type": "stream",
          "name": "stdout",
          "text": [
            "step: 58200 \ttraining acc: [0.05       0.05       0.05       0.05       0.11479167 0.77166667]\n"
          ]
        },
        {
          "output_type": "stream",
          "name": "stderr",
          "text": [
            " 97%|█████████▋| 58301/60000 [5:57:09<09:15,  3.06it/s]"
          ]
        },
        {
          "output_type": "stream",
          "name": "stdout",
          "text": [
            "step: 58300 \ttraining acc: [0.05     0.05     0.05     0.05     0.145625 0.789375]\n"
          ]
        },
        {
          "output_type": "stream",
          "name": "stderr",
          "text": [
            " 97%|█████████▋| 58401/60000 [5:57:42<08:44,  3.05it/s]"
          ]
        },
        {
          "output_type": "stream",
          "name": "stdout",
          "text": [
            "step: 58400 \ttraining acc: [0.05       0.05       0.05       0.05041667 0.18604167 0.77041667]\n"
          ]
        },
        {
          "output_type": "stream",
          "name": "stderr",
          "text": [
            " 98%|█████████▊| 58500/60000 [5:58:14<08:13,  3.04it/s]"
          ]
        },
        {
          "output_type": "stream",
          "name": "stdout",
          "text": [
            "step: 58500 \ttraining acc: [0.05       0.05       0.05       0.05       0.20541667 0.783125  ]\n"
          ]
        },
        {
          "output_type": "stream",
          "name": "stderr",
          "text": [
            "\r 98%|█████████▊| 58501/60000 [5:58:33<2:23:42,  5.75s/it]"
          ]
        },
        {
          "output_type": "stream",
          "name": "stdout",
          "text": [
            "Test acc: [0.05    0.05    0.05    0.05014 0.1807  0.68    0.796   0.832   0.846\n",
            " 0.8545  0.859  ]\n"
          ]
        },
        {
          "output_type": "stream",
          "name": "stderr",
          "text": [
            " 98%|█████████▊| 58601/60000 [5:59:06<07:42,  3.02it/s]"
          ]
        },
        {
          "output_type": "stream",
          "name": "stdout",
          "text": [
            "step: 58600 \ttraining acc: [0.05       0.05       0.05       0.05166667 0.17833333 0.75895833]\n"
          ]
        },
        {
          "output_type": "stream",
          "name": "stderr",
          "text": [
            " 98%|█████████▊| 58701/60000 [5:59:39<07:15,  2.98it/s]"
          ]
        },
        {
          "output_type": "stream",
          "name": "stdout",
          "text": [
            "step: 58700 \ttraining acc: [0.05       0.05       0.05       0.05166667 0.291875   0.79770833]\n"
          ]
        },
        {
          "output_type": "stream",
          "name": "stderr",
          "text": [
            " 98%|█████████▊| 58801/60000 [6:00:12<06:40,  3.00it/s]"
          ]
        },
        {
          "output_type": "stream",
          "name": "stdout",
          "text": [
            "step: 58800 \ttraining acc: [0.05       0.05       0.05       0.05166667 0.25375    0.77604167]\n"
          ]
        },
        {
          "output_type": "stream",
          "name": "stderr",
          "text": [
            " 98%|█████████▊| 58901/60000 [6:00:45<06:04,  3.02it/s]"
          ]
        },
        {
          "output_type": "stream",
          "name": "stdout",
          "text": [
            "step: 58900 \ttraining acc: [0.05       0.05       0.05       0.050625   0.14833333 0.77145833]\n"
          ]
        },
        {
          "output_type": "stream",
          "name": "stderr",
          "text": [
            " 98%|█████████▊| 59000/60000 [6:01:18<05:32,  3.01it/s]"
          ]
        },
        {
          "output_type": "stream",
          "name": "stdout",
          "text": [
            "step: 59000 \ttraining acc: [0.05       0.05       0.05       0.05020833 0.19458333 0.81729167]\n"
          ]
        },
        {
          "output_type": "stream",
          "name": "stderr",
          "text": [
            "\r 98%|█████████▊| 59001/60000 [6:01:36<1:36:03,  5.77s/it]"
          ]
        },
        {
          "output_type": "stream",
          "name": "stdout",
          "text": [
            "Test acc: [0.05    0.05    0.05    0.05078 0.1775  0.7017  0.8076  0.8384  0.852\n",
            " 0.8574  0.862  ]\n"
          ]
        },
        {
          "output_type": "stream",
          "name": "stderr",
          "text": [
            " 99%|█████████▊| 59101/60000 [6:02:10<04:53,  3.07it/s]"
          ]
        },
        {
          "output_type": "stream",
          "name": "stdout",
          "text": [
            "step: 59100 \ttraining acc: [0.05       0.05       0.05       0.05       0.17416667 0.78645833]\n"
          ]
        },
        {
          "output_type": "stream",
          "name": "stderr",
          "text": [
            " 99%|█████████▊| 59201/60000 [6:02:43<04:22,  3.04it/s]"
          ]
        },
        {
          "output_type": "stream",
          "name": "stdout",
          "text": [
            "step: 59200 \ttraining acc: [0.05       0.05       0.05       0.05020833 0.205625   0.780625  ]\n"
          ]
        },
        {
          "output_type": "stream",
          "name": "stderr",
          "text": [
            " 99%|█████████▉| 59301/60000 [6:03:16<03:50,  3.04it/s]"
          ]
        },
        {
          "output_type": "stream",
          "name": "stdout",
          "text": [
            "step: 59300 \ttraining acc: [0.05       0.05       0.05       0.05020833 0.16958333 0.77083333]\n"
          ]
        },
        {
          "output_type": "stream",
          "name": "stderr",
          "text": [
            " 99%|█████████▉| 59401/60000 [6:03:49<03:16,  3.04it/s]"
          ]
        },
        {
          "output_type": "stream",
          "name": "stdout",
          "text": [
            "step: 59400 \ttraining acc: [0.05       0.05       0.05       0.05020833 0.14708333 0.771875  ]\n"
          ]
        },
        {
          "output_type": "stream",
          "name": "stderr",
          "text": [
            " 99%|█████████▉| 59500/60000 [6:04:22<02:46,  3.00it/s]"
          ]
        },
        {
          "output_type": "stream",
          "name": "stdout",
          "text": [
            "step: 59500 \ttraining acc: [0.05       0.05       0.05       0.05       0.226875   0.78208333]\n"
          ]
        },
        {
          "output_type": "stream",
          "name": "stderr",
          "text": [
            "\r 99%|█████████▉| 59501/60000 [6:04:40<47:44,  5.74s/it]"
          ]
        },
        {
          "output_type": "stream",
          "name": "stdout",
          "text": [
            "Test acc: [0.05    0.05    0.05    0.05072 0.2084  0.684   0.7935  0.8276  0.843\n",
            " 0.85    0.855  ]\n"
          ]
        },
        {
          "output_type": "stream",
          "name": "stderr",
          "text": [
            " 99%|█████████▉| 59601/60000 [6:05:13<02:11,  3.04it/s]"
          ]
        },
        {
          "output_type": "stream",
          "name": "stdout",
          "text": [
            "step: 59600 \ttraining acc: [0.05       0.05       0.05       0.05       0.20125    0.80166667]\n"
          ]
        },
        {
          "output_type": "stream",
          "name": "stderr",
          "text": [
            "100%|█████████▉| 59701/60000 [6:05:46<01:39,  3.02it/s]"
          ]
        },
        {
          "output_type": "stream",
          "name": "stdout",
          "text": [
            "step: 59700 \ttraining acc: [0.05       0.05       0.05       0.05       0.161875   0.80583333]\n"
          ]
        },
        {
          "output_type": "stream",
          "name": "stderr",
          "text": [
            "100%|█████████▉| 59801/60000 [6:06:19<01:04,  3.07it/s]"
          ]
        },
        {
          "output_type": "stream",
          "name": "stdout",
          "text": [
            "step: 59800 \ttraining acc: [0.05       0.05       0.05       0.05       0.16       0.74604167]\n"
          ]
        },
        {
          "output_type": "stream",
          "name": "stderr",
          "text": [
            "100%|█████████▉| 59901/60000 [6:06:52<00:32,  3.06it/s]"
          ]
        },
        {
          "output_type": "stream",
          "name": "stdout",
          "text": [
            "step: 59900 \ttraining acc: [0.05       0.05       0.05       0.05041667 0.18083333 0.78166667]\n"
          ]
        },
        {
          "output_type": "stream",
          "name": "stderr",
          "text": [
            "100%|██████████| 60000/60000 [6:07:25<00:00,  2.72it/s]\n"
          ]
        }
      ]
    },
    {
      "cell_type": "code",
      "source": [
        "        accs_total = []\n",
        "        accs = []\n",
        "        for _ in tqdm(range(1692)):\n",
        "            # test\n",
        "            x_spt, y_spt, x_qry, y_qry = db_train.next('test')\n",
        "            # x_spt, y_spt, x_qry, y_qry = torch.from_numpy(x_spt).to(device), torch.from_numpy(y_spt).to(device), \\\n",
        "            #                              torch.from_numpy(x_qry).to(device), torch.from_numpy(y_qry).to(device)\n",
        "\n",
        "            # split to single task each time\n",
        "            for x_spt_one, y_spt_one, x_qry_one, y_qry_one in zip(x_spt, y_spt, x_qry, y_qry):\n",
        "                test_acc = maml.finetunning(x_spt_one.to(device), y_spt_one.to(device), x_qry_one.to(device), y_qry_one.to(device))\n",
        "                accs.append( test_acc )\n",
        "                accs_total.append( test_acc )\n",
        "\n",
        "        # [b, update_step+1]\n",
        "        accs = np.array(accs).mean(axis=0).astype(np.float16)\n",
        "        print('Test acc:', accs)"
      ],
      "metadata": {
        "colab": {
          "base_uri": "https://localhost:8080/"
        },
        "id": "hAOxl4ArR_t0",
        "outputId": "88dd77a6-f92b-4664-c901-584dd72628ff"
      },
      "execution_count": null,
      "outputs": [
        {
          "output_type": "stream",
          "name": "stderr",
          "text": [
            "100%|██████████| 1692/1692 [16:22<00:00,  1.72it/s]"
          ]
        },
        {
          "output_type": "stream",
          "name": "stdout",
          "text": [
            "Test acc: [0.05   0.05   0.05   0.0503 0.1516 0.683  0.7974 0.831  0.8457 0.853\n",
            " 0.858 ]\n"
          ]
        },
        {
          "output_type": "stream",
          "name": "stderr",
          "text": [
            "\n"
          ]
        }
      ]
    },
    {
      "cell_type": "code",
      "source": [
        "# [0.1998, 0.8027, 0.85, 0.8643, 0.8716, 0.875,  0.8774, 0.8794, 0.881,  0.8823, 0.8833] # 5w1s\n",
        "# [0.2001, 0.878,  0.931,  0.9424, 0.9478, 0.9497, 0.9507, 0.9507, 0.951,  0.9517, 0.9517] # 5w5s\n",
        "# [0.05,    0.06854, 0.05115, 0.0706,  0.2006,  0.5796,  0.654,   0.6816,  0.694, 0.7017,  0.7065] 20w1s\n",
        "# [0.05   0.05   0.05   0.0503 0.1516 0.683  0.7974 0.831  0.8457 0.853 0.858 ] 20w5s"
      ],
      "metadata": {
        "id": "ut7PdPj6SX9h"
      },
      "execution_count": null,
      "outputs": []
    },
    {
      "cell_type": "code",
      "source": [],
      "metadata": {
        "id": "kAQbAuH0apV6"
      },
      "execution_count": null,
      "outputs": []
    }
  ]
}